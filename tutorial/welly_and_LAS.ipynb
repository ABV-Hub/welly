{
 "cells": [
  {
   "cell_type": "markdown",
   "metadata": {},
   "source": [
    "## Welly and LAS files\n",
    "\n",
    "Some preliminaries..."
   ]
  },
  {
   "cell_type": "code",
   "execution_count": 1,
   "metadata": {
    "collapsed": false
   },
   "outputs": [
    {
     "data": {
      "text/plain": [
       "'0.1.0'"
      ]
     },
     "execution_count": 1,
     "metadata": {},
     "output_type": "execute_result"
    }
   ],
   "source": [
    "import numpy as np\n",
    "import matplotlib.pyplot as plt\n",
    "%matplotlib inline\n",
    "import welly\n",
    "welly.__version__"
   ]
  },
  {
   "cell_type": "code",
   "execution_count": 2,
   "metadata": {
    "collapsed": false
   },
   "outputs": [],
   "source": [
    "import os\n",
    "env = %env"
   ]
  },
  {
   "cell_type": "markdown",
   "metadata": {},
   "source": [
    "## Load a well from LAS\n",
    "\n",
    "Use the `from_las()` method to load a well by passing a filename as a `str`. \n",
    "\n",
    "This is really just a wrapper for `lasio` but instantiates a `Header`, `Curve`s, etc."
   ]
  },
  {
   "cell_type": "code",
   "execution_count": 3,
   "metadata": {
    "collapsed": false
   },
   "outputs": [],
   "source": [
    "from welly import Well"
   ]
  },
  {
   "cell_type": "code",
   "execution_count": 4,
   "metadata": {
    "collapsed": false
   },
   "outputs": [],
   "source": [
    "w = Well.from_las('P-129_out.LAS')"
   ]
  },
  {
   "cell_type": "code",
   "execution_count": 38,
   "metadata": {
    "collapsed": false,
    "scrolled": true
   },
   "outputs": [],
   "source": [
    "b = gr.block()"
   ]
  },
  {
   "cell_type": "code",
   "execution_count": 36,
   "metadata": {
    "collapsed": false
   },
   "outputs": [
    {
     "name": "stdout",
     "output_type": "stream",
     "text": [
      "wer\n"
     ]
    }
   ],
   "source": [
    "if np.amax(b) == 2: print('wer')"
   ]
  },
  {
   "cell_type": "code",
   "execution_count": 40,
   "metadata": {
    "collapsed": false
   },
   "outputs": [],
   "source": [
    "b = gr.block(cutoffs=[50, 100], values=[12, 24, 36])"
   ]
  },
  {
   "cell_type": "code",
   "execution_count": 44,
   "metadata": {
    "collapsed": false
   },
   "outputs": [
    {
     "data": {
      "text/html": [
       "Curve(25.077527913193897)"
      ],
      "text/plain": [
       "Curve(25.077527913193897)"
      ]
     },
     "execution_count": 44,
     "metadata": {},
     "output_type": "execute_result"
    }
   ],
   "source": [
    "b.mean()"
   ]
  },
  {
   "cell_type": "code",
   "execution_count": 27,
   "metadata": {
    "collapsed": false
   },
   "outputs": [
    {
     "data": {
      "text/plain": [
       "array([  91.29946709,  109.4141766 ,   64.55931458])"
      ]
     },
     "execution_count": 27,
     "metadata": {},
     "output_type": "execute_result"
    }
   ],
   "source": [
    "gr.read_at([500, 1000, 1500])"
   ]
  },
  {
   "cell_type": "code",
   "execution_count": 16,
   "metadata": {
    "collapsed": false
   },
   "outputs": [],
   "source": [
    "x = gr.to_basis(start=100, stop=200, step=1)"
   ]
  },
  {
   "cell_type": "code",
   "execution_count": 20,
   "metadata": {
    "collapsed": false
   },
   "outputs": [],
   "source": [
    "y = gr.to_basis_like(x)"
   ]
  },
  {
   "cell_type": "code",
   "execution_count": 23,
   "metadata": {
    "collapsed": false
   },
   "outputs": [
    {
     "name": "stdout",
     "output_type": "stream",
     "text": [
      "<table><tr><th style=\"text-align:center;\" colspan=\"2\">GR [gAPI]</th></tr><tr><td style=\"text-align:center;\" colspan=\"2\">100.0000 : 201.0000 : 1.0000</td></tr><tr><td><strong>description</strong></td><td>Gamma-Ray</td></tr><tr><td><strong>code</strong></td><td></td></tr><tr><td><strong>null</strong></td><td>-999.25</td></tr><tr><td><strong>service_company</strong></td><td>Schlumberger</td></tr><tr><td><strong>run</strong></td><td>1</td></tr><tr><td><strong>date</strong></td><td>10-Oct-2007</td></tr><tr><th style=\"border-top: 2px solid #000;\">Depth</th><th style=\"border-top: 2px solid #000;\">Value</th></tr><tr><td>100.0000</td><td>66.6059</td></tr><tr><td>101.0000</td><td>61.2832</td></tr><tr><td>102.0000</td><td>36.3464</td></tr><tr><td>⋮</td><td>⋮</td></tr><tr><td>198.0000</td><td>59.0962</td></tr><tr><td>199.0000</td><td>57.8974</td></tr><tr><td>200.0000</td><td>59.0551</td></tr></table>\n"
     ]
    },
    {
     "data": {
      "text/html": [
       "<table><tr><th style=\"text-align:center;\" colspan=\"2\">GR [gAPI]</th></tr><tr><td style=\"text-align:center;\" colspan=\"2\">100.0000 : 201.0000 : 1.0000</td></tr><tr><td><strong>description</strong></td><td>Gamma-Ray</td></tr><tr><td><strong>code</strong></td><td></td></tr><tr><td><strong>null</strong></td><td>-999.25</td></tr><tr><td><strong>service_company</strong></td><td>Schlumberger</td></tr><tr><td><strong>run</strong></td><td>1</td></tr><tr><td><strong>date</strong></td><td>10-Oct-2007</td></tr><tr><th style=\"border-top: 2px solid #000;\">Depth</th><th style=\"border-top: 2px solid #000;\">Value</th></tr><tr><td>100.0000</td><td>66.6059</td></tr><tr><td>101.0000</td><td>61.2832</td></tr><tr><td>102.0000</td><td>36.3464</td></tr><tr><td>⋮</td><td>⋮</td></tr><tr><td>198.0000</td><td>59.0962</td></tr><tr><td>199.0000</td><td>57.8974</td></tr><tr><td>200.0000</td><td>59.0551</td></tr></table>"
      ],
      "text/plain": [
       "Curve([ 66.60590254,  61.28322089,  36.34642557,  36.1278342 ,\n",
       "        54.99664649,  52.70990249,  54.61328616,  67.62978549,\n",
       "        61.33811395,  77.19430702,  59.50092452,  67.68565519,\n",
       "        61.60699559,  61.01154255,  58.74733503,  79.92695061,\n",
       "        71.0700837 ,  63.00752493,  56.63439015,  38.87450186,\n",
       "        63.40329229,  53.34858407,  54.75010112,  60.18424988,\n",
       "        63.05871113,  64.86450706,  74.00219727,  59.94128418,\n",
       "        50.91950314,  64.29621767,  43.29871452,  54.61609317,\n",
       "        41.54554788,  43.52969482,  66.99008343,  70.54644445,\n",
       "        66.25349617,  30.97335575,  59.09018365,  54.20551415,\n",
       "        63.78683196,  69.90939818,  74.28706884,  72.68323397,\n",
       "        69.74510866,  68.97288251,  70.43585393,  68.64305589,\n",
       "        62.59122558,  64.02555491,  57.09761357,  58.19703477,\n",
       "        47.92457084,  44.89345328,  52.57150304,  36.80615495,\n",
       "        43.44891736,  41.38628817,  36.22271904,  56.12745063,\n",
       "        68.72187447,  68.41162207,  57.92116691,  54.37542932,\n",
       "        70.16045844,  66.14347527,  67.64129132,  77.00501946,\n",
       "        76.66626331,  71.0717577 ,  65.37588064,  69.34208133,\n",
       "        58.25983119,  66.33733895,  70.01532133,  71.21815517,\n",
       "        71.4179917 ,  56.29479821,  69.63733931,  70.37953839,\n",
       "        64.09110614,  72.10513644,  80.49838071,  52.69117394,\n",
       "        72.25196075,  67.99989976,  49.01356407,  43.92151935,\n",
       "        48.58369666,  56.04366176,  50.65837322,  77.45870507,\n",
       "        80.49961631,  60.59281271,  75.85038293,  69.61409681,\n",
       "        45.88067043,  74.82725175,  59.09618618,  57.89735022,  59.05513083])"
      ]
     },
     "execution_count": 23,
     "metadata": {},
     "output_type": "execute_result"
    }
   ],
   "source": [
    "y"
   ]
  },
  {
   "cell_type": "code",
   "execution_count": 5,
   "metadata": {
    "collapsed": false
   },
   "outputs": [
    {
     "data": {
      "image/png": "[encoded data removed]",
      "text/plain": [
       "<matplotlib.figure.Figure at 0x10e799160>"
      ]
     },
     "metadata": {},
     "output_type": "display_data"
    }
   ],
   "source": [
    "tracks = ['GR', 'RHOB', ['DT', 'DTS']]\n",
    "w.plot(tracks=tracks)"
   ]
  },
  {
   "cell_type": "code",
   "execution_count": 6,
   "metadata": {
    "collapsed": false
   },
   "outputs": [
    {
     "data": {
      "image/png": "[encoded data removed]",
      "text/plain": [
       "<matplotlib.figure.Figure at 0x1107578d0>"
      ]
     },
     "metadata": {},
     "output_type": "display_data"
    }
   ],
   "source": [
    "from striplog import Legend, Striplog\n",
    "legend = Legend.builtin('NSDOE')\n",
    "strip = Striplog.from_image('P-129_280_1935.png', 280, 1935, legend=legend)\n",
    "strip.plot()"
   ]
  },
  {
   "cell_type": "code",
   "execution_count": 7,
   "metadata": {
    "collapsed": true
   },
   "outputs": [],
   "source": [
    "w.data['strip'] = strip"
   ]
  },
  {
   "cell_type": "markdown",
   "metadata": {},
   "source": [
    "## Save LAS file"
   ]
  },
  {
   "cell_type": "code",
   "execution_count": 6,
   "metadata": {
    "collapsed": false
   },
   "outputs": [],
   "source": [
    "w.to_las('out.las')"
   ]
  },
  {
   "cell_type": "code",
   "execution_count": 9,
   "metadata": {
    "collapsed": false
   },
   "outputs": [
    {
     "data": {
      "text/plain": [
       "{'CALI': Curve([ 2.44381547,  2.44381547,  2.44381547, ...,  2.42026806,\n",
       "         2.42026806,  2.42026806]),\n",
       " 'DEPT': Curve([  1.06680000e+00,   1.21920000e+00,   1.37160000e+00, ...,\n",
       "          1.93883280e+03,   1.93898520e+03,   1.93913760e+03]),\n",
       " 'DPHI_DOL': Curve([  2.59099990e-01,   2.59099990e-01,   2.59099990e-01, ...,\n",
       "          5.41675720e+02,   5.41675720e+02,   5.41675720e+02]),\n",
       " 'DPHI_LIM': Curve([  1.98440000e-01,   1.98440000e-01,   1.98440000e-01, ...,\n",
       "          5.85941528e+02,   5.85941528e+02,   5.85941528e+02]),\n",
       " 'DPHI_SAN': Curve([ 0.15748   ,  0.15748   ,  0.15748   , ...,  0.54641998,\n",
       "         0.54641998,  0.54641998]),\n",
       " 'DRHO': Curve([ 0.19423294,  0.19423294,  0.19423294, ...,  0.06139515,\n",
       "         0.06139515,  0.06139515]),\n",
       " 'DT': Curve([-999.25, -999.25, -999.25, ..., -999.25, -999.25, -999.25]),\n",
       " 'DTS': Curve([-999.25, -999.25, -999.25, ..., -999.25, -999.25, -999.25]),\n",
       " 'GR': Curve([ 46.69865036,  46.69865036,  46.69865036, ...,  92.24622345,\n",
       "         92.24622345,  92.24622345]),\n",
       " 'HCAL': Curve([   4.39128494,    4.39128494,    4.39128494, ..., -999.25      ,\n",
       "        -999.25      , -999.25      ]),\n",
       " 'NPHI_DOL': Curve([ 0.30186,  0.30186,  0.30186, ...,  0.05256,  0.05256,  0.05256]),\n",
       " 'NPHI_LIM': Curve([ 0.33647001,  0.33647001,  0.33647001, ...,  0.08417   ,\n",
       "         0.08417   ,  0.08417   ]),\n",
       " 'NPHI_SAN': Curve([ 0.46509999,  0.46509999,  0.46509999, ...,  0.12834001,\n",
       "         0.12834001,  0.12834001]),\n",
       " 'PEF': Curve([ 3.58640003,  3.58640003,  3.58640003, ...,  2.23697996,\n",
       "         2.23697996,  2.23697996]),\n",
       " 'RHOB': Curve([   2.39014983,    2.39014983,    2.39014983, ..., -999.25      ,\n",
       "        -999.25      , -999.25      ]),\n",
       " 'RLA1': Curve([  3.20999995e-02,   3.20999995e-02,   3.20999995e-02, ...,\n",
       "          2.74026489e+02,   2.74026489e+02,   2.74026489e+02]),\n",
       " 'RLA2': Curve([  2.79399995e-02,   2.79399995e-02,   2.79399995e-02, ...,\n",
       "          6.63104065e+02,   6.63104065e+02,   6.63104065e+02]),\n",
       " 'RLA3': Curve([  2.67500002e-02,   2.67500002e-02,   2.67500002e-02, ...,\n",
       "          7.13433655e+02,   7.13433655e+02,   7.13433655e+02]),\n",
       " 'RLA4': Curve([  2.56200004e-02,   2.56200004e-02,   2.56200004e-02, ...,\n",
       "          7.52805481e+02,   7.52805481e+02,   7.52805481e+02]),\n",
       " 'RLA5': Curve([  2.55800001e-02,   2.55800001e-02,   2.55800001e-02, ...,\n",
       "          7.82533508e+02,   7.82533508e+02,   7.82533508e+02]),\n",
       " 'RM_HRLT': Curve([ 0.05501,  0.05501,  0.05501, ...,  0.02729,  0.02729,  0.02729]),\n",
       " 'RT_HRLT': Curve([ 0.02558   ,  0.02558   ,  0.02558   , ...,  7.38065004,\n",
       "         7.32116985,  7.1535902 ]),\n",
       " 'RXOZ': Curve([ 0.05761   ,  0.05761   ,  0.05761   , ...,  7.09686995,\n",
       "         7.03910017,  7.00194979]),\n",
       " 'RXO_HRLT': Curve([  2.55800001e-02,   2.55800001e-02,   2.55800001e-02, ...,\n",
       "         -9.99250000e+02,  -9.99250000e+02,  -9.99250000e+02]),\n",
       " 'SP': Curve([ 120.125 ,  120.125 ,  120.125 , ...,   73.    ,   73.9375,   74.25  ]),\n",
       " 'strip': Striplog(185 Intervals, start=280.0, stop=1935.0)}"
      ]
     },
     "execution_count": 9,
     "metadata": {},
     "output_type": "execute_result"
    }
   ],
   "source": [
    "w.data"
   ]
  },
  {
   "cell_type": "code",
   "execution_count": 10,
   "metadata": {
    "collapsed": false
   },
   "outputs": [
    {
     "ename": "IndexError",
     "evalue": "tuple index out of range",
     "output_type": "error",
     "traceback": [
      "\u001b[0;31m---------------------------------------------------------------------------\u001b[0m",
      "\u001b[0;31mIndexError\u001b[0m                                Traceback (most recent call last)",
      "\u001b[0;32m<ipython-input-10-7e4c02fc6189>\u001b[0m in \u001b[0;36m<module>\u001b[0;34m()\u001b[0m\n\u001b[0;32m----> 1\u001b[0;31m \u001b[0mz\u001b[0m \u001b[0;34m=\u001b[0m \u001b[0mWell\u001b[0m\u001b[0;34m.\u001b[0m\u001b[0mfrom_las\u001b[0m\u001b[0;34m(\u001b[0m\u001b[0;34m'out.las'\u001b[0m\u001b[0;34m)\u001b[0m\u001b[0;34m\u001b[0m\u001b[0m\n\u001b[0m\u001b[1;32m      2\u001b[0m \u001b[0mz\u001b[0m\u001b[0;34m.\u001b[0m\u001b[0mplot\u001b[0m\u001b[0;34m(\u001b[0m\u001b[0;34m)\u001b[0m\u001b[0;34m\u001b[0m\u001b[0m\n",
      "\u001b[0;32m/Users/matt/anaconda/envs/python3/lib/python3.4/site-packages/welly/well.py\u001b[0m in \u001b[0;36mfrom_las\u001b[0;34m(cls, fname, remap, funcs)\u001b[0m\n\u001b[1;32m    128\u001b[0m         \u001b[0mWraps\u001b[0m \u001b[0mlasio\u001b[0m\u001b[0;34m.\u001b[0m\u001b[0;34m\u001b[0m\u001b[0m\n\u001b[1;32m    129\u001b[0m         \"\"\"\n\u001b[0;32m--> 130\u001b[0;31m         \u001b[0ml\u001b[0m \u001b[0;34m=\u001b[0m \u001b[0mlasio\u001b[0m\u001b[0;34m.\u001b[0m\u001b[0mread\u001b[0m\u001b[0;34m(\u001b[0m\u001b[0mfname\u001b[0m\u001b[0;34m)\u001b[0m\u001b[0;34m\u001b[0m\u001b[0m\n\u001b[0m\u001b[1;32m    131\u001b[0m \u001b[0;34m\u001b[0m\u001b[0m\n\u001b[1;32m    132\u001b[0m         \u001b[0;31m# Pass to other constructor.\u001b[0m\u001b[0;34m\u001b[0m\u001b[0;34m\u001b[0m\u001b[0m\n",
      "\u001b[0;32m/Users/matt/anaconda/envs/python3/lib/python3.4/site-packages/lasio/__init__.py\u001b[0m in \u001b[0;36mread\u001b[0;34m(file_ref, **kwargs)\u001b[0m\n\u001b[1;32m     36\u001b[0m \u001b[0;34m\u001b[0m\u001b[0m\n\u001b[1;32m     37\u001b[0m     '''\n\u001b[0;32m---> 38\u001b[0;31m     \u001b[0;32mreturn\u001b[0m \u001b[0mLASFile\u001b[0m\u001b[0;34m(\u001b[0m\u001b[0mfile_ref\u001b[0m\u001b[0;34m,\u001b[0m \u001b[0;34m**\u001b[0m\u001b[0mkwargs\u001b[0m\u001b[0;34m)\u001b[0m\u001b[0;34m\u001b[0m\u001b[0m\n\u001b[0m",
      "\u001b[0;32m/Users/matt/anaconda/envs/python3/lib/python3.4/site-packages/lasio/las.py\u001b[0m in \u001b[0;36m__init__\u001b[0;34m(self, file_ref, **kwargs)\u001b[0m\n\u001b[1;32m     79\u001b[0m \u001b[0;34m\u001b[0m\u001b[0m\n\u001b[1;32m     80\u001b[0m         \u001b[0;32mif\u001b[0m \u001b[0;32mnot\u001b[0m \u001b[0;34m(\u001b[0m\u001b[0mfile_ref\u001b[0m \u001b[0;32mis\u001b[0m \u001b[0;32mNone\u001b[0m\u001b[0;34m)\u001b[0m\u001b[0;34m:\u001b[0m\u001b[0;34m\u001b[0m\u001b[0m\n\u001b[0;32m---> 81\u001b[0;31m             \u001b[0mself\u001b[0m\u001b[0;34m.\u001b[0m\u001b[0mread\u001b[0m\u001b[0;34m(\u001b[0m\u001b[0mfile_ref\u001b[0m\u001b[0;34m,\u001b[0m \u001b[0;34m**\u001b[0m\u001b[0mkwargs\u001b[0m\u001b[0;34m)\u001b[0m\u001b[0;34m\u001b[0m\u001b[0m\n\u001b[0m\u001b[1;32m     82\u001b[0m \u001b[0;34m\u001b[0m\u001b[0m\n\u001b[1;32m     83\u001b[0m     \u001b[0;32mdef\u001b[0m \u001b[0mread\u001b[0m\u001b[0;34m(\u001b[0m\u001b[0mself\u001b[0m\u001b[0;34m,\u001b[0m \u001b[0mfile_ref\u001b[0m\u001b[0;34m,\u001b[0m \u001b[0mnull_subs\u001b[0m\u001b[0;34m=\u001b[0m\u001b[0;32mTrue\u001b[0m\u001b[0;34m,\u001b[0m \u001b[0;34m**\u001b[0m\u001b[0mkwargs\u001b[0m\u001b[0;34m)\u001b[0m\u001b[0;34m:\u001b[0m\u001b[0;34m\u001b[0m\u001b[0m\n",
      "\u001b[0;32m/Users/matt/anaconda/envs/python3/lib/python3.4/site-packages/lasio/las.py\u001b[0m in \u001b[0;36mread\u001b[0;34m(self, file_ref, null_subs, **kwargs)\u001b[0m\n\u001b[1;32m    138\u001b[0m \u001b[0;34m\u001b[0m\u001b[0m\n\u001b[1;32m    139\u001b[0m         \u001b[0mdata\u001b[0m \u001b[0;34m=\u001b[0m \u001b[0mread_parser\u001b[0m\u001b[0;34m.\u001b[0m\u001b[0mread_data\u001b[0m\u001b[0;34m(\u001b[0m\u001b[0mlen\u001b[0m\u001b[0;34m(\u001b[0m\u001b[0mself\u001b[0m\u001b[0;34m.\u001b[0m\u001b[0mcurves\u001b[0m\u001b[0;34m)\u001b[0m\u001b[0;34m,\u001b[0m \u001b[0mnull_subs\u001b[0m\u001b[0;34m=\u001b[0m\u001b[0mnull_subs\u001b[0m\u001b[0;34m)\u001b[0m\u001b[0;34m\u001b[0m\u001b[0m\n\u001b[0;32m--> 140\u001b[0;31m         \u001b[0mself\u001b[0m\u001b[0;34m.\u001b[0m\u001b[0mset_data\u001b[0m\u001b[0;34m(\u001b[0m\u001b[0mdata\u001b[0m\u001b[0;34m,\u001b[0m \u001b[0mtruncate\u001b[0m\u001b[0;34m=\u001b[0m\u001b[0;32mFalse\u001b[0m\u001b[0;34m)\u001b[0m\u001b[0;34m\u001b[0m\u001b[0m\n\u001b[0m\u001b[1;32m    141\u001b[0m \u001b[0;34m\u001b[0m\u001b[0m\n\u001b[1;32m    142\u001b[0m         if (self.well['STRT'].unit.upper() == 'M' and\n",
      "\u001b[0;32m/Users/matt/anaconda/envs/python3/lib/python3.4/site-packages/lasio/las.py\u001b[0m in \u001b[0;36mset_data\u001b[0;34m(self, array_like, names, truncate)\u001b[0m\n\u001b[1;32m    285\u001b[0m             \u001b[0mdata\u001b[0m \u001b[0;34m=\u001b[0m \u001b[0mdata\u001b[0m\u001b[0;34m[\u001b[0m\u001b[0;34m:\u001b[0m\u001b[0;34m,\u001b[0m \u001b[0mlen\u001b[0m\u001b[0;34m(\u001b[0m\u001b[0mself\u001b[0m\u001b[0;34m.\u001b[0m\u001b[0mcurves\u001b[0m\u001b[0;34m)\u001b[0m\u001b[0;34m]\u001b[0m\u001b[0;34m\u001b[0m\u001b[0m\n\u001b[1;32m    286\u001b[0m         \u001b[0;32melse\u001b[0m\u001b[0;34m:\u001b[0m\u001b[0;34m\u001b[0m\u001b[0m\n\u001b[0;32m--> 287\u001b[0;31m             \u001b[0;32mfor\u001b[0m \u001b[0mi\u001b[0m \u001b[0;32min\u001b[0m \u001b[0mrange\u001b[0m\u001b[0;34m(\u001b[0m\u001b[0mdata\u001b[0m\u001b[0;34m.\u001b[0m\u001b[0mshape\u001b[0m\u001b[0;34m[\u001b[0m\u001b[0;36m1\u001b[0m\u001b[0;34m]\u001b[0m\u001b[0;34m)\u001b[0m\u001b[0;34m:\u001b[0m\u001b[0;34m\u001b[0m\u001b[0m\n\u001b[0m\u001b[1;32m    288\u001b[0m                 \u001b[0;32mif\u001b[0m \u001b[0mi\u001b[0m \u001b[0;34m<\u001b[0m \u001b[0mlen\u001b[0m\u001b[0;34m(\u001b[0m\u001b[0mself\u001b[0m\u001b[0;34m.\u001b[0m\u001b[0mcurves\u001b[0m\u001b[0;34m)\u001b[0m\u001b[0;34m:\u001b[0m\u001b[0;34m\u001b[0m\u001b[0m\n\u001b[1;32m    289\u001b[0m                     \u001b[0mcurve\u001b[0m \u001b[0;34m=\u001b[0m \u001b[0mself\u001b[0m\u001b[0;34m.\u001b[0m\u001b[0mcurves\u001b[0m\u001b[0;34m[\u001b[0m\u001b[0mi\u001b[0m\u001b[0;34m]\u001b[0m\u001b[0;34m\u001b[0m\u001b[0m\n",
      "\u001b[0;31mIndexError\u001b[0m: tuple index out of range"
     ]
    }
   ],
   "source": [
    "z = Well.from_las('out.las')\n",
    "z.plot()"
   ]
  },
  {
   "cell_type": "markdown",
   "metadata": {},
   "source": [
    "## Header\n",
    "\n",
    "Maybe should be called 'meta' as it's not really a header... "
   ]
  },
  {
   "cell_type": "code",
   "execution_count": 25,
   "metadata": {
    "collapsed": false
   },
   "outputs": [
    {
     "data": {
      "text/plain": [
       "{'field': 'Windsor Block', 'license': 'P-129', 'company': 'Elmworth Energy Corporation', 'uwi': \"Long = 63* 45'24.460  W\", 'name': 'Kennetcook #2'}"
      ]
     },
     "execution_count": 25,
     "metadata": {},
     "output_type": "execute_result"
    }
   ],
   "source": [
    "w.header"
   ]
  },
  {
   "cell_type": "code",
   "execution_count": 26,
   "metadata": {
    "collapsed": false
   },
   "outputs": [
    {
     "data": {
      "text/plain": [
       "'Kennetcook #2'"
      ]
     },
     "execution_count": 26,
     "metadata": {},
     "output_type": "execute_result"
    }
   ],
   "source": [
    "w.header.name"
   ]
  },
  {
   "cell_type": "code",
   "execution_count": 27,
   "metadata": {
    "collapsed": false
   },
   "outputs": [
    {
     "data": {
      "text/plain": [
       "\"Long = 63* 45'24.460  W\""
      ]
     },
     "execution_count": 27,
     "metadata": {},
     "output_type": "execute_result"
    }
   ],
   "source": [
    "w.uwi  # Fails because not present in this file. See one way to add it in a minute."
   ]
  },
  {
   "cell_type": "markdown",
   "metadata": {},
   "source": [
    "## Location and CRS"
   ]
  },
  {
   "cell_type": "code",
   "execution_count": 28,
   "metadata": {
    "collapsed": false
   },
   "outputs": [
    {
     "data": {
      "text/plain": [
       "Location({'crs': CRS({}), 'province': 'Nova Scotia', 'country': 'CA', 'gl': 90.3, 'section': '45.20 Deg N', 'td': 1935.0, 'position': None, 'tdl': 1935.0, 'kb': 94.8, 'deviation': None, 'location': 'Lat = 45* 12\\' 34.237\" N', 'range': 'PD 176', 'tdd': 1935.0, 'township': '63.75 Deg W'})"
      ]
     },
     "execution_count": 28,
     "metadata": {},
     "output_type": "execute_result"
    }
   ],
   "source": [
    "w.location"
   ]
  },
  {
   "cell_type": "code",
   "execution_count": 29,
   "metadata": {
    "collapsed": false
   },
   "outputs": [
    {
     "data": {
      "text/plain": [
       "CRS({})"
      ]
     },
     "execution_count": 29,
     "metadata": {},
     "output_type": "execute_result"
    }
   ],
   "source": [
    "w.location.crs"
   ]
  },
  {
   "cell_type": "code",
   "execution_count": 30,
   "metadata": {
    "collapsed": false
   },
   "outputs": [],
   "source": [
    "from welly import CRS\n",
    "w.location.crs = CRS.from_epsg(2038)"
   ]
  },
  {
   "cell_type": "code",
   "execution_count": 31,
   "metadata": {
    "collapsed": false
   },
   "outputs": [
    {
     "data": {
      "text/plain": [
       "Location({'crs': CRS({'no_defs': True, 'init': 'epsg:2038'}), 'province': 'Nova Scotia', 'country': 'CA', 'gl': 90.3, 'section': '45.20 Deg N', 'td': 1935.0, 'position': None, 'tdl': 1935.0, 'kb': 94.8, 'deviation': None, 'location': 'Lat = 45* 12\\' 34.237\" N', 'range': 'PD 176', 'tdd': 1935.0, 'township': '63.75 Deg W'})"
      ]
     },
     "execution_count": 31,
     "metadata": {},
     "output_type": "execute_result"
    }
   ],
   "source": [
    "w.location"
   ]
  },
  {
   "cell_type": "markdown",
   "metadata": {},
   "source": [
    "## Coping with messy LAS\n",
    "\n",
    "Some file headers are a disgrace:\n",
    "\n",
    "    # LAS format log file from PETREL\n",
    "    # Project units are specified as depth units\n",
    "    #==================================================================\n",
    "    ~Version information\n",
    "    VERS.   2.0:\n",
    "    WRAP.   YES:\n",
    "    #==================================================================\n",
    "    ~WELL INFORMATION\n",
    "    #MNEM.UNIT      DATA             DESCRIPTION\n",
    "    #---- ------ --------------   -----------------------------\n",
    "    STRT .M      1.0668          :START DEPTH     \n",
    "    STOP .M      1939.13760      :STOP DEPTH     \n",
    "    STEP .M       0.15240        :STEP        \n",
    "    NULL .          -999.25      :NULL VALUE\n",
    "    COMP .        Elmworth Energy Corporation              :COMPANY\n",
    "    WELL .        Kennetcook #2                            :WELL\n",
    "    FLD  .        Windsor Block                            :FIELD\n",
    "    LOC  .        Lat = 45* 12' 34.237\" N                  :LOCATION\n",
    "    PROV .        Nova Scotia                              :PROVINCE\n",
    "      UWI.        Long = 63* 45'24.460  W                  :UNIQUE WELL ID\n",
    "    LIC  .        P-129                                    :LICENSE NUMBER\n",
    "    CTRY .        CA                                       :COUNTRY (WWW code)\n",
    "     DATE.        10-Oct-2007                              :LOG DATE {DD-MMM-YYYY}\n",
    "    SRVC .        Schlumberger                             :SERVICE COMPANY\n",
    "    LATI .DEG                                              :LATITUDE\n",
    "    LONG .DEG                                              :LONGITUDE\n",
    "    GDAT .                                                 :GeoDetic Datum\n",
    "    SECT .        45.20 Deg N                              :Section\n",
    "    RANG .        PD 176                                   :Range\n",
    "    TOWN .        63.75 Deg W                              :Township"
   ]
  },
  {
   "cell_type": "code",
   "execution_count": 45,
   "metadata": {
    "collapsed": false
   },
   "outputs": [],
   "source": [
    "import welly\n",
    "import re\n",
    "\n",
    "def transform_ll(text):\n",
    "    def callback(match):\n",
    "        d = match.group(1).strip()\n",
    "        m = match.group(2).strip()\n",
    "        s = match.group(3).strip()\n",
    "        c = match.group(4).strip()\n",
    "        if c.lower() in ('w', 's') and d[0] != '-':\n",
    "            d = '-' + d\n",
    "        return ' '.join([d, m, s])\n",
    "    pattern = re.compile(r\"\"\".+?([-0-9]+?).? ?([0-9]+?).? ?([\\.0-9]+?).? +?([NESW])\"\"\", re.I)\n",
    "    text = pattern.sub(callback, text)\n",
    "    return welly.utils.dms2dd([float(i) for i in text.split()])"
   ]
  },
  {
   "cell_type": "code",
   "execution_count": 46,
   "metadata": {
    "collapsed": false
   },
   "outputs": [
    {
     "name": "stdout",
     "output_type": "stream",
     "text": [
      "45.20951027777778\n",
      "-62.243205555555555\n"
     ]
    }
   ],
   "source": [
    "print(transform_ll(\"\"\"Lat = 45* 12' 34.237\" N\"\"\"))\n",
    "print(transform_ll(\"\"\"Long = 63* 45'24.460  W\"\"\"))"
   ]
  },
  {
   "cell_type": "code",
   "execution_count": 47,
   "metadata": {
    "collapsed": true
   },
   "outputs": [],
   "source": [
    "remap = {\n",
    "    'LATI': 'LOC',  # Use LOC for the parameter LATI.\n",
    "    'LONG': 'UWI',  # Use UWI for the parameter LONG.\n",
    "    'SECT': None,   # Use nothing for the parameter SECT.\n",
    "    'RANG': None,   # Use nothing for the parameter RANG.\n",
    "    'TOWN': None,   # Use nothing for the parameter TOWN.\n",
    "}\n",
    "\n",
    "funcs = {\n",
    "    'LATI': transform_ll,  # Pass LATI through this function before loading.\n",
    "    'LONG': transform_ll,  # Pass LONG through it too.\n",
    "    'UWI': lambda x: \"No name, oh no!\"\n",
    "}"
   ]
  },
  {
   "cell_type": "code",
   "execution_count": 48,
   "metadata": {
    "collapsed": false
   },
   "outputs": [],
   "source": [
    "w = Well.from_las('P-129_out.LAS', remap=remap, funcs=funcs)"
   ]
  },
  {
   "cell_type": "code",
   "execution_count": 51,
   "metadata": {
    "collapsed": false
   },
   "outputs": [
    {
     "data": {
      "text/plain": [
       "CRS({})"
      ]
     },
     "execution_count": 51,
     "metadata": {},
     "output_type": "execute_result"
    }
   ],
   "source": [
    "w.location.crs  # Should not contain SECT, RANG or TOWN"
   ]
  },
  {
   "cell_type": "code",
   "execution_count": 50,
   "metadata": {
    "collapsed": false,
    "scrolled": true
   },
   "outputs": [
    {
     "data": {
      "text/plain": [
       "'No name, oh no!'"
      ]
     },
     "execution_count": 50,
     "metadata": {},
     "output_type": "execute_result"
    }
   ],
   "source": [
    "w.uwi"
   ]
  },
  {
   "cell_type": "markdown",
   "metadata": {},
   "source": [
    "## Curves\n",
    "\n",
    "Just a list of objects."
   ]
  },
  {
   "cell_type": "code",
   "execution_count": 10,
   "metadata": {
    "collapsed": false
   },
   "outputs": [
    {
     "data": {
      "text/plain": [
       "{'CALI': Curve([ 2.44381547,  2.44381547,  2.44381547, ...,  2.42026806,\n",
       "         2.42026806,  2.42026806]),\n",
       " 'DEPT': Curve([  1.06680000e+00,   1.21920000e+00,   1.37160000e+00, ...,\n",
       "          1.93883280e+03,   1.93898520e+03,   1.93913760e+03]),\n",
       " 'DPHI_DOL': Curve([  2.59099990e-01,   2.59099990e-01,   2.59099990e-01, ...,\n",
       "          5.41675720e+02,   5.41675720e+02,   5.41675720e+02]),\n",
       " 'DPHI_LIM': Curve([  1.98440000e-01,   1.98440000e-01,   1.98440000e-01, ...,\n",
       "          5.85941528e+02,   5.85941528e+02,   5.85941528e+02]),\n",
       " 'DPHI_SAN': Curve([ 0.15748   ,  0.15748   ,  0.15748   , ...,  0.54641998,\n",
       "         0.54641998,  0.54641998]),\n",
       " 'DRHO': Curve([ 0.19423294,  0.19423294,  0.19423294, ...,  0.06139515,\n",
       "         0.06139515,  0.06139515]),\n",
       " 'DT': Curve([ nan,  nan,  nan, ...,  nan,  nan,  nan]),\n",
       " 'DTS': Curve([ nan,  nan,  nan, ...,  nan,  nan,  nan]),\n",
       " 'GR': Curve([ 46.69865036,  46.69865036,  46.69865036, ...,  92.24622345,\n",
       "         92.24622345,  92.24622345]),\n",
       " 'HCAL': Curve([ 4.39128494,  4.39128494,  4.39128494, ...,         nan,\n",
       "                nan,         nan]),\n",
       " 'NPHI_DOL': Curve([ 0.30186,  0.30186,  0.30186, ...,  0.05256,  0.05256,  0.05256]),\n",
       " 'NPHI_LIM': Curve([ 0.33647001,  0.33647001,  0.33647001, ...,  0.08417   ,\n",
       "         0.08417   ,  0.08417   ]),\n",
       " 'NPHI_SAN': Curve([ 0.46509999,  0.46509999,  0.46509999, ...,  0.12834001,\n",
       "         0.12834001,  0.12834001]),\n",
       " 'PEF': Curve([ 3.58640003,  3.58640003,  3.58640003, ...,  2.23697996,\n",
       "         2.23697996,  2.23697996]),\n",
       " 'RHOB': Curve([ 2.39014983,  2.39014983,  2.39014983, ...,         nan,\n",
       "                nan,         nan]),\n",
       " 'RLA1': Curve([  3.20999995e-02,   3.20999995e-02,   3.20999995e-02, ...,\n",
       "          2.74026489e+02,   2.74026489e+02,   2.74026489e+02]),\n",
       " 'RLA2': Curve([  2.79399995e-02,   2.79399995e-02,   2.79399995e-02, ...,\n",
       "          6.63104065e+02,   6.63104065e+02,   6.63104065e+02]),\n",
       " 'RLA3': Curve([  2.67500002e-02,   2.67500002e-02,   2.67500002e-02, ...,\n",
       "          7.13433655e+02,   7.13433655e+02,   7.13433655e+02]),\n",
       " 'RLA4': Curve([  2.56200004e-02,   2.56200004e-02,   2.56200004e-02, ...,\n",
       "          7.52805481e+02,   7.52805481e+02,   7.52805481e+02]),\n",
       " 'RLA5': Curve([  2.55800001e-02,   2.55800001e-02,   2.55800001e-02, ...,\n",
       "          7.82533508e+02,   7.82533508e+02,   7.82533508e+02]),\n",
       " 'RM_HRLT': Curve([ 0.05501,  0.05501,  0.05501, ...,  0.02729,  0.02729,  0.02729]),\n",
       " 'RT_HRLT': Curve([ 0.02558   ,  0.02558   ,  0.02558   , ...,  7.38065004,\n",
       "         7.32116985,  7.1535902 ]),\n",
       " 'RXOZ': Curve([ 0.05761   ,  0.05761   ,  0.05761   , ...,  7.09686995,\n",
       "         7.03910017,  7.00194979]),\n",
       " 'RXO_HRLT': Curve([ 0.02558,  0.02558,  0.02558, ...,      nan,      nan,      nan]),\n",
       " 'SP': Curve([ 120.125 ,  120.125 ,  120.125 , ...,   73.    ,   73.9375,   74.25  ])}"
      ]
     },
     "execution_count": 10,
     "metadata": {},
     "output_type": "execute_result"
    }
   ],
   "source": [
    "w.data  # Just a dict of data objects."
   ]
  },
  {
   "cell_type": "markdown",
   "metadata": {},
   "source": [
    "In Jupyter Notebook, the `__repr__()` is a little table summarizing the curve data..."
   ]
  },
  {
   "cell_type": "code",
   "execution_count": 11,
   "metadata": {
    "collapsed": false
   },
   "outputs": [
    {
     "data": {
      "text/html": [
       "<table><tr><th style=\"text-align:center;\" colspan=\"2\">GR [gAPI]</th></tr><tr><td style=\"text-align:center;\" colspan=\"2\">1.0668 : 1939.2900 : 0.1524</td></tr><tr><td><strong>null</strong></td><td>-999.25</td></tr><tr><td><strong>run</strong></td><td>1</td></tr><tr><td><strong>service_company</strong></td><td>Schlumberger</td></tr><tr><td><strong>code</strong></td><td></td></tr><tr><td><strong>date</strong></td><td>10-Oct-2007</td></tr><tr><td><strong>description</strong></td><td>Gamma-Ray</td></tr><tr><th style=\"border-top: 2px solid #000;\">Depth</th><th style=\"border-top: 2px solid #000;\">Value</th></tr><tr><td>1.0668</td><td>46.6987</td></tr><tr><td>1.2192</td><td>46.6987</td></tr><tr><td>1.3716</td><td>46.6987</td></tr><tr><td>⋮</td><td>⋮</td></tr><tr><td>1938.8328</td><td>92.2462</td></tr><tr><td>1938.9852</td><td>92.2462</td></tr><tr><td>1939.1376</td><td>92.2462</td></tr></table>"
      ],
      "text/plain": [
       "Curve([ 46.69865036,  46.69865036,  46.69865036, ...,  92.24622345,\n",
       "        92.24622345,  92.24622345])"
      ]
     },
     "execution_count": 11,
     "metadata": {},
     "output_type": "execute_result"
    }
   ],
   "source": [
    "gr = w.data['GR']\n",
    "gr"
   ]
  },
  {
   "cell_type": "markdown",
   "metadata": {},
   "source": [
    "`Curve` objects are just `ndarray`s, so we get lots of things for free..."
   ]
  },
  {
   "cell_type": "code",
   "execution_count": 12,
   "metadata": {
    "collapsed": false
   },
   "outputs": [],
   "source": [
    "m = np.mean(gr)"
   ]
  },
  {
   "cell_type": "code",
   "execution_count": 13,
   "metadata": {
    "collapsed": false
   },
   "outputs": [
    {
     "data": {
      "text/html": [
       "Curve(78.9863535887685)"
      ],
      "text/plain": [
       "Curve(78.9863535887685)"
      ]
     },
     "execution_count": 13,
     "metadata": {},
     "output_type": "execute_result"
    }
   ],
   "source": [
    "m  # Not really sure why this is a Curve"
   ]
  },
  {
   "cell_type": "code",
   "execution_count": 46,
   "metadata": {
    "collapsed": false
   },
   "outputs": [
    {
     "data": {
      "text/plain": [
       "'GR'"
      ]
     },
     "execution_count": 46,
     "metadata": {},
     "output_type": "execute_result"
    }
   ],
   "source": [
    "gr.mnemonic"
   ]
  },
  {
   "cell_type": "markdown",
   "metadata": {},
   "source": [
    "## Changing basis"
   ]
  },
  {
   "cell_type": "code",
   "execution_count": 12,
   "metadata": {
    "collapsed": false
   },
   "outputs": [
    {
     "data": {
      "image/png": "[encoded data removed]",
      "text/plain": [
       "<matplotlib.figure.Figure at 0x115731898>"
      ]
     },
     "metadata": {},
     "output_type": "display_data"
    }
   ],
   "source": [
    "newb = gr.to_basis(start=1207, stop=1215)\n",
    "newb.plot()"
   ]
  },
  {
   "cell_type": "code",
   "execution_count": 15,
   "metadata": {
    "collapsed": false
   },
   "outputs": [
    {
     "data": {
      "image/png": "[encoded data removed]",
      "text/plain": [
       "<matplotlib.figure.Figure at 0x1158f75c0>"
      ]
     },
     "metadata": {},
     "output_type": "display_data"
    }
   ],
   "source": [
    "silly = newb.to_basis(start=1200, step=2)\n",
    "silly.plot()"
   ]
  },
  {
   "cell_type": "code",
   "execution_count": 17,
   "metadata": {
    "collapsed": false
   },
   "outputs": [
    {
     "data": {
      "image/png": "[encoded data removed]",
      "text/plain": [
       "<matplotlib.figure.Figure at 0x1157bc128>"
      ]
     },
     "metadata": {},
     "output_type": "display_data"
    }
   ],
   "source": [
    "dt = w.data['DT']\n",
    "dt.to_basis_like(newb.basis).plot()"
   ]
  },
  {
   "cell_type": "code",
   "execution_count": 22,
   "metadata": {
    "collapsed": false
   },
   "outputs": [],
   "source": [
    "data = np.array([100, 102, 105, 106, 103, 102, 99, 98, 99, 103])\n",
    "old_basis = np.array([2, 3, 4, 5, 6, 7, 8, 9, 10, 11])\n",
    "\n",
    "new_start = 2\n",
    "new_adj_stop = 21.001\n",
    "step = 1\n"
   ]
  },
  {
   "cell_type": "code",
   "execution_count": 21,
   "metadata": {
    "collapsed": false
   },
   "outputs": [
    {
     "data": {
      "text/plain": [
       "array([ 2.,  3.,  4.,  5.])"
      ]
     },
     "execution_count": 21,
     "metadata": {},
     "output_type": "execute_result"
    }
   ],
   "source": [
    "np.arange(2, 5+1e-9, 1)"
   ]
  },
  {
   "cell_type": "code",
   "execution_count": 23,
   "metadata": {
    "collapsed": false
   },
   "outputs": [],
   "source": [
    "new_basis = np.arange(new_start, new_adj_stop, step)\n",
    "\n",
    "data = np.interp(new_basis, old_basis, data, left=np.nan, right=np.nan)"
   ]
  },
  {
   "cell_type": "code",
   "execution_count": 24,
   "metadata": {
    "collapsed": false
   },
   "outputs": [
    {
     "data": {
      "text/plain": [
       "array([ 100.,  102.,  105.,  106.,  103.,  102.,   99.,   98.,   99.,\n",
       "        103.,   nan,   nan,   nan,   nan,   nan,   nan,   nan,   nan,\n",
       "         nan,   nan])"
      ]
     },
     "execution_count": 24,
     "metadata": {},
     "output_type": "execute_result"
    }
   ],
   "source": [
    "data"
   ]
  },
  {
   "cell_type": "code",
   "execution_count": 142,
   "metadata": {
    "collapsed": false
   },
   "outputs": [
    {
     "data": {
      "text/plain": [
       "array([ 0.1,  0.6,  1.1,  1.6,  2.1,  2.6,  3.1,  3.6,  4.1,  4.6])"
      ]
     },
     "execution_count": 142,
     "metadata": {},
     "output_type": "execute_result"
    }
   ],
   "source": [
    "new_basis"
   ]
  },
  {
   "cell_type": "code",
   "execution_count": null,
   "metadata": {
    "collapsed": true
   },
   "outputs": [],
   "source": []
  },
  {
   "cell_type": "markdown",
   "metadata": {},
   "source": [
    "## Not implemented yet\n",
    "\n",
    "PUT WISHED-FOR APIS HERE."
   ]
  },
  {
   "cell_type": "code",
   "execution_count": null,
   "metadata": {
    "collapsed": false
   },
   "outputs": [],
   "source": []
  },
  {
   "cell_type": "code",
   "execution_count": null,
   "metadata": {
    "collapsed": true
   },
   "outputs": [],
   "source": []
  }
 ],
 "metadata": {
  "kernelspec": {
   "display_name": "Python 3",
   "language": "python",
   "name": "python3"
  },
  "language_info": {
   "codemirror_mode": {
    "name": "ipython",
    "version": 3
   },
   "file_extension": ".py",
   "mimetype": "text/x-python",
   "name": "python",
   "nbconvert_exporter": "python",
   "pygments_lexer": "ipython3",
   "version": "3.4.4"
  }
 },
 "nbformat": 4,
 "nbformat_minor": 0
}
