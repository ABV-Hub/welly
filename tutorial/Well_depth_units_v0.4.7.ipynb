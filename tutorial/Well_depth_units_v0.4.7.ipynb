{
 "cells": [
  {
   "cell_type": "markdown",
   "metadata": {},
   "source": [
    "# Welly depth units\n",
    "\n",
    "New in v0.4.7: you can decide what `welly` does with the index. \n",
    "\n",
    "Thank you to Kent Inverarity for implementing this."
   ]
  },
  {
   "cell_type": "code",
   "execution_count": 1,
   "metadata": {},
   "outputs": [
    {
     "data": {
      "text/plain": [
       "'0.4.7'"
      ]
     },
     "execution_count": 1,
     "metadata": {},
     "output_type": "execute_result"
    }
   ],
   "source": [
    "import welly\n",
    "\n",
    "welly.__version__"
   ]
  },
  {
   "cell_type": "code",
   "execution_count": 2,
   "metadata": {},
   "outputs": [
    {
     "name": "stdout",
     "output_type": "stream",
     "text": [
      "~Version Information\r",
      "\r\n",
      " VERS.                 2.0: \r",
      "\r\n",
      " WRAP.                  NO: \r",
      "\r\n",
      " END.                PETRA:GeoPLUS Corporation\r",
      "\r\n",
      "~Well Information Block\r",
      "\r\n",
      "#MNEM.UNIT       Data Type    Information\r",
      "\r\n",
      "#---------    -------------   ---------------------------------\r",
      "\r\n",
      " STRT.F           3128.0000:\r",
      "\r\n",
      " STOP.F           3320.0000:\r",
      "\r\n",
      " STEP.F              0.2500:\r",
      "\r\n"
     ]
    }
   ],
   "source": [
    "!head 24034.LAS"
   ]
  },
  {
   "cell_type": "code",
   "execution_count": 3,
   "metadata": {},
   "outputs": [
    {
     "name": "stderr",
     "output_type": "stream",
     "text": [
      "/home/matt/anaconda3/envs/welly/lib/python3.8/site-packages/welly/well.py:173: FutureWarning: From v0.5 the default will be 'original', keeping whatever is used in the LAS file. If you want to force conversion to metres, change your codeto use `index='m'`.\n",
      "  warnings.warn(m, FutureWarning)\n"
     ]
    },
    {
     "data": {
      "text/plain": [
       "(953.4144, 'M')"
      ]
     },
     "execution_count": 3,
     "metadata": {},
     "output_type": "execute_result"
    }
   ],
   "source": [
    "w = welly.Well.from_las(\"24034.LAS\") # The default has not changed: you're getting metres.\n",
    "\n",
    "gr = w.data['GR']\n",
    "\n",
    "gr.start, gr.basis_units"
   ]
  },
  {
   "cell_type": "code",
   "execution_count": 4,
   "metadata": {},
   "outputs": [
    {
     "data": {
      "text/plain": [
       "(3128.0, 'F')"
      ]
     },
     "execution_count": 4,
     "metadata": {},
     "output_type": "execute_result"
    }
   ],
   "source": [
    "w = welly.Well.from_las(\"24034.LAS\", index=\"existing\")  # Use what's in the LAS file.\n",
    "\n",
    "gr = w.data['GR']\n",
    "\n",
    "gr.start, gr.basis_units"
   ]
  },
  {
   "cell_type": "code",
   "execution_count": 5,
   "metadata": {},
   "outputs": [
    {
     "data": {
      "text/plain": [
       "(953.4144, 'M')"
      ]
     },
     "execution_count": 5,
     "metadata": {},
     "output_type": "execute_result"
    }
   ],
   "source": [
    "w = welly.Well.from_las(\"24034.LAS\", index=\"m\")  # Welly's default: convert to m.\n",
    "\n",
    "gr = w.data['GR']\n",
    "\n",
    "gr.start, gr.basis_units"
   ]
  },
  {
   "cell_type": "code",
   "execution_count": 6,
   "metadata": {},
   "outputs": [
    {
     "data": {
      "text/plain": [
       "(3128.0, 'F')"
      ]
     },
     "execution_count": 6,
     "metadata": {},
     "output_type": "execute_result"
    }
   ],
   "source": [
    "w = welly.Well.from_las(\"24034.LAS\", index=\"ft\")  # Convert to ft.\n",
    "\n",
    "gr = w.data['GR']\n",
    "\n",
    "gr.start, gr.basis_units"
   ]
  },
  {
   "cell_type": "code",
   "execution_count": null,
   "metadata": {},
   "outputs": [],
   "source": []
  }
 ],
 "metadata": {
  "kernelspec": {
   "display_name": "welly",
   "language": "python",
   "name": "welly"
  },
  "language_info": {
   "codemirror_mode": {
    "name": "ipython",
    "version": 3
   },
   "file_extension": ".py",
   "mimetype": "text/x-python",
   "name": "python",
   "nbconvert_exporter": "python",
   "pygments_lexer": "ipython3",
   "version": "3.8.0"
  }
 },
 "nbformat": 4,
 "nbformat_minor": 4
}
