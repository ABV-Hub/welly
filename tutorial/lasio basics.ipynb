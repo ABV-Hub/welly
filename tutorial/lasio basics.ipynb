{
 "cells": [
  {
   "cell_type": "markdown",
   "metadata": {},
   "source": [
    "### There's nothing useful here, it's just a scratchpad"
   ]
  },
  {
   "cell_type": "code",
   "execution_count": 2,
   "metadata": {
    "collapsed": false
   },
   "outputs": [
    {
     "data": {
      "text/plain": [
       "'0.10'"
      ]
     },
     "execution_count": 2,
     "metadata": {},
     "output_type": "execute_result"
    }
   ],
   "source": [
    "import lasio\n",
    "lasio.__version__"
   ]
  },
  {
   "cell_type": "markdown",
   "metadata": {},
   "source": [
    "## Reading well headers from a CSV"
   ]
  },
  {
   "cell_type": "code",
   "execution_count": 32,
   "metadata": {
    "collapsed": true
   },
   "outputs": [],
   "source": [
    "import csv\n",
    "reader = csv.DictReader(open('/Users/matt/Dropbox/dev/recipes/data/Nova_Scotia_wells_2015.csv'))"
   ]
  },
  {
   "cell_type": "code",
   "execution_count": 33,
   "metadata": {
    "collapsed": false
   },
   "outputs": [
    {
     "name": "stdout",
     "output_type": "stream",
     "text": [
      "{'location.basin': '', 'header.license': 'P-139', 'location.x': '5045389.81', 'header.uwi': '200211E10A054E02 st', 'header.name': 'ECE-13-P2_ST', 'header.spud_date': '2013-11-21', 'header.company': 'East Coast Energy', 'header.status': '', 'location.utm': '20', 'location.y': '529556.93', 'location.longitude': '62.62126806', 'location.td': '1259', 'location.kb': '44.68', 'header.rig_release': '', 'location.latitude': '45.56141944', 'location.gl': '', 'location.datum': ''}\n",
      "{'location.basin': '', 'header.license': 'P-138', 'location.x': '5045965.58', 'header.uwi': '20111E10A054O01', 'header.name': 'ECE-13-P1', 'header.spud_date': '2013-11-06', 'header.company': 'East Coast Energy', 'header.status': '', 'location.utm': '20', 'location.y': '529996.16', 'location.longitude': '0', 'location.td': '700', 'location.kb': '39.89', 'header.rig_release': '2013-11-16', 'location.latitude': '0', 'location.gl': '', 'location.datum': ''}\n",
      "{'location.basin': '', 'header.license': 'P-137', 'location.x': '', 'header.uwi': '', 'header.name': 'Forent South Branch No.1 K-70-D/11-E-03', 'header.spud_date': '', 'header.company': 'Forent Energy Ltd', 'header.status': '', 'location.utm': '', 'location.y': '', 'location.longitude': '63.04787278', 'location.td': '784', 'location.kb': '55.9', 'header.rig_release': '', 'location.latitude': '45.18575222', 'location.gl': '55.9', 'location.datum': ''}\n",
      "{'location.basin': '', 'header.license': 'P-136', 'location.x': '5003440.8', 'header.uwi': '', 'header.name': 'Forent Alton No. 1 E-49-C 11-E-03 ', 'header.spud_date': '', 'header.company': 'Forent Energy Ltd.', 'header.status': '', 'location.utm': '20', 'location.y': '479104.69', 'location.longitude': '63.26683361', 'location.td': '1001', 'location.kb': '40.24', 'header.rig_release': '', 'location.latitude': '45.18518944', 'location.gl': '36.11', 'location.datum': ''}\n",
      "{'location.basin': '', 'header.license': 'P-135', 'location.x': '505648', 'header.uwi': '', 'header.name': 'E-38-A/11-E-5', 'header.spud_date': '2011-12-02', 'header.company': 'Eastrock Resources', 'header.status': '', 'location.utm': '20', 'location.y': '420980', 'location.longitude': '0', 'location.td': '946', 'location.kb': '123', 'header.rig_release': '2011-12-31', 'location.latitude': '0', 'location.gl': '119', 'location.datum': ''}\n",
      "{'location.basin': '', 'header.license': 'P-134', 'location.x': '5045865', 'header.uwi': '', 'header.name': 'ECE-11-01', 'header.spud_date': '2011-01-21', 'header.company': 'East Coast Energy', 'header.status': '', 'location.utm': '20', 'location.y': '529976', 'location.longitude': '0', 'location.td': '678', 'location.kb': '43', 'header.rig_release': '2011-02-12', 'location.latitude': '0', 'location.gl': '42', 'location.datum': 'NAD83'}\n",
      "{'location.basin': 'Windsor Basin', 'header.license': 'P-133', 'location.x': '', 'header.uwi': '', 'header.name': 'E-38-A/11-E-5', 'header.spud_date': '2008-10-22', 'header.company': 'Elmworth Energy Corporation', 'header.status': 'Location', 'location.utm': '', 'location.y': '', 'location.longitude': '63.72693361', 'location.td': '1726', 'location.kb': '51', 'header.rig_release': '2008-11-11', 'location.latitude': '45.29485083', 'location.gl': '46', 'location.datum': ''}\n",
      "{'location.basin': 'Windsor Basin', 'header.license': 'P-132', 'location.x': '5006479.72', 'header.uwi': '', 'header.name': 'O-61-C/11-E-4', 'header.spud_date': '2008-08-24', 'header.company': 'Elmworth Energy Corporation', 'header.status': 'Location', 'location.utm': '20', 'location.y': '422123.398', 'location.longitude': '0', 'location.td': '2955', 'location.kb': '66', 'header.rig_release': '2008-10-09', 'location.latitude': '0', 'location.gl': '61.5', 'location.datum': 'NAD83'}\n",
      "{'location.basin': 'Windsor Basin', 'header.license': 'P-131', 'location.x': '5015962', 'header.uwi': '', 'header.name': 'Camden 100/G-40-A/11-E-6', 'header.spud_date': '2008-08-23', 'header.company': 'Forent Energy Ltd.', 'header.status': 'Location', 'location.utm': '', 'location.y': '486531', 'location.longitude': '0', 'location.td': '1464', 'location.kb': '190', 'header.rig_release': '2008-10-30', 'location.latitude': '0', 'location.gl': '185', 'location.datum': ''}\n",
      "{'location.basin': 'Windsor Basin', 'header.license': 'P-130', 'location.x': '', 'header.uwi': '', 'header.name': 'N-14-A/11-E-5', 'header.spud_date': '2008-07-07', 'header.company': 'Elmworth Energy Corporation', 'header.status': 'Location', 'location.utm': '', 'location.y': '', 'location.longitude': '63.72334833', 'location.td': '2618', 'location.kb': '73.22', 'header.rig_release': '2008-08-20', 'location.latitude': '45.27526', 'location.gl': '68.54', 'location.datum': ''}\n",
      "{'location.basin': 'Windsor Basin', 'header.license': 'P-129', 'location.x': '', 'header.uwi': '', 'header.name': 'Kennetcook #2', 'header.spud_date': '2007-09-18', 'header.company': 'Elmworth Energy Corporation', 'header.status': 'Plugged and Abandoned', 'location.utm': '', 'location.y': '', 'location.longitude': '63.75679444', 'location.td': '1935', 'location.kb': '94.8', 'header.rig_release': '2007-10-13', 'location.latitude': '45.20951028', 'location.gl': '90.3', 'location.datum': ''}\n",
      "{'location.basin': 'Shubenacadie Basin', 'header.license': 'P-128', 'location.x': '', 'header.uwi': '', 'header.name': 'Morgan', 'header.spud_date': '2007-09-16', 'header.company': 'Forent Energy Ltd.', 'header.status': 'Well Operations', 'location.utm': '', 'location.y': '', 'location.longitude': '63.46929222', 'location.td': '655', 'location.kb': '47', 'header.rig_release': '2007-09-18', 'location.latitude': '45.04896444', 'location.gl': '43', 'location.datum': ''}\n",
      "{'location.basin': 'Shubenacadie Basin', 'header.license': 'P-127', 'location.x': '', 'header.uwi': '', 'header.name': 'William', 'header.spud_date': '2007-09-14', 'header.company': 'Forent Energy Ltd.', 'header.status': 'Well Operations', 'location.utm': '', 'location.y': '', 'location.longitude': '63.46884583', 'location.td': '390', 'location.kb': '33', 'header.rig_release': '2007-09-16', 'location.latitude': '45.04896444', 'location.gl': '29', 'location.datum': ''}\n",
      "{'location.basin': 'Windsor Basin', 'header.license': 'P-126', 'location.x': '', 'header.uwi': '', 'header.name': 'Kennetcook #1', 'header.spud_date': '2007-08-26', 'header.company': 'Elmworth Energy', 'header.status': 'Plugged and Abandoned', 'location.utm': '', 'location.y': '', 'location.longitude': '63.71606389', 'location.td': '1385', 'location.kb': '61.9', 'header.rig_release': '2007-09-15', 'location.latitude': '45.19742861', 'location.gl': '57.4', 'location.datum': ''}\n",
      "{'location.basin': 'Cumberland Basin', 'header.license': 'P-125', 'location.x': '5054801.3', 'header.uwi': '', 'header.name': 'Coal Mine Brook #13', 'header.spud_date': '2006-09-17', 'header.company': 'Stealth Ventures Ltd.', 'header.status': 'Suspended', 'location.utm': '20', 'location.y': '414897.62', 'location.longitude': '0', 'location.td': '1052', 'location.kb': '108', 'header.rig_release': '2006-10-06', 'location.latitude': '0', 'location.gl': '103.7', 'location.datum': ''}\n",
      "{'location.basin': 'Cumberland Basin', 'header.license': 'P-124', 'location.x': '5054829.65', 'header.uwi': '', 'header.name': 'Coal Mine Brook #12', 'header.spud_date': '2006-08-23', 'header.company': 'Stealth Ventures Ltd.', 'header.status': 'Suspended', 'location.utm': '20', 'location.y': '414889.19', 'location.longitude': '0', 'location.td': '1638', 'location.kb': '107.89', 'header.rig_release': '2006-09-14', 'location.latitude': '0', 'location.gl': '103.59', 'location.datum': 'NAD83'}\n",
      "{'location.basin': 'Stellarton Basin', 'header.license': 'P-123', 'location.x': '5046923.44', 'header.uwi': '', 'header.name': 'Priestville #4', 'header.spud_date': '2006-05-15', 'header.company': 'Stealth Ventures Ltd.', 'header.status': 'Plugged and Abandoned', 'location.utm': '20', 'location.y': '530128.39', 'location.longitude': '0', 'location.td': '667.8', 'location.kb': '79.1', 'header.rig_release': '2006-05-15', 'location.latitude': '0', 'location.gl': '74.8', 'location.datum': 'NAD 83'}\n",
      "{'location.basin': 'Cumberland Basin', 'header.license': 'P-122', 'location.x': '5055401.32', 'header.uwi': '', 'header.name': 'Coal Mine Brook #3', 'header.spud_date': '2006-01-22', 'header.company': 'Stealth Ventures Ltd.', 'header.status': 'Suspended', 'location.utm': '20', 'location.y': '414933.82', 'location.longitude': '64.09166667', 'location.td': '1687.6', 'location.kb': '105.8', 'header.rig_release': '2006-02-25', 'location.latitude': '45.64694444', 'location.gl': '101.7', 'location.datum': ''}\n",
      "{'location.basin': 'Shubenacadie Basin', 'header.license': 'P-121', 'location.x': '4985368', 'header.uwi': '', 'header.name': 'Milford Station #1', 'header.spud_date': '2005-12-02', 'header.company': 'EOG Resources Inc.', 'header.status': 'Plugged and Abandoned', 'location.utm': '20', 'location.y': '463819', 'location.longitude': '63.45924194', 'location.td': '870', 'location.kb': '42', 'header.rig_release': '2005-12-16', 'location.latitude': '45.022795', 'location.gl': '38', 'location.datum': ''}\n",
      "{'location.basin': 'Shubenacadie Basin', 'header.license': 'P-120', 'location.x': '', 'header.uwi': '', 'header.name': 'Hardwoodlands #1', 'header.spud_date': '2005-11-03', 'header.company': 'EOG Resources Inc.', 'header.status': 'Plugged and Abandoned', 'location.utm': '', 'location.y': '', 'location.longitude': '63.51383361', 'location.td': '835', 'location.kb': '39', 'header.rig_release': '2005-11-15', 'location.latitude': '45.02395556', 'location.gl': '35', 'location.datum': 'NAD 27'}\n",
      "{'location.basin': 'Shubenacadie Basin', 'header.license': 'P-119', 'location.x': '', 'header.uwi': '', 'header.name': \"Barney's Brook #1\", 'header.spud_date': '2005-09-21', 'header.company': 'EOG Resources Inc.', 'header.status': 'Plugged and Abandoned', 'location.utm': '', 'location.y': '', 'location.longitude': '63.46906917', 'location.td': '749', 'location.kb': '47.02', 'header.rig_release': '2005-10-31', 'location.latitude': '45.04912444', 'location.gl': '42.96', 'location.datum': 'NAD 27'}\n",
      "{'location.basin': 'Stellarton Basin', 'header.license': 'P-118', 'location.x': '5045629.31', 'header.uwi': '', 'header.name': 'Priestville #3', 'header.spud_date': '2004-11-02', 'header.company': 'Amvest Oil & Gas', 'header.status': 'Suspended', 'location.utm': '', 'location.y': '530497.4', 'location.longitude': '0', 'location.td': '994.49', 'location.kb': '52.05', 'header.rig_release': '2005-01-15', 'location.latitude': '0', 'location.gl': '47.7', 'location.datum': ''}\n",
      "{'location.basin': 'Windsor Basin', 'header.license': 'P-117', 'location.x': '4992390.081', 'header.uwi': '', 'header.name': 'Cogmagun #1', 'header.spud_date': '2003-09-18', 'header.company': 'Oiltec Resources Ltd.', 'header.status': 'Plugged and Abandoned', 'location.utm': '20', 'location.y': '417791.424', 'location.longitude': '0', 'location.td': '495.74', 'location.kb': '53.67', 'header.rig_release': '2003-09-26', 'location.latitude': '0', 'location.gl': '48.17', 'location.datum': 'NAD 27'}\n",
      "{'location.basin': 'Antigonish Basin', 'header.license': 'P-116', 'location.x': '', 'header.uwi': '', 'header.name': 'UPCI Beech Hill #1', 'header.spud_date': '2003-07-21', 'header.company': 'Vintage Petroleum', 'header.status': 'Plugged and Abandoned', 'location.utm': '', 'location.y': '', 'location.longitude': '61.97282417', 'location.td': '1044.5', 'location.kb': '71', 'header.rig_release': '2003-08-13', 'location.latitude': '45.5733125', 'location.gl': '71', 'location.datum': ''}\n",
      "{'location.basin': 'Stellarton Basin', 'header.license': 'P-115', 'location.x': '', 'header.uwi': '', 'header.name': 'ECA 400-2', 'header.spud_date': '2002-11-05', 'header.company': 'EnCana Corporation', 'header.status': 'Suspended', 'location.utm': '', 'location.y': '', 'location.longitude': '62.61661111', 'location.td': '912', 'location.kb': '65', 'header.rig_release': '2002-11-18', 'location.latitude': '45.57425', 'location.gl': '65', 'location.datum': 'NAD 27'}\n",
      "{'location.basin': 'Windsor Basin', 'header.license': 'P-114', 'location.x': '5002880.531', 'header.uwi': '', 'header.name': 'Devon Cheverie #1', 'header.spud_date': '2001-11-10', 'header.company': 'Devon Canada (formerly Northstar Energy)', 'header.status': 'Plugged and Abandoned', 'location.utm': '20', 'location.y': '414876.759', 'location.longitude': '0', 'location.td': '1394', 'location.kb': '93.8', 'header.rig_release': '2001-11-30', 'location.latitude': '0', 'location.gl': '90.6', 'location.datum': 'NAD 27'}\n",
      "{'location.basin': 'Shubenacadie Basin', 'header.license': 'P-113', 'location.x': '', 'header.uwi': '', 'header.name': 'EOG Cloverdale #1', 'header.spud_date': '2001-10-07', 'header.company': 'EOG Resources', 'header.status': 'Plugged and Abandoned', 'location.utm': '', 'location.y': '', 'location.longitude': '63.23894444', 'location.td': '923', 'location.kb': '82.6', 'header.rig_release': '2001-10-26', 'location.latitude': '45.15541944', 'location.gl': '78.31', 'location.datum': 'NAD 27'}\n",
      "{'location.basin': 'Windsor Basin', 'header.license': 'P-112', 'location.x': '5013208', 'header.uwi': '', 'header.name': 'Creelman', 'header.spud_date': '2001-04-22', 'header.company': 'Northstar Energy', 'header.status': 'Plugged and Abandoned', 'location.utm': '20', 'location.y': '453122', 'location.longitude': '0.014980556', 'location.td': '1407', 'location.kb': '150.73', 'header.rig_release': '2001-06-16', 'location.latitude': '0', 'location.gl': '150.73', 'location.datum': 'NAD 27'}\n",
      "{'location.basin': 'Windsor Basin', 'header.license': 'P-111', 'location.x': '5004112', 'header.uwi': '', 'header.name': 'Coolbrook', 'header.spud_date': '2001-02-19', 'header.company': 'Northstar Energy', 'header.status': 'Plugged and Abandoned', 'location.utm': '20', 'location.y': '437870', 'location.longitude': '0', 'location.td': '1349', 'location.kb': '63.3', 'header.rig_release': '2001-04-14', 'location.latitude': '0', 'location.gl': '60.1', 'location.datum': 'NAD 27'}\n",
      "{'location.basin': 'Windsor Basin', 'header.license': 'P-110', 'location.x': '4986616', 'header.uwi': '', 'header.name': 'Avondale #2', 'header.spud_date': '2000-01-19', 'header.company': 'Northstar Energy', 'header.status': 'Plugged and Abandoned', 'location.utm': '20', 'location.y': '411222', 'location.longitude': '0', 'location.td': '210', 'location.kb': '38.7', 'header.rig_release': '2000-01-22', 'location.latitude': '0', 'location.gl': '38.2', 'location.datum': 'NAD 27'}\n",
      "{'location.basin': 'Windsor Basin', 'header.license': 'P-109', 'location.x': '4987184', 'header.uwi': '', 'header.name': 'Avondale #1', 'header.spud_date': '1999-12-15', 'header.company': 'Northstar Energy', 'header.status': 'Plugged and Abandoned', 'location.utm': '20', 'location.y': '411794', 'location.longitude': '0', 'location.td': '298', 'location.kb': '30.5', 'header.rig_release': '1999-12-18', 'location.latitude': '0', 'location.gl': '30', 'location.datum': 'NAD 27'}\n",
      "{'location.basin': 'Shubenacadie Basin', 'header.license': 'P-108', 'location.x': '', 'header.uwi': '', 'header.name': 'Alton 99-1', 'header.spud_date': '1999-07-22', 'header.company': 'Hunt Oil Company', 'header.status': 'Plugged and Abandoned', 'location.utm': '20', 'location.y': '', 'location.longitude': '63.27211111', 'location.td': '1282', 'location.kb': '53.65', 'header.rig_release': '1999-08-22', 'location.latitude': '45.19197222', 'location.gl': '49.99', 'location.datum': 'NAD 27'}\n",
      "{'location.basin': 'Stellarton Basin', 'header.license': 'P-107', 'location.x': '5049520.3', 'header.uwi': '', 'header.name': 'Highland Mall REI-SB-P3', 'header.spud_date': '1996-09-11', 'header.company': 'Resources Enterprises Inc. (REI)', 'header.status': 'Suspended', 'location.utm': '20', 'location.y': '4409210.8', 'location.longitude': '0', 'location.td': '1400', 'location.kb': '37.65', 'header.rig_release': '1996-09-29', 'location.latitude': '0', 'location.gl': '34', 'location.datum': 'NAD 27'}\n",
      "{'location.basin': 'Stellarton Basin', 'header.license': 'P-106', 'location.x': '5048440', 'header.uwi': '', 'header.name': 'Heather REI-SB-P2', 'header.spud_date': '1996-08-14', 'header.company': 'Resources Enterprises Inc. (REI)', 'header.status': 'Suspended', 'location.utm': '20', 'location.y': '4409130', 'location.longitude': '0', 'location.td': '1200', 'location.kb': '29.87', 'header.rig_release': '1996-09-07', 'location.latitude': '0', 'location.gl': '26.22', 'location.datum': 'NAD 27'}\n",
      "{'location.basin': 'Stellarton Basin', 'header.license': 'P-105', 'location.x': '5047054', 'header.uwi': '', 'header.name': 'Lourdes REI-SB-P1', 'header.spud_date': '1995-09-01', 'header.company': 'Resources Enterprises Inc. (REI)', 'header.status': 'Suspended', 'location.utm': '20', 'location.y': '526291', 'location.longitude': '62.16366667', 'location.td': '1050', 'location.kb': '33', 'header.rig_release': '1995-10-11', 'location.latitude': '45.59266667', 'location.gl': '30', 'location.datum': 'ATS 77 '}\n",
      "{'location.basin': 'Cumberland Basin', 'header.license': 'P-104', 'location.x': '5054459', 'header.uwi': '', 'header.name': 'Springhill/Athol REI-B1-4', 'header.spud_date': '1994-10-05', 'header.company': 'Resources Enterprises Inc. (REI)', 'header.status': 'Plugged and Abandoned', 'location.utm': '20', 'location.y': '414717', 'location.longitude': '64.09427972', 'location.td': '1220', 'location.kb': '', 'header.rig_release': '1994-12-12', 'location.latitude': '45.63844444', 'location.gl': '', 'location.datum': ''}\n",
      "{'location.basin': 'Cumberland Basin', 'header.license': 'P-103', 'location.x': '5045349', 'header.uwi': '', 'header.name': 'Newville Lake REI-B3-3', 'header.spud_date': '1994-10-28', 'header.company': 'Resources Enterprises Inc. (REI)', 'header.status': 'Plugged and Abandoned', 'location.utm': '20', 'location.y': '394568', 'location.longitude': '64.35140583', 'location.td': '828', 'location.kb': '22.944', 'header.rig_release': '1994-11-21', 'location.latitude': '45.55361361', 'location.gl': '19.944', 'location.datum': ''}\n",
      "{'location.basin': 'Cumberland Basin', 'header.license': 'P-102', 'location.x': '5056748', 'header.uwi': '', 'header.name': 'Shallow Springhill REI-B1-2', 'header.spud_date': '1994-09-21', 'header.company': 'Resources Enterprises Inc. (REI)', 'header.status': 'Plugged and Abandoned', 'location.utm': '20', 'location.y': '417522', 'location.longitude': '64.05931778', 'location.td': '183', 'location.kb': '', 'header.rig_release': '1994-09-29', 'location.latitude': '45.65930083', 'location.gl': '', 'location.datum': ''}\n",
      "{'location.basin': 'Cumberland Basin', 'header.license': 'P-101', 'location.x': '5058940', 'header.uwi': '', 'header.name': 'River Hebert  REI-B2-1', 'header.spud_date': '1994-09-12', 'header.company': 'Resources Enterprises Inc. (REI)', 'header.status': 'Plugged and Abandoned', 'location.utm': '20', 'location.y': '393129', 'location.longitude': '64.37282389', 'location.td': '4283', 'location.kb': '', 'header.rig_release': '1994-10-25', 'location.latitude': '45.67569583', 'location.gl': '', 'location.datum': ''}\n",
      "{'location.basin': 'Shubenacadie Basin', 'header.license': 'P-100', 'location.x': '5003506', 'header.uwi': '', 'header.name': 'Angus 94-1', 'header.spud_date': '1994-09-04', 'header.company': 'Eagle Petroleum Inc./Forgaz Inc.', 'header.status': 'Plugged and Abandoned', 'location.utm': '20', 'location.y': '479707', 'location.longitude': '63.25897222', 'location.td': '1493', 'location.kb': '', 'header.rig_release': '1994-10-02', 'location.latitude': '45.18466667', 'location.gl': '', 'location.datum': ''}\n",
      "{'location.basin': 'Windsor Basin', 'header.license': 'P-99', 'location.x': '5005488', 'header.uwi': '', 'header.name': 'South Noel #1', 'header.spud_date': '1988-11-29', 'header.company': 'Consultants A.G.R.E.N. Canada Ltd.', 'header.status': 'Plugged and Abandoned', 'location.utm': '20', 'location.y': '444994', 'location.longitude': '63.70036389', 'location.td': '345', 'location.kb': '', 'header.rig_release': '1992-04-15', 'location.latitude': '45.20268611', 'location.gl': '', 'location.datum': ''}\n",
      "{'location.basin': 'Western Cape Breton Basin', 'header.license': 'P-98', 'location.x': '5098111', 'header.uwi': '', 'header.name': 'Irving Chevron Mull River #1', 'header.spud_date': '1988-05-30', 'header.company': 'Chevron Canada Resources Ltd.', 'header.status': 'Plugged and Abandoned', 'location.utm': '20', 'location.y': '626989', 'location.longitude': '61.36111111', 'location.td': '1502', 'location.kb': '195.28', 'header.rig_release': '1988-07-11', 'location.latitude': '46.02386111', 'location.gl': '192', 'location.datum': ''}\n",
      "{'location.basin': 'Sydney Basin', 'header.license': 'P-97', 'location.x': '5079560', 'header.uwi': '', 'header.name': 'North Glen', 'header.spud_date': '1983-10-27', 'header.company': 'CORKAN Engineering of Canada Ltd.', 'header.status': 'Plugged and Abandoned', 'location.utm': '20', 'location.y': '693972', 'location.longitude': '60.50194444', 'location.td': '1255.8', 'location.kb': '', 'header.rig_release': 'TD on March 2, 1984; P& A by NSDME Aug. 1984', 'location.latitude': '45.84210833', 'location.gl': '', 'location.datum': ''}\n",
      "{'location.basin': 'Central Cape Breton Basin', 'header.license': 'P-96', 'location.x': '5071295', 'header.uwi': '', 'header.name': 'Loch Lomond', 'header.spud_date': '1983-10-28', 'header.company': 'CORKAN Engineering of Canada Ltd.', 'header.status': 'Plugged and Abandoned', 'location.utm': '20', 'location.y': '687377', 'location.longitude': '60.59080278', 'location.td': '246.9', 'location.kb': '', 'header.rig_release': 'TD on March 1, 1984; P& A by NSDME Aug. 1984', 'location.latitude': '45.76978889', 'location.gl': '', 'location.datum': ''}\n",
      "{'location.basin': 'Central Cape Breton Basin', 'header.license': 'P-95', 'location.x': '5047999', 'header.uwi': '', 'header.name': 'Bear Island', 'header.spud_date': '1983-09-30', 'header.company': 'CORKAN Engineering of Canada Ltd.', 'header.status': 'Plugged and Abandoned', 'location.utm': '20', 'location.y': '632831', 'location.longitude': '61.29835278', 'location.td': '414.2', 'location.kb': '', 'header.rig_release': 'January 11, 1984;      P & A by NSDME Aug. 1984', 'location.latitude': '45.57267778', 'location.gl': '', 'location.datum': ''}\n",
      "{'location.basin': 'Central Cape Breton Basin', 'header.license': 'P-94', 'location.x': '5048868', 'header.uwi': '', 'header.name': 'Port Malcolm', 'header.spud_date': '1983-09-13', 'header.company': 'CORKAN Engineering of Canada Ltd.', 'header.status': 'Plugged and Abandoned', 'location.utm': '20', 'location.y': '633030', 'location.longitude': '61.29550556', 'location.td': '1091.8', 'location.kb': '', 'header.rig_release': '1983-10-16', 'location.latitude': '45.580525', 'location.gl': '', 'location.datum': ''}\n",
      "{'location.basin': 'Cumberland Basin', 'header.license': 'P-93', 'location.x': '5053997', 'header.uwi': '', 'header.name': 'Scotsburn #2', 'header.spud_date': '1981-08-11', 'header.company': 'Chevron Standard Ltd./ Irving Oil Ltd.', 'header.status': 'Plugged and Abandoned', 'location.utm': '20', 'location.y': '499814', 'location.longitude': '63.00299444', 'location.td': '2638', 'location.kb': '95.39', 'header.rig_release': '1981-11-29', 'location.latitude': '45.63933056', 'location.gl': '88.84', 'location.datum': ''}\n",
      "{'location.basin': 'Western Cape Breton Basin', 'header.license': 'P-92', 'location.x': '5081497', 'header.uwi': '', 'header.name': 'Malagawatch #1', 'header.spud_date': '1979-10-31', 'header.company': 'Chevron Standard Ltd./ Irving Oil Ltd.', 'header.status': 'Plugged and Abandoned', 'location.utm': '20', 'location.y': '661369', 'location.longitude': '60.92166667', 'location.td': '948', 'location.kb': '8.03', 'header.rig_release': '1979-11-23', 'location.latitude': '45.86805556', 'location.gl': '3.06', 'location.datum': ''}\n",
      "{'location.basin': 'Western Cape Breton Basin', 'header.license': 'P-91', 'location.x': '5082574', 'header.uwi': '', 'header.name': \"Bras d'Or #2\", 'header.spud_date': '1979-10-03', 'header.company': 'Chevron Standard Ltd./ Irving Oil Ltd.', 'header.status': 'Plugged and Abandoned', 'location.utm': '20', 'location.y': '655150', 'location.longitude': '61.00138889', 'location.td': '375', 'location.kb': '15.1', 'header.rig_release': '1979-10-15', 'location.latitude': '45.87916667', 'location.gl': '', 'location.datum': ''}\n",
      "{'location.basin': 'Western Cape Breton Basin', 'header.license': 'P-90', 'location.x': '5082103', 'header.uwi': '', 'header.name': \"Bras d'Or #1\", 'header.spud_date': '1979-09-21', 'header.company': 'Chevron Standard Ltd./ Irving Oil Ltd.', 'header.status': 'Plugged and Abandoned', 'location.utm': '20', 'location.y': '654839', 'location.longitude': '61.00555556', 'location.td': '216', 'location.kb': '', 'header.rig_release': '1979-09-30', 'location.latitude': '45.875', 'location.gl': '', 'location.datum': ''}\n",
      "{'location.basin': 'Western Cape Breton Basin', 'header.license': 'P-89', 'location.x': '5082103', 'header.uwi': '', 'header.name': \"Bras d'Or #3A-78\", 'header.spud_date': '1978-07-23', 'header.company': 'Chevron Standard Ltd.', 'header.status': 'Plugged and Abandoned', 'location.utm': '20', 'location.y': '654839', 'location.longitude': '61.00555556', 'location.td': '182', 'location.kb': '', 'header.rig_release': 'Unknown', 'location.latitude': '45.875', 'location.gl': '', 'location.datum': ''}\n",
      "{'location.basin': 'Antigonish Basin', 'header.license': 'P-88', 'location.x': '5056116', 'header.uwi': '', 'header.name': 'Brador Anchutz Hole #1', 'header.spud_date': '1976-07-27', 'header.company': \"Brad d'Or Oil Company Ltd.\", 'header.status': 'Plugged and Abandoned', 'location.utm': '20', 'location.y': '587039', 'location.longitude': '61.88371389', 'location.td': '1044.34', 'location.kb': '9.14', 'header.rig_release': '1976-08-14', 'location.latitude': '45.65301667', 'location.gl': '5.49', 'location.datum': ''}\n",
      "{'location.basin': 'Windsor Basin', 'header.license': 'P-87', 'location.x': '5006806', 'header.uwi': '', 'header.name': 'Noel #1', 'header.spud_date': '1975-07-18', 'header.company': 'SOQUIP A.C.C.et al', 'header.status': 'Plugged and Abandoned', 'location.utm': '20', 'location.y': '444714', 'location.longitude': '63.70472222', 'location.td': '1448.42', 'location.kb': '69.9516', 'header.rig_release': '1975-08-13', 'location.latitude': '45.2125', 'location.gl': '', 'location.datum': ''}\n",
      "{'location.basin': 'Cumberland Basin', 'header.license': 'P-86', 'location.x': '5077186', 'header.uwi': '', 'header.name': 'Hastings #1', 'header.spud_date': '1975-06-11', 'header.company': 'Gulf Oil Canada Ltd.', 'header.status': 'Plugged and Abandoned', 'location.utm': '20', 'location.y': '416100', 'location.longitude': '64.08111111', 'location.td': '2939.5', 'location.kb': '', 'header.rig_release': '1975-08-11', 'location.latitude': '45.84305556', 'location.gl': '', 'location.datum': 'NAD 83'}\n",
      "{'location.basin': 'Cumberland Basin', 'header.license': 'P-85', 'location.x': '5068720', 'header.uwi': '', 'header.name': 'Wallace Station #1', 'header.spud_date': '1972-12-22', 'header.company': 'Anschutz (Canada) Exploration Ltd.', 'header.status': 'Plugged and Abandoned', 'location.utm': '20', 'location.y': '460527', 'location.longitude': '63.50833333', 'location.td': '4536', 'location.kb': '', 'header.rig_release': '1973-08-29', 'location.latitude': '45.77083333', 'location.gl': '', 'location.datum': ''}\n",
      "{'location.basin': 'Sydney Basin', 'header.license': 'P-84', 'location.x': '5114736', 'header.uwi': '', 'header.name': 'Birch Grove #1', 'header.spud_date': '1968-02-08', 'header.company': 'Murphy Oil Company Ltd.', 'header.status': 'Plugged and Abandoned', 'location.utm': '20', 'location.y': '736786', 'location.longitude': '59.93473333', 'location.td': '1343.6', 'location.kb': '49.74', 'header.rig_release': '1968-03-24', 'location.latitude': '46.14511111', 'location.gl': '46.5', 'location.datum': ''}\n",
      "{'location.basin': 'Cumberland Basin', 'header.license': 'P-83', 'location.x': '5077394', 'header.uwi': '', 'header.name': 'Pacific Fox Harbour C-96-V', 'header.spud_date': '1963-12-10', 'header.company': 'Pacific Petroleum Ltd.', 'header.status': 'Plugged and Abandoned', 'location.utm': '20', 'location.y': '460216', 'location.longitude': '63.51301944', 'location.td': '3003.2', 'location.kb': '', 'header.rig_release': '1964-05-04', 'location.latitude': '45.84895833', 'location.gl': '', 'location.datum': ''}\n",
      "{'location.basin': 'Western Cape Breton Basin', 'header.license': 'P-82', 'location.x': '5098725', 'header.uwi': '', 'header.name': 'Port Hood #1', 'header.spud_date': '1960-01-16', 'header.company': 'Imperial Oil Limited', 'header.status': 'Plugged and Abandoned', 'location.utm': '20', 'location.y': '617492', 'location.longitude': '61.4825', 'location.td': '2999.2', 'location.kb': '', 'header.rig_release': '1960-04-11', 'location.latitude': '46.03194444', 'location.gl': '', 'location.datum': ''}\n",
      "{'location.basin': 'Western Cape Breton Basin', 'header.license': 'P-81', 'location.x': '5097923', 'header.uwi': '', 'header.name': 'Mabou #1', 'header.spud_date': '1959-10-24', 'header.company': 'Imperial Oil Limited', 'header.status': 'Plugged and Abandoned', 'location.utm': '20', 'location.y': '623831', 'location.longitude': '61.40083333', 'location.td': '1568.2', 'location.kb': '', 'header.rig_release': '1959-12-31', 'location.latitude': '46.02361111', 'location.gl': '', 'location.datum': ''}\n",
      "{'location.basin': 'Antigonish Basin', 'header.license': 'P-80', 'location.x': '5057113', 'header.uwi': '', 'header.name': 'Lura #1; NSDM Record # 2671', 'header.spud_date': '1958-10-04', 'header.company': 'Lura Corporation Ltd.', 'header.status': 'Plugged and Abandoned', 'location.utm': '20', 'location.y': '589860', 'location.longitude': '61.84722222', 'location.td': '607.5', 'location.kb': '', 'header.rig_release': '1958-12-12', 'location.latitude': '45.66166667', 'location.gl': '', 'location.datum': ''}\n",
      "{'location.basin': 'Western Cape Breton Basin', 'header.license': 'P-79', 'location.x': '5104898', 'header.uwi': '', 'header.name': 'Inverness #6', 'header.spud_date': '1958-08-26', 'header.company': 'Imperial Oil Limited', 'header.status': 'Plugged and Abandoned', 'location.utm': '20', 'location.y': '642255', 'location.longitude': '61.16083333', 'location.td': '51.8', 'location.kb': '', 'header.rig_release': '1958-09-10', 'location.latitude': '46.08277778', 'location.gl': '', 'location.datum': ''}\n",
      "{'location.basin': 'Western Cape Breton Basin', 'header.license': 'P-78', 'location.x': '5105328', 'header.uwi': '', 'header.name': 'Inverness #5', 'header.spud_date': '1958-08-26', 'header.company': 'Imperial Oil Limited', 'header.status': 'Plugged and Abandoned', 'location.utm': '20', 'location.y': '642159', 'location.longitude': '61.16194444', 'location.td': '30.5', 'location.kb': '', 'header.rig_release': '1958-09-10', 'location.latitude': '46.08666667', 'location.gl': '', 'location.datum': ''}\n",
      "{'location.basin': 'Western Cape Breton Basin', 'header.license': 'P-77', 'location.x': '5086881', 'header.uwi': '', 'header.name': 'Inverness #4', 'header.spud_date': '1958-08-26', 'header.company': 'Imperial Oil Limited', 'header.status': 'Plugged and Abandoned', 'location.utm': '20', 'location.y': '619721', 'location.longitude': '61.45666667', 'location.td': '143.3', 'location.kb': '', 'header.rig_release': '1958-09-10', 'location.latitude': '45.925', 'location.gl': '', 'location.datum': ''}\n",
      "{'location.basin': 'Western Cape Breton Basin', 'header.license': 'P-76', 'location.x': '5108416', 'header.uwi': '', 'header.name': 'Inverness #3', 'header.spud_date': '1958-08-26', 'header.company': 'Imperial Oil Limited', 'header.status': 'Plugged and Abandoned', 'location.utm': '20', 'location.y': '639446', 'location.longitude': '61.19611111', 'location.td': '146.3', 'location.kb': '', 'header.rig_release': '1958-09-10', 'location.latitude': '46.115', 'location.gl': '', 'location.datum': ''}\n",
      "{'location.basin': 'Western Cape Breton Basin', 'header.license': 'P-75', 'location.x': '5099226', 'header.uwi': '', 'header.name': 'Inverness #2', 'header.spud_date': '1958-08-26', 'header.company': 'Imperial Oil Limited', 'header.status': 'Plugged and Abandoned', 'location.utm': '20', 'location.y': '625697', 'location.longitude': '61.37638889', 'location.td': '79.3', 'location.kb': '', 'header.rig_release': '1958-09-10', 'location.latitude': '46.035', 'location.gl': '', 'location.datum': ''}\n",
      "{'location.basin': 'Western Cape Breton Basin', 'header.license': 'P-74', 'location.x': '5102158', 'header.uwi': '', 'header.name': 'Inverness #1', 'header.spud_date': '1958-08-26', 'header.company': 'Imperial Oil Limited', 'header.status': 'Plugged and Abandoned', 'location.utm': '20', 'location.y': '624068', 'location.longitude': '61.39666667', 'location.td': '155.5', 'location.kb': '', 'header.rig_release': '1958-09-10', 'location.latitude': '46.06166667', 'location.gl': '', 'location.datum': ''}\n",
      "{'location.basin': 'Windsor Basin', 'header.license': 'P-73', 'location.x': '5003030', 'header.uwi': '', 'header.name': 'Anthony #3', 'header.spud_date': '1905-05-04', 'header.company': 'Nova Scotia Oil & Gas Company', 'header.status': 'Plugged and Abandoned', 'location.utm': '20', 'location.y': '442563', 'location.longitude': '63.73166667', 'location.td': '788.8', 'location.kb': '', 'header.rig_release': '1905-05-04', 'location.latitude': '45.17833333', 'location.gl': '', 'location.datum': ''}\n",
      "{'location.basin': 'Antigonish Basin', 'header.license': 'P-72', 'location.x': '5065422', 'header.uwi': '', 'header.name': 'NSDM Record # 1505', 'header.spud_date': '1949-07-13', 'header.company': 'Nova Scotia Centre for Geological Science', 'header.status': 'Plugged and Abandoned', 'location.utm': '20', 'location.y': '576447', 'location.longitude': '62.01805556', 'location.td': '217', 'location.kb': '', 'header.rig_release': '1949-09-19', 'location.latitude': '45.73805556', 'location.gl': '', 'location.datum': ''}\n",
      "{'location.basin': 'Western Cape Breton Basin', 'header.license': 'P-71', 'location.x': '5106320', 'header.uwi': '', 'header.name': 'Hay River; NSDM Record # 1453', 'header.spud_date': '1948-08-09', 'header.company': 'Little Narrows Petroleum Company', 'header.status': 'Plugged and Abandoned', 'location.utm': '20', 'location.y': '635476', 'location.longitude': '61.24805556', 'location.td': '211.5', 'location.kb': '', 'header.rig_release': '1948-09-30', 'location.latitude': '46.09694444', 'location.gl': '', 'location.datum': ''}\n",
      "{'location.basin': 'Western Cape Breton Basin', 'header.license': 'P-70', 'location.x': '5094133', 'header.uwi': '', 'header.name': 'NSDM Record # 1452, No.2', 'header.spud_date': '1947-10-27', 'header.company': 'Little Narrows Petroleum Company', 'header.status': 'Plugged and Abandoned', 'location.utm': '20', 'location.y': '659167', 'location.longitude': '60.94583333', 'location.td': '610.8', 'location.kb': '', 'header.rig_release': '1948-04-22', 'location.latitude': '45.98222222', 'location.gl': '', 'location.datum': ''}\n",
      "{'location.basin': 'Western Cape Breton Basin', 'header.license': 'P-69', 'location.x': '5093297', 'header.uwi': '', 'header.name': 'Little Narrows No. 1; NSDM Record # 1236', 'header.spud_date': '1946-11-26', 'header.company': 'Little Narrows Petroleum Company', 'header.status': 'Plugged and Abandoned', 'location.utm': '20', 'location.y': '659080', 'location.longitude': '60.94722222', 'location.td': '492', 'location.kb': '', 'header.rig_release': '1946-07-08', 'location.latitude': '45.97472222', 'location.gl': '', 'location.datum': ''}\n",
      "{'location.basin': 'Western Cape Breton Basin', 'header.license': 'P-68', 'location.x': '5093297', 'header.uwi': '', 'header.name': 'NSDM Record # 1235', 'header.spud_date': '1946-11-26', 'header.company': 'Little Narrows Petroleum Company', 'header.status': 'Plugged and Abandoned', 'location.utm': '20', 'location.y': '659080', 'location.longitude': '60.94722222', 'location.td': '99.7', 'location.kb': '', 'header.rig_release': '1946-07-08', 'location.latitude': '45.97472222', 'location.gl': '', 'location.datum': ''}\n",
      "{'location.basin': 'Sydney Basin', 'header.license': 'P-67', 'location.x': '5111488', 'header.uwi': '', 'header.name': 'NSDM Record # 1098; Borehole #3', 'header.spud_date': '1946-09-01', 'header.company': 'Sydney Petroleum Company', 'header.status': 'Plugged and Abandoned', 'location.utm': '20', 'location.y': '729389', 'location.longitude': '60.03194444', 'location.td': '25', 'location.kb': '', 'header.rig_release': '1946-10-24', 'location.latitude': '46.11833333', 'location.gl': '', 'location.datum': ''}\n",
      "{'location.basin': 'Sydney Basin', 'header.license': 'P-66', 'location.x': '5113620', 'header.uwi': '', 'header.name': 'NSDM Record # 1097; Borehole #2', 'header.spud_date': '1946-09-01', 'header.company': 'Sydney Petroleum Company', 'header.status': 'Plugged and Abandoned', 'location.utm': '20', 'location.y': '731823', 'location.longitude': '59.99944444', 'location.td': '71', 'location.kb': '', 'header.rig_release': '1946-10-24', 'location.latitude': '46.13666667', 'location.gl': '', 'location.datum': ''}\n",
      "{'location.basin': 'Sydney Basin', 'header.license': 'P-65', 'location.x': '5113079', 'header.uwi': '', 'header.name': 'NSDM Record # 1096; Borehole #1', 'header.spud_date': '1946-09-01', 'header.company': 'Sydney Petroleum Company', 'header.status': 'Plugged and Abandoned', 'location.utm': '20', 'location.y': '731414', 'location.longitude': '60.005', 'location.td': '77', 'location.kb': '', 'header.rig_release': '1946-10-24', 'location.latitude': '46.13194444', 'location.gl': '', 'location.datum': ''}\n",
      "{'location.basin': 'Stellarton Basin', 'header.license': 'P-64', 'location.x': '5048654', 'header.uwi': '', 'header.name': 'NSDM Record # 1172; Borehole #2', 'header.spud_date': '1946-05-16', 'header.company': 'Pictou Petroleum Company', 'header.status': 'Plugged and Abandoned', 'location.utm': '20', 'location.y': '538730', 'location.longitude': '62.50416667', 'location.td': '11.1', 'location.kb': '', 'header.rig_release': '1946-07-16', 'location.latitude': '45.59027778', 'location.gl': '', 'location.datum': ''}\n",
      "{'location.basin': 'Stellarton Basin', 'header.license': 'P-63', 'location.x': '5048809', 'header.uwi': '', 'header.name': 'NSDM Record # 1171; Borehole #1', 'header.spud_date': '1946-05-16', 'header.company': 'Pictou Petroleum Company', 'header.status': 'Plugged and Abandoned', 'location.utm': '20', 'location.y': '538794', 'location.longitude': '62.50333333', 'location.td': '197', 'location.kb': '', 'header.rig_release': '1946-07-16', 'location.latitude': '45.59166667', 'location.gl': '', 'location.datum': ''}\n",
      "{'location.basin': 'Cumberland Basin', 'header.license': 'P-62', 'location.x': '5070869', 'header.uwi': '', 'header.name': 'Sunoco #1A (Nappan No.1A)', 'header.spud_date': '1946-04-15', 'header.company': 'Sun Oil Company (of Philadelphia)', 'header.status': 'Plugged and Abandoned', 'location.utm': '20', 'location.y': '404633', 'location.longitude': '64.2275', 'location.td': '3506', 'location.kb': '', 'header.rig_release': 'September 1, 1947 (proposed)', 'location.latitude': '45.78472222', 'location.gl': '', 'location.datum': ''}\n",
      "{'location.basin': 'Cumberland Basin', 'header.license': 'P-61', 'location.x': '5070869', 'header.uwi': '', 'header.name': 'Sunoco #1', 'header.spud_date': 'Spring 1945', 'header.company': 'Sun Oil Company (of Philadelphia)', 'header.status': 'Plugged and Abandoned', 'location.utm': '20', 'location.y': '404633', 'location.longitude': '64.2275', 'location.td': '1981', 'location.kb': '', 'header.rig_release': 'around end of November 1945', 'location.latitude': '45.78472222', 'location.gl': '', 'location.datum': ''}\n",
      "{'location.basin': 'Windsor Basin', 'header.license': 'P-60', 'location.x': '5002968', 'header.uwi': '', 'header.name': 'Anthony #2', 'header.spud_date': '1905-04-28', 'header.company': 'Nova Scotia Oil & Gas Company', 'header.status': 'Plugged and Abandoned', 'location.utm': '20', 'location.y': '442563', 'location.longitude': '63.73166667', 'location.td': '265.2', 'location.kb': '', 'header.rig_release': 'Spring 1945', 'location.latitude': '45.17777778', 'location.gl': '', 'location.datum': ''}\n",
      "{'location.basin': 'Windsor Basin', 'header.license': 'P-59', 'location.x': '5002937', 'header.uwi': '', 'header.name': 'Anthony #1', 'header.spud_date': '1905-04-27', 'header.company': 'Nova Scotia Oil & Gas Company', 'header.status': 'Plugged and Abandoned', 'location.utm': '20', 'location.y': '442563', 'location.longitude': '63.73166667', 'location.td': '194', 'location.kb': '', 'header.rig_release': '1944-1945', 'location.latitude': '45.1775', 'location.gl': '', 'location.datum': ''}\n",
      "{'location.basin': 'Western Cape Breton Basin', 'header.license': 'P-58', 'location.x': '5099085', 'header.uwi': '', 'header.name': 'Mary #1', 'header.spud_date': '1905-04-27', 'header.company': 'Lion Oil Refining Company (from Eldorado, Arkansas)', 'header.status': 'Plugged and Abandoned', 'location.utm': '20', 'location.y': '618582', 'location.longitude': '61.46833333', 'location.td': '2094', 'location.kb': '', 'header.rig_release': '', 'location.latitude': '46.035', 'location.gl': '', 'location.datum': ''}\n",
      "{'location.basin': 'Western Cape Breton Basin', 'header.license': 'P-57', 'location.x': '5098573', 'header.uwi': '', 'header.name': 'Mac #1', 'header.spud_date': '1905-04-27', 'header.company': 'Lion Oil Refining Company (from Eldorado, Arkansas)', 'header.status': 'Plugged and Abandoned', 'location.utm': '20', 'location.y': '619215', 'location.longitude': '61.46027778', 'location.td': '1701', 'location.kb': '', 'header.rig_release': '', 'location.latitude': '46.03027778', 'location.gl': '', 'location.datum': ''}\n",
      "{'location.basin': 'Western Cape Breton Basin', 'header.license': 'P-56', 'location.x': '5106193', 'header.uwi': '', 'header.name': 'McIssac Gas Well, Well No. 5', 'header.spud_date': '1938', 'header.company': 'Unknown', 'header.status': 'Plugged and Abandoned', 'location.utm': '20', 'location.y': '639453', 'location.longitude': '61.19666667', 'location.td': '518.2', 'location.kb': '', 'header.rig_release': '', 'location.latitude': '46.095', 'location.gl': '', 'location.datum': ''}\n",
      "{'location.basin': 'Cumberland Basin', 'header.license': 'P-55', 'location.x': '5071080', 'header.uwi': '', 'header.name': 'Amherst #1', 'header.spud_date': '1931-03-09', 'header.company': 'Imperial Oil Limited', 'header.status': 'Plugged and Abandoned', 'location.utm': '20', 'location.y': '404982', 'location.longitude': '64.22305556', 'location.td': '1260', 'location.kb': '', 'header.rig_release': '1931-07-27', 'location.latitude': '45.78666667', 'location.gl': '', 'location.datum': ''}\n",
      "{'location.basin': 'Cumberland Basin', 'header.license': 'P-54', 'location.x': '5053071', 'header.uwi': '', 'header.name': 'Scotsburn #1', 'header.spud_date': '1930-09-09', 'header.company': 'Imperial Oil Limited', 'header.status': 'Plugged and Abandoned', 'location.utm': '20', 'location.y': '499771', 'location.longitude': '63.00361111', 'location.td': '603.5', 'location.kb': '', 'header.rig_release': ' January 3, 1931', 'location.latitude': '45.63111111', 'location.gl': '', 'location.datum': ''}\n",
      "{'location.basin': 'Cumberland Basin', 'header.license': 'P-53', 'location.x': '5072561', 'header.uwi': '', 'header.name': 'Nappan #10', 'header.spud_date': '1929 -1930', 'header.company': 'Imperial Oil Limited', 'header.status': 'Plugged and Abandoned', 'location.utm': '20', 'location.y': '405048', 'location.longitude': '64.2225', 'location.td': '96.3', 'location.kb': '', 'header.rig_release': '', 'location.latitude': '45.8', 'location.gl': '', 'location.datum': ''}\n",
      "{'location.basin': 'Cumberland Basin', 'header.license': 'P-52', 'location.x': '5072384', 'header.uwi': '', 'header.name': 'Nappan #9; NSDM Record No. 720, Borehole #2', 'header.spud_date': '1929-10-31', 'header.company': 'Imperial Oil Limited', 'header.status': 'Plugged and Abandoned', 'location.utm': '20', 'location.y': '406492', 'location.longitude': '64.20388889', 'location.td': '225.6', 'location.kb': '', 'header.rig_release': '1929-12-02', 'location.latitude': '45.79861111', 'location.gl': '', 'location.datum': ''}\n",
      "{'location.basin': 'Cumberland Basin', 'header.license': 'P-51', 'location.x': '5071326', 'header.uwi': '', 'header.name': 'Nappan #8', 'header.spud_date': '1905-04-12', 'header.company': 'Imperial Oil Limited', 'header.status': 'Plugged and Abandoned', 'location.utm': '20', 'location.y': '405029', 'location.longitude': '64.2225', 'location.td': '103.6', 'location.kb': '', 'header.rig_release': '', 'location.latitude': '45.78888889', 'location.gl': '', 'location.datum': ''}\n",
      "{'location.basin': 'Cumberland Basin', 'header.license': 'P-50', 'location.x': '5072191', 'header.uwi': '', 'header.name': 'Nappan #7; NSDM Record No. 710, Borehole #1', 'header.spud_date': '1929-09-09', 'header.company': 'Imperial Oil Limited', 'header.status': 'Plugged and Abandoned', 'location.utm': '20', 'location.y': '404977', 'location.longitude': '64.22333333', 'location.td': '131.7', 'location.kb': '', 'header.rig_release': '1929-10-15', 'location.latitude': '45.79666667', 'location.gl': '', 'location.datum': ''}\n",
      "{'location.basin': 'Cumberland Basin', 'header.license': 'P-49', 'location.x': '5070671', 'header.uwi': '', 'header.name': 'Nappan #6', 'header.spud_date': '1928-1929', 'header.company': 'Imperial Oil Limited', 'header.status': 'Plugged and Abandoned', 'location.utm': '20', 'location.y': '407546', 'location.longitude': '64.19', 'location.td': '90.8', 'location.kb': '', 'header.rig_release': '', 'location.latitude': '45.78333333', 'location.gl': '', 'location.datum': ''}\n",
      "{'location.basin': 'Cumberland Basin', 'header.license': 'P-48', 'location.x': '5070671', 'header.uwi': '', 'header.name': 'Nappan #5', 'header.spud_date': '1928-1929', 'header.company': 'Imperial Oil Limited', 'header.status': 'Plugged and Abandoned', 'location.utm': '20', 'location.y': '407546', 'location.longitude': '64.19', 'location.td': '242.3', 'location.kb': '', 'header.rig_release': '', 'location.latitude': '45.78333333', 'location.gl': '', 'location.datum': ''}\n",
      "{'location.basin': 'Cumberland Basin', 'header.license': 'P-47', 'location.x': '5070447', 'header.uwi': '', 'header.name': 'Nappan #4', 'header.spud_date': '1928-1929', 'header.company': 'Imperial Oil Limited', 'header.status': 'Plugged and Abandoned', 'location.utm': '20', 'location.y': '404000', 'location.longitude': '64.23555556', 'location.td': '242.3', 'location.kb': '', 'header.rig_release': '', 'location.latitude': '45.78083333', 'location.gl': '', 'location.datum': ''}\n",
      "{'location.basin': 'Cumberland Basin', 'header.license': 'P-46', 'location.x': '5069419', 'header.uwi': '', 'header.name': 'Nappan #3', 'header.spud_date': ' December 1927', 'header.company': 'Imperial Oil Limited', 'header.status': 'Plugged and Abandoned', 'location.utm': '20', 'location.y': '404568', 'location.longitude': '64.22805556', 'location.td': '54', 'location.kb': '', 'header.rig_release': ' January 1928', 'location.latitude': '45.77166667', 'location.gl': '', 'location.datum': ''}\n",
      "{'location.basin': 'Cumberland Basin', 'header.license': 'P-45', 'location.x': '5069701', 'header.uwi': '', 'header.name': 'Nappan #2', 'header.spud_date': ' November 1927', 'header.company': 'Imperial Oil Limited', 'header.status': 'Plugged and Abandoned', 'location.utm': '20', 'location.y': '404335', 'location.longitude': '64.23111111', 'location.td': '48.5', 'location.kb': '', 'header.rig_release': ' December 1927', 'location.latitude': '45.77416667', 'location.gl': '', 'location.datum': ''}\n",
      "{'location.basin': 'Cumberland Basin', 'header.license': 'P-44', 'location.x': '5069018', 'header.uwi': '', 'header.name': 'Nappan #1', 'header.spud_date': ' November 1927', 'header.company': 'Imperial Oil Limited', 'header.status': 'Plugged and Abandoned', 'location.utm': '20', 'location.y': '404540', 'location.longitude': '64.22833333', 'location.td': '205.1', 'location.kb': '', 'header.rig_release': ' December 1927', 'location.latitude': '45.76805556', 'location.gl': '', 'location.datum': ''}\n",
      "{'location.basin': 'Western Cape Breton Basin', 'header.license': 'P-43', 'location.x': '5143216', 'header.uwi': '', 'header.name': 'NSDM Record No. 535, Borehole #5', 'header.spud_date': '1927-09-15', 'header.company': 'Eastern Gulf Oil Company', 'header.status': 'Plugged and Abandoned', 'location.utm': '20', 'location.y': '647238', 'location.longitude': '61.08444444', 'location.td': '109.7', 'location.kb': '', 'header.rig_release': '1927-10-07', 'location.latitude': '46.42638889', 'location.gl': '', 'location.datum': ''}\n",
      "{'location.basin': 'Western Cape Breton Basin', 'header.license': 'P-42', 'location.x': '5141605', 'header.uwi': '', 'header.name': 'NSDM Record No. 534, Borehole #4', 'header.spud_date': '1927-08-30', 'header.company': 'Eastern Gulf Oil Company', 'header.status': 'Plugged and Abandoned', 'location.utm': '20', 'location.y': '645761', 'location.longitude': '61.10416667', 'location.td': '64', 'location.kb': '', 'header.rig_release': '1927-09-14', 'location.latitude': '46.41222222', 'location.gl': '', 'location.datum': ''}\n",
      "{'location.basin': 'Western Cape Breton Basin', 'header.license': 'P-41', 'location.x': '5141667', 'header.uwi': '', 'header.name': 'NSDM Record No. 533, Borehole #3', 'header.spud_date': '1927-08-05', 'header.company': 'Eastern Gulf Oil Company', 'header.status': 'Plugged and Abandoned', 'location.utm': '20', 'location.y': '645759', 'location.longitude': '61.10416667', 'location.td': '57.6', 'location.kb': '', 'header.rig_release': '1927-08-29', 'location.latitude': '46.41277778', 'location.gl': '', 'location.datum': ''}\n",
      "{'location.basin': 'Western Cape Breton Basin', 'header.license': 'P-40', 'location.x': '5141729', 'header.uwi': '', 'header.name': 'NSDM Record No. 532, Borehole #2', 'header.spud_date': '1927-06-25', 'header.company': 'Eastern Gulf Oil Company', 'header.status': 'Plugged and Abandoned', 'location.utm': '20', 'location.y': '645758', 'location.longitude': '61.10416667', 'location.td': '217', 'location.kb': '', 'header.rig_release': '1927-08-04', 'location.latitude': '46.41333333', 'location.gl': '', 'location.datum': ''}\n",
      "{'location.basin': 'Western Cape Breton Basin', 'header.license': 'P-39', 'location.x': '5141790', 'header.uwi': '', 'header.name': 'NSDM Record No. 531, Borehole #1', 'header.spud_date': '1927-06-11', 'header.company': 'Eastern Gulf Oil Company', 'header.status': 'Plugged and Abandoned', 'location.utm': '20', 'location.y': '645756', 'location.longitude': '61.10416667', 'location.td': '24.7', 'location.kb': '', 'header.rig_release': '1927-06-24', 'location.latitude': '46.41388889', 'location.gl': '', 'location.datum': ''}\n",
      "{'location.basin': 'Western Cape Breton Basin', 'header.license': 'P-38', 'location.x': '5101590', 'header.uwi': '', 'header.name': 'NSDM Record No. 530, Borehole #9', 'header.spud_date': '1927-05-05', 'header.company': 'Eastern Gulf Oil Company', 'header.status': 'Plugged and Abandoned', 'location.utm': '20', 'location.y': '628013', 'location.longitude': '61.34583333', 'location.td': '201.5', 'location.kb': '', 'header.rig_release': '1927-06-10', 'location.latitude': '46.05583333', 'location.gl': '', 'location.datum': ''}\n",
      "{'location.basin': 'Western Cape Breton Basin', 'header.license': 'P-37', 'location.x': '5100108', 'header.uwi': '', 'header.name': 'NSDM Record No. 529, Borehole #8', 'header.spud_date': '1927-04-01', 'header.company': 'Eastern Gulf Oil Company', 'header.status': 'Plugged and Abandoned', 'location.utm': '20', 'location.y': '618755', 'location.longitude': '61.46583333', 'location.td': '202.4', 'location.kb': '', 'header.rig_release': '1927-04-26', 'location.latitude': '46.04416667', 'location.gl': '', 'location.datum': ''}\n",
      "{'location.basin': 'Western Cape Breton Basin', 'header.license': 'P-36', 'location.x': '5098316', 'header.uwi': '', 'header.name': 'NSDM Record No. 528, Borehole #7', 'header.spud_date': '1927-03-06', 'header.company': 'Eastern Gulf Oil Company', 'header.status': 'Plugged and Abandoned', 'location.utm': '20', 'location.y': '620317', 'location.longitude': '61.44611111', 'location.td': '182.9', 'location.kb': '', 'header.rig_release': '1927-03-30', 'location.latitude': '46.02777778', 'location.gl': '', 'location.datum': ''}\n",
      "{'location.basin': 'Western Cape Breton Basin', 'header.license': 'P-35', 'location.x': '5099984', 'header.uwi': '', 'header.name': 'NSDM Record No. 527, Borehole #6', 'header.spud_date': '1926-11-13', 'header.company': 'Eastern Gulf Oil Company', 'header.status': 'Plugged and Abandoned', 'location.utm': '20', 'location.y': '618758', 'location.longitude': '61.46583333', 'location.td': '197.5', 'location.kb': '', 'header.rig_release': '1927-02-28', 'location.latitude': '46.04305556', 'location.gl': '', 'location.datum': ''}\n",
      "{'location.basin': 'Western Cape Breton Basin', 'header.license': 'P-34', 'location.x': '5099799', 'header.uwi': '', 'header.name': 'NSDM Record No. 526, Borehole #5', 'header.spud_date': '1926-11-05', 'header.company': 'Eastern Gulf Oil Company', 'header.status': 'Plugged and Abandoned', 'location.utm': '20', 'location.y': '618761', 'location.longitude': '61.46583333', 'location.td': '53.9', 'location.kb': '', 'header.rig_release': '1926-11-12', 'location.latitude': '46.04138889', 'location.gl': '', 'location.datum': ''}\n",
      "{'location.basin': 'Western Cape Breton Basin', 'header.license': 'P-33', 'location.x': '5100015', 'header.uwi': '', 'header.name': 'NSDM Record No. 525, Borehole #4', 'header.spud_date': '1926-10-23', 'header.company': 'Eastern Gulf Oil Company', 'header.status': 'Plugged and Abandoned', 'location.utm': '20', 'location.y': '618757', 'location.longitude': '61.46583333', 'location.td': '67.1', 'location.kb': '', 'header.rig_release': '1926-11-04', 'location.latitude': '46.04333333', 'location.gl': '', 'location.datum': ''}\n",
      "{'location.basin': 'Western Cape Breton Basin', 'header.license': 'P-32', 'location.x': '5100015', 'header.uwi': '', 'header.name': 'NSDM Record No. 524, Borehole #3', 'header.spud_date': '1926-10-13', 'header.company': 'Eastern Gulf Oil Company', 'header.status': 'Plugged and Abandoned', 'location.utm': '20', 'location.y': '618757', 'location.longitude': '61.46583333', 'location.td': '33.5', 'location.kb': '', 'header.rig_release': '1926-10-23', 'location.latitude': '46.04333333', 'location.gl': '', 'location.datum': ''}\n",
      "{'location.basin': 'Western Cape Breton Basin', 'header.license': 'P-31', 'location.x': '5099953', 'header.uwi': '', 'header.name': 'NSDM Record No. 506, Borehole #2', 'header.spud_date': '1926-09-22', 'header.company': 'Eastern Gulf Oil Company', 'header.status': 'Plugged and Abandoned', 'location.utm': '20', 'location.y': '618758', 'location.longitude': '61.46583333', 'location.td': '65.5', 'location.kb': '', 'header.rig_release': '1926-10-12', 'location.latitude': '46.04277778', 'location.gl': '', 'location.datum': ''}\n",
      "{'location.basin': 'Western Cape Breton Basin', 'header.license': 'P-30', 'location.x': '5099889', 'header.uwi': '', 'header.name': 'NSDM Record No. 505, Borehole #1', 'header.spud_date': '1926-09-11', 'header.company': 'Gulf Oil Company', 'header.status': 'Plugged and Abandoned', 'location.utm': '20', 'location.y': '618631', 'location.longitude': '61.4675', 'location.td': '23.32', 'location.kb': '', 'header.rig_release': '1926-09-19', 'location.latitude': '46.04222222', 'location.gl': '', 'location.datum': ''}\n",
      "{'location.basin': 'Western Cape Breton Basin', 'header.license': 'P-29', 'location.x': '5098182', 'header.uwi': '', 'header.name': 'NSDM Record No. 485, Borehole #2', 'header.spud_date': '1926-09-18', 'header.company': 'Eastern Gulf Oil Company', 'header.status': 'Plugged and Abandoned', 'location.utm': '20', 'location.y': '619739', 'location.longitude': '61.45361111', 'location.td': '177.4', 'location.kb': '', 'header.rig_release': '1927-01-10', 'location.latitude': '46.02666667', 'location.gl': '', 'location.datum': ''}\n",
      "{'location.basin': 'Western Cape Breton Basin', 'header.license': 'P-28', 'location.x': '5098151', 'header.uwi': '', 'header.name': 'NSDM Record No. 484, Borehole #1', 'header.spud_date': '1926-06-17', 'header.company': 'Gulf Oil Company', 'header.status': 'Plugged and Abandoned', 'location.utm': '20', 'location.y': '619739', 'location.longitude': '61.45361111', 'location.td': '214', 'location.kb': '', 'header.rig_release': '1926-09-17', 'location.latitude': '46.02638889', 'location.gl': '', 'location.datum': ''}\n",
      "{'location.basin': 'Western Cape Breton Basin', 'header.license': 'P-27', 'location.x': '5113757', 'header.uwi': '', 'header.name': 'Unknown', 'header.spud_date': '1905-04-09', 'header.company': 'Eastern Gulf Oil Company', 'header.status': 'Plugged and Abandoned', 'location.utm': '20', 'location.y': '638037', 'location.longitude': '61.21277778', 'location.td': '274.3', 'location.kb': '', 'header.rig_release': '', 'location.latitude': '46.16333333', 'location.gl': '', 'location.datum': ''}\n",
      "{'location.basin': 'Western Cape Breton Basin', 'header.license': 'P-26', 'location.x': '5115873', 'header.uwi': '', 'header.name': 'Lake Ainslie No. 6', 'header.spud_date': '1912-1914', 'header.company': 'Maritime Oil & Gas Company Ltd.', 'header.status': 'Plugged and Abandoned', 'location.utm': '20', 'location.y': '640113', 'location.longitude': '61.18527778', 'location.td': '1677', 'location.kb': '', 'header.rig_release': '', 'location.latitude': '46.18194444', 'location.gl': '', 'location.datum': ''}\n",
      "{'location.basin': 'Western Cape Breton Basin', 'header.license': 'P-25', 'location.x': '5115873', 'header.uwi': '', 'header.name': 'Lake Ainslie No. 5', 'header.spud_date': '1912-1914', 'header.company': 'Maritime Oil & Gas Company Ltd.', 'header.status': 'Plugged and Abandoned', 'location.utm': '20', 'location.y': '640113', 'location.longitude': '61.18527778', 'location.td': '265.2', 'location.kb': '', 'header.rig_release': '', 'location.latitude': '46.18194444', 'location.gl': '', 'location.datum': ''}\n",
      "{'location.basin': 'Western Cape Breton Basin', 'header.license': 'P-24', 'location.x': '5116156', 'header.uwi': '', 'header.name': 'Lake Ainslie No. 4', 'header.spud_date': '1912-1914', 'header.company': 'Maritime Oil & Gas Company Ltd.', 'header.status': 'Plugged and Abandoned', 'location.utm': '20', 'location.y': '640343', 'location.longitude': '61.18222222', 'location.td': '335.3', 'location.kb': '', 'header.rig_release': '', 'location.latitude': '46.18444444', 'location.gl': '', 'location.datum': ''}\n",
      "{'location.basin': 'Western Cape Breton Basin', 'header.license': 'P-23', 'location.x': '5116182', 'header.uwi': '', 'header.name': 'Lake Ainslie No. 3', 'header.spud_date': '1912-1914', 'header.company': 'Maritime Oil & Gas Company Ltd.', 'header.status': 'Plugged and Abandoned', 'location.utm': '20', 'location.y': '640127', 'location.longitude': '61.335', 'location.td': '341.4', 'location.kb': '', 'header.rig_release': '', 'location.latitude': '46.18472222', 'location.gl': '', 'location.datum': ''}\n",
      "{'location.basin': 'Western Cape Breton Basin', 'header.license': 'P-22', 'location.x': '5116244', 'header.uwi': '', 'header.name': 'Lake Ainslie No. 2', 'header.spud_date': '1905-03-26', 'header.company': 'Maritime Oil & Gas Company Ltd.', 'header.status': 'Plugged and Abandoned', 'location.utm': '20', 'location.y': '640147', 'location.longitude': '61.18472222', 'location.td': '491.3', 'location.kb': '', 'header.rig_release': '', 'location.latitude': '46.18527778', 'location.gl': '', 'location.datum': ''}\n",
      "{'location.basin': 'Western Cape Breton Basin', 'header.license': 'P-21', 'location.x': '5116118', 'header.uwi': '', 'header.name': 'Lake Ainslie No. 1', 'header.spud_date': '1905-03-26', 'header.company': 'Maritime Oil & Gas Company Ltd.', 'header.status': 'Plugged and Abandoned', 'location.utm': '20', 'location.y': '640043', 'location.longitude': '61.18611111', 'location.td': '243.8', 'location.kb': '', 'header.rig_release': '', 'location.latitude': '46.18416667', 'location.gl': '', 'location.datum': ''}\n",
      "{'location.basin': 'Windsor Basin', 'header.license': 'P-20', 'location.x': '4982050', 'header.uwi': '', 'header.name': 'Falmouth Station No. 1', 'header.spud_date': '1905-03-25', 'header.company': 'Unknown', 'header.status': 'Plugged and Abandoned', 'location.utm': '20', 'location.y': '407791', 'location.longitude': '64.17027778', 'location.td': '582.5', 'location.kb': '', 'header.rig_release': '', 'location.latitude': '44.98583333', 'location.gl': '', 'location.datum': ''}\n",
      "{'location.basin': 'Windsor Basin', 'header.license': 'P-19', 'location.x': '5002840', 'header.uwi': '', 'header.name': 'Unknown', 'header.spud_date': '1905-03-17', 'header.company': 'Nova Scotia Oil & Gas Company (?)', 'header.status': 'Plugged and Abandoned', 'location.utm': '20', 'location.y': '408703', 'location.longitude': '64.1625', 'location.td': '304.8', 'location.kb': '', 'header.rig_release': '', 'location.latitude': '45.17305556', 'location.gl': '', 'location.datum': ''}\n",
      "{'location.basin': 'Windsor Basin', 'header.license': 'P-18', 'location.x': '4999858', 'header.uwi': '', 'header.name': 'Unknown', 'header.spud_date': '1905-03-17', 'header.company': 'Nova Scotia Oil & Gas Company', 'header.status': 'Plugged and Abandoned', 'location.utm': '20', 'location.y': '410036', 'location.longitude': '64.145', 'location.td': '579.1', 'location.kb': '', 'header.rig_release': '', 'location.latitude': '45.14638889', 'location.gl': '', 'location.datum': ''}\n",
      "{'location.basin': 'Windsor Basin', 'header.license': 'P-17', 'location.x': '5001361', 'header.uwi': '', 'header.name': 'Cheverie No. 1; NSDM Record No. 90', 'header.spud_date': '1905-03-17', 'header.company': 'Nova Scotia Oil & Gas Company', 'header.status': 'Plugged and Abandoned', 'location.utm': '20', 'location.y': '408485', 'location.longitude': '64.165', 'location.td': '582.2', 'location.kb': '', 'header.rig_release': '', 'location.latitude': '45.15972222', 'location.gl': '', 'location.datum': ''}\n",
      "{'location.basin': 'Stellarton Basin', 'header.license': 'P-16', 'location.x': '5040954', 'header.uwi': '', 'header.name': 'NSDM Record No. 91', 'header.spud_date': '1902-11-18', 'header.company': 'Unknown', 'header.status': 'Plugged and Abandoned', 'location.utm': '20', 'location.y': '522940', 'location.longitude': '62.70694444', 'location.td': '189', 'location.kb': '', 'header.rig_release': '1903-07-10', 'location.latitude': '45.52166667', 'location.gl': '', 'location.datum': ''}\n",
      "{'location.basin': 'Western Cape Breton Basin', 'header.license': 'P-15', 'location.x': '5099064', 'header.uwi': '', 'header.name': 'NSDM Record No. 88', 'header.spud_date': 'Summer 1902', 'header.company': 'Unknown', 'header.status': 'Plugged and Abandoned', 'location.utm': '20', 'location.y': '639615', 'location.longitude': '61.19666667', 'location.td': '335.3', 'location.kb': '', 'header.rig_release': '', 'location.latitude': '46.03083333', 'location.gl': '', 'location.datum': ''}\n",
      "{'location.basin': 'Windsor Basin', 'header.license': 'P-14', 'location.x': '4991265', 'header.uwi': '', 'header.name': 'Unknown', 'header.spud_date': '1905-03-16', 'header.company': 'Unknown', 'header.status': 'Plugged and Abandoned', 'location.utm': '20', 'location.y': '406634', 'location.longitude': '64.18666667', 'location.td': '396.2', 'location.kb': '', 'header.rig_release': '', 'location.latitude': '45.06861111', 'location.gl': '', 'location.datum': ''}\n",
      "{'location.basin': 'Western Cape Breton Basin', 'header.license': 'P-13', 'location.x': '5108653', 'header.uwi': '', 'header.name': 'Unknown', 'header.spud_date': '1898-04-20', 'header.company': 'Unknown', 'header.status': 'Plugged and Abandoned', 'location.utm': '20', 'location.y': '641717', 'location.longitude': '61.16666667', 'location.td': '682.8', 'location.kb': '', 'header.rig_release': '1898-10-19', 'location.latitude': '46.11666667', 'location.gl': '', 'location.datum': ''}\n",
      "{'location.basin': 'Western Cape Breton Basin', 'header.license': 'P-12', 'location.x': '5108743', 'header.uwi': '', 'header.name': 'Unknown', 'header.spud_date': '1905-03-11', 'header.company': 'Unknown', 'header.status': 'Plugged and Abandoned', 'location.utm': '20', 'location.y': '645580', 'location.longitude': '61.11666667', 'location.td': '0', 'location.kb': '', 'header.rig_release': '', 'location.latitude': '46.11666667', 'location.gl': '', 'location.datum': ''}\n",
      "{'location.basin': 'Western Cape Breton Basin', 'header.license': 'P-11', 'location.x': '5109101', 'header.uwi': '', 'header.name': 'Unknown', 'header.spud_date': 'pre-1897', 'header.company': 'Unknown', 'header.status': 'Plugged and Abandoned', 'location.utm': '20', 'location.y': '643725', 'location.longitude': '61.14055556', 'location.td': '0', 'location.kb': '', 'header.rig_release': '', 'location.latitude': '46.12027778', 'location.gl': '', 'location.datum': ''}\n",
      "{'location.basin': 'Western Cape Breton Basin', 'header.license': 'P-10', 'location.x': '5107793', 'header.uwi': '', 'header.name': 'Unknown', 'header.spud_date': 'pre-1897', 'header.company': 'Unknown', 'header.status': 'Plugged and Abandoned', 'location.utm': '20', 'location.y': '644550', 'location.longitude': '61.13027778', 'location.td': '0', 'location.kb': '', 'header.rig_release': '', 'location.latitude': '46.10833333', 'location.gl': '', 'location.datum': ''}\n",
      "{'location.basin': 'Western Cape Breton Basin', 'header.license': 'P-9', 'location.x': '5116070', 'header.uwi': '', 'header.name': 'Unknown', 'header.spud_date': '1905-02-22', 'header.company': 'Victoria Oil Co.', 'header.status': 'Plugged and Abandoned', 'location.utm': '20', 'location.y': '671001', 'location.longitude': '60.78527778', 'location.td': '152.4', 'location.kb': '', 'header.rig_release': '', 'location.latitude': '46.17666667', 'location.gl': '', 'location.datum': ''}\n",
      "{'location.basin': 'Stellarton Basin', 'header.license': 'P-8', 'location.x': '5045224', 'header.uwi': '', 'header.name': 'Unknown', 'header.spud_date': '1905-02-20', 'header.company': 'Unknown', 'header.status': 'Plugged and Abandoned', 'location.utm': '20', 'location.y': '526068', 'location.longitude': '62.66666667', 'location.td': '85.3', 'location.kb': '', 'header.rig_release': '', 'location.latitude': '45.56', 'location.gl': '', 'location.datum': ''}\n",
      "{'location.basin': 'Western Cape Breton Basin', 'header.license': 'P-7', 'location.x': '5107451', 'header.uwi': '', 'header.name': 'Unknown', 'header.spud_date': 'Autumn 1877', 'header.company': 'Unknown', 'header.status': 'Plugged and Abandoned', 'location.utm': '20', 'location.y': '640456', 'location.longitude': '61.18333333', 'location.td': '0', 'location.kb': '', 'header.rig_release': '', 'location.latitude': '46.10611111', 'location.gl': '', 'location.datum': ''}\n",
      "{'location.basin': 'Western Cape Breton Basin', 'header.license': 'P-6', 'location.x': '5107451', 'header.uwi': '', 'header.name': 'Unknown', 'header.spud_date': 'May 1877', 'header.company': 'Lake Ainslie Pioneer Oil & Salt Co.', 'header.status': 'Plugged and Abandoned', 'location.utm': '20', 'location.y': '640456', 'location.longitude': '61.18333333', 'location.td': '0', 'location.kb': '', 'header.rig_release': '', 'location.latitude': '46.10611111', 'location.gl': '', 'location.datum': ''}\n",
      "{'location.basin': 'Western Cape Breton Basin', 'header.license': 'P-5', 'location.x': '5107451', 'header.uwi': '', 'header.name': 'Unknown', 'header.spud_date': '1905-02-17', 'header.company': 'Lake Ainslie Pioneer Oil & Salt Co.', 'header.status': 'Plugged and Abandoned', 'location.utm': '20', 'location.y': '640456', 'location.longitude': '61.18333333', 'location.td': '335.3', 'location.kb': '', 'header.rig_release': '', 'location.latitude': '46.10611111', 'location.gl': '', 'location.datum': ''}\n",
      "{'location.basin': 'Western Cape Breton Basin', 'header.license': 'P-4', 'location.x': '5107451', 'header.uwi': '', 'header.name': 'NSDM Record No. 12', 'header.spud_date': '1905-02-16', 'header.company': 'Lake Ainslie Pioneer Oil & Salt Co.', 'header.status': 'Plugged and Abandoned', 'location.utm': '20', 'location.y': '640456', 'location.longitude': '61.18333333', 'location.td': '274.3', 'location.kb': '', 'header.rig_release': '', 'location.latitude': '46.10611111', 'location.gl': '', 'location.datum': ''}\n",
      "{'location.basin': 'Western Cape Breton Basin', 'header.license': 'P-3', 'location.x': '5107451', 'header.uwi': '', 'header.name': 'NSDM Record No. 11', 'header.spud_date': '1905-02-16', 'header.company': 'Lake Ainslie Pioneer Oil & Salt Co.', 'header.status': 'Plugged and Abandoned', 'location.utm': '20', 'location.y': '640456', 'location.longitude': '61.18333333', 'location.td': '198.1', 'location.kb': '', 'header.rig_release': '', 'location.latitude': '46.10611111', 'location.gl': '', 'location.datum': ''}\n",
      "{'location.basin': 'Western Cape Breton Basin', 'header.license': 'P-2', 'location.x': '5107451', 'header.uwi': '', 'header.name': 'Unknown', 'header.spud_date': '1905-02-11', 'header.company': 'Lake Ainslie Pioneer Oil & Salt Co.', 'header.status': 'Plugged and Abandoned', 'location.utm': '20', 'location.y': '640456', 'location.longitude': '61.18333333', 'location.td': '487.5', 'location.kb': '', 'header.rig_release': '1876 (final TD)', 'location.latitude': '46.10611111', 'location.gl': '', 'location.datum': ''}\n",
      "{'location.basin': 'Western Cape Breton Basin', 'header.license': 'P-1', 'location.x': '5107451', 'header.uwi': '', 'header.name': 'Unknown', 'header.spud_date': 'Summer 1869', 'header.company': 'Lake Ainslie Pioneer Oil & Salt Co.', 'header.status': 'Plugged and Abandoned', 'location.utm': '20', 'location.y': '640456', 'location.longitude': '61.18333333', 'location.td': '244.5', 'location.kb': '', 'header.rig_release': '', 'location.latitude': '46.10611111', 'location.gl': '', 'location.datum': ''}\n",
      "{'location.basin': '', 'header.license': 'M-12', 'location.x': '5105175.1', 'header.uwi': '', 'header.name': 'Kempt Head 84-1', 'header.spud_date': '', 'header.company': 'Nova Scotia Department of Mines and Energy', 'header.status': '', 'location.utm': '20', 'location.y': '682295.3', 'location.longitude': '0', 'location.td': '943.2', 'location.kb': '90.97', 'header.rig_release': '', 'location.latitude': '0', 'location.gl': '', 'location.datum': ''}\n",
      "{'location.basin': '', 'header.license': 'M-11', 'location.x': '5118581.1', 'header.uwi': '', 'header.name': 'PE 84-1', 'header.spud_date': '', 'header.company': 'Nova Scotia Department of Mines and Energy', 'header.status': '', 'location.utm': '20', 'location.y': '713802.5', 'location.longitude': '0', 'location.td': '448.5', 'location.kb': '5.3', 'header.rig_release': '', 'location.latitude': '0', 'location.gl': '', 'location.datum': ''}\n",
      "{'location.basin': '', 'header.license': 'M-10', 'location.x': '5100518.5', 'header.uwi': '', 'header.name': 'WR84-1', 'header.spud_date': '', 'header.company': 'Nova Scotia Department of Mines and Energy', 'header.status': '', 'location.utm': '20', 'location.y': '714195.6', 'location.longitude': '0', 'location.td': '619.2', 'location.kb': '57', 'header.rig_release': '', 'location.latitude': '0', 'location.gl': '', 'location.datum': ''}\n",
      "{'location.basin': '', 'header.license': 'M-9', 'location.x': '5098840', 'header.uwi': '', 'header.name': 'WR84-2', 'header.spud_date': '', 'header.company': 'Nova Scotia Department of Mines and Energy', 'header.status': '', 'location.utm': '20', 'location.y': '712122.5', 'location.longitude': '0', 'location.td': '153', 'location.kb': '77', 'header.rig_release': '', 'location.latitude': '0', 'location.gl': '', 'location.datum': ''}\n",
      "{'location.basin': '', 'header.license': 'M-8', 'location.x': '5229203.1', 'header.uwi': '', 'header.name': 'St. Paul P-91', 'header.spud_date': '', 'header.company': 'Petro-Canada', 'header.status': '', 'location.utm': '20', 'location.y': '710100.7', 'location.longitude': '0', 'location.td': '2860.1', 'location.kb': '24.9', 'header.rig_release': '', 'location.latitude': '0', 'location.gl': '', 'location.datum': ''}\n",
      "{'location.basin': '', 'header.license': 'M-7', 'location.x': '5115658.4', 'header.uwi': '', 'header.name': 'PE 83-1', 'header.spud_date': '', 'header.company': 'Nova Scotia Department of Mines and Energy', 'header.status': '', 'location.utm': '20', 'location.y': '711499.7', 'location.longitude': '0', 'location.td': '761.3', 'location.kb': '40.4', 'header.rig_release': '', 'location.latitude': '0', 'location.gl': '', 'location.datum': ''}\n",
      "{'location.basin': '', 'header.license': 'M-6', 'location.x': '5109869.9', 'header.uwi': '', 'header.name': 'SYD 82-1', 'header.spud_date': '', 'header.company': 'Nova Scotia Department of Mines and Energy', 'header.status': '', 'location.utm': '20', 'location.y': '721715.1', 'location.longitude': '0', 'location.td': '1013', 'location.kb': '90.7', 'header.rig_release': '', 'location.latitude': '0', 'location.gl': '', 'location.datum': ''}\n",
      "{'location.basin': '', 'header.license': 'M-5', 'location.x': '', 'header.uwi': '', 'header.name': 'North Sydney G-24', 'header.spud_date': '', 'header.company': 'Shell et al.', 'header.status': '', 'location.utm': '', 'location.y': '', 'location.longitude': '59.81263167', 'location.td': '', 'location.kb': '', 'header.rig_release': '', 'location.latitude': '46.55642611', 'location.gl': '', 'location.datum': ''}\n",
      "{'location.basin': '', 'header.license': 'M-4', 'location.x': '5081518.9', 'header.uwi': '', 'header.name': 'Malagawatch #2', 'header.spud_date': '', 'header.company': 'Chevron Irving', 'header.status': '', 'location.utm': '20', 'location.y': '661310.4', 'location.longitude': '0', 'location.td': '611', 'location.kb': '8.76', 'header.rig_release': '', 'location.latitude': '0', 'location.gl': '', 'location.datum': ''}\n",
      "{'location.basin': '', 'header.license': 'M-3', 'location.x': '5159716.8', 'header.uwi': '', 'header.name': 'North Sydney F-14', 'header.spud_date': '', 'header.company': 'Shell et al.', 'header.status': '', 'location.utm': '21', 'location.y': '284409.4', 'location.longitude': '0', 'location.td': '1707', 'location.kb': '27.4', 'header.rig_release': '', 'location.latitude': '0', 'location.gl': '', 'location.datum': ''}\n",
      "{'location.basin': '', 'header.license': 'M-2', 'location.x': '', 'header.uwi': '', 'header.name': 'NSDM 3439 Morton No. 1', 'header.spud_date': '', 'header.company': 'Nova Scotia Department of Mines', 'header.status': '', 'location.utm': '', 'location.y': '', 'location.longitude': '', 'location.td': '275', 'location.kb': '0', 'header.rig_release': '', 'location.latitude': '', 'location.gl': '', 'location.datum': ''}\n",
      "{'location.basin': '', 'header.license': 'M-1', 'location.x': '', 'header.uwi': '', 'header.name': 'NSDM 3440 Morton No. 1', 'header.spud_date': '', 'header.company': 'Nova Scotia Department of Mines', 'header.status': '', 'location.utm': '', 'location.y': '', 'location.longitude': '', 'location.td': '183.8', 'location.kb': '0', 'header.rig_release': '', 'location.latitude': '', 'location.gl': '', 'location.datum': ''}\n"
     ]
    }
   ],
   "source": [
    "for line in reader:\n",
    "    w = "
   ]
  },
  {
   "cell_type": "code",
   "execution_count": null,
   "metadata": {
    "collapsed": true
   },
   "outputs": [],
   "source": []
  },
  {
   "cell_type": "code",
   "execution_count": null,
   "metadata": {
    "collapsed": true
   },
   "outputs": [],
   "source": []
  },
  {
   "cell_type": "code",
   "execution_count": null,
   "metadata": {
    "collapsed": true
   },
   "outputs": [],
   "source": []
  },
  {
   "cell_type": "markdown",
   "metadata": {},
   "source": [
    "## WRITING"
   ]
  },
  {
   "cell_type": "code",
   "execution_count": 14,
   "metadata": {
    "collapsed": false
   },
   "outputs": [],
   "source": [
    "x = lasio.LASFile()"
   ]
  },
  {
   "cell_type": "code",
   "execution_count": 12,
   "metadata": {
    "collapsed": true
   },
   "outputs": [],
   "source": [
    "import datetime\n",
    "setattr(x.well, 'DATE', datetime.datetime.today())"
   ]
  },
  {
   "cell_type": "code",
   "execution_count": 20,
   "metadata": {
    "collapsed": true
   },
   "outputs": [],
   "source": [
    "setattr(getattr(x, 'well'), 'DATE', datetime.datetime.today())"
   ]
  },
  {
   "cell_type": "code",
   "execution_count": null,
   "metadata": {
    "collapsed": true
   },
   "outputs": [],
   "source": []
  },
  {
   "cell_type": "code",
   "execution_count": 21,
   "metadata": {
    "collapsed": false
   },
   "outputs": [
    {
     "data": {
      "text/plain": [
       "HeaderItem(mnemonic=DATE, unit=, value=2016-03-02 14:22:40.169509, descr=DATE, original_mnemonic=DATE)"
      ]
     },
     "execution_count": 21,
     "metadata": {},
     "output_type": "execute_result"
    }
   ],
   "source": [
    "x.well.DATE"
   ]
  },
  {
   "cell_type": "code",
   "execution_count": 15,
   "metadata": {
    "collapsed": false
   },
   "outputs": [
    {
     "data": {
      "text/plain": [
       "HeaderItem(mnemonic=DATE, unit=, value=2016-03-02 14:17:21.495392, descr=DATE, original_mnemonic=DATE)"
      ]
     },
     "execution_count": 15,
     "metadata": {},
     "output_type": "execute_result"
    }
   ],
   "source": [
    "x.well.DATE"
   ]
  },
  {
   "cell_type": "code",
   "execution_count": 16,
   "metadata": {
    "collapsed": true
   },
   "outputs": [],
   "source": [
    "las_fields = {\n",
    "    'well': {\n",
    "    },\n",
    "    'header': {\n",
    "        'name': ('well', 'WELL'),\n",
    "        'field': ('well', 'FLD'),\n",
    "        'license': ('well', 'LIC'),\n",
    "        'uwi': ('well', 'UWI'),\n",
    "    },\n",
    "    'location': {\n",
    "        'country': ('well', 'CTRY'),\n",
    "        'latitude': ('well', 'LATI'),\n",
    "        'longitude': ('well', 'LONG'),\n",
    "        'datum': ('well', 'GDAT'),\n",
    "        'section': ('well', 'SECT'),\n",
    "        'range': ('well', 'RANG'),\n",
    "        'township': ('well', 'TOWN'),\n",
    "        'kb': ('params', 'EKB'),\n",
    "        'td': ('params', 'TDD'),\n",
    "        'tdd': ('params', 'TDD'),\n",
    "        'tdl': ('params', 'TDL'),\n",
    "    },\n",
    "    'curve': {\n",
    "        'start': ('well', 'STRT'),\n",
    "        'step': ('well', 'STEP'),\n",
    "        'null': ('well', 'NULL'),\n",
    "        'run': ('params', 'RUN'),\n",
    "    }\n",
    "}"
   ]
  },
  {
   "cell_type": "code",
   "execution_count": 19,
   "metadata": {
    "collapsed": false
   },
   "outputs": [
    {
     "name": "stdout",
     "output_type": "stream",
     "text": [
      "[HeaderItem(mnemonic=STRT, unit=m, value=nan, descr=START DEPTH, original_mnemonic=STRT), HeaderItem(mnemonic=STOP, unit=m, value=nan, descr=STOP DEPTH, original_mnemonic=STOP), HeaderItem(mnemonic=STEP, unit=m, value=nan, descr=STEP, original_mnemonic=STEP), HeaderItem(mnemonic=NULL, unit=, value=-9999.25, descr=NULL VALUE, original_mnemonic=NULL), HeaderItem(mnemonic=COMP, unit=, value=, descr=COMPANY, original_mnemonic=COMP), HeaderItem(mnemonic=WELL, unit=, value=, descr=WELL, original_mnemonic=WELL), HeaderItem(mnemonic=FLD, unit=, value=, descr=FIELD, original_mnemonic=FLD), HeaderItem(mnemonic=LOC, unit=, value=, descr=LOCATION, original_mnemonic=LOC), HeaderItem(mnemonic=PROV, unit=, value=, descr=PROVINCE, original_mnemonic=PROV), HeaderItem(mnemonic=CNTY, unit=, value=, descr=COUNTY, original_mnemonic=CNTY), HeaderItem(mnemonic=STAT, unit=, value=, descr=STATE, original_mnemonic=STAT), HeaderItem(mnemonic=CTRY, unit=, value=, descr=COUNTRY, original_mnemonic=CTRY), HeaderItem(mnemonic=SRVC, unit=, value=, descr=SERVICE COMPANY, original_mnemonic=SRVC), HeaderItem(mnemonic=DATE, unit=, value=2016-03-02 14:17:21.495392, descr=DATE, original_mnemonic=DATE), HeaderItem(mnemonic=UWI, unit=, value=, descr=UNIQUE WELL ID, original_mnemonic=UWI), HeaderItem(mnemonic=API, unit=, value=, descr=API NUMBER, original_mnemonic=API)]\n",
      "[HeaderItem(mnemonic=STRT, unit=m, value=nan, descr=START DEPTH, original_mnemonic=STRT), HeaderItem(mnemonic=STOP, unit=m, value=nan, descr=STOP DEPTH, original_mnemonic=STOP), HeaderItem(mnemonic=STEP, unit=m, value=nan, descr=STEP, original_mnemonic=STEP), HeaderItem(mnemonic=NULL, unit=, value=-9999.25, descr=NULL VALUE, original_mnemonic=NULL), HeaderItem(mnemonic=COMP, unit=, value=, descr=COMPANY, original_mnemonic=COMP), HeaderItem(mnemonic=WELL, unit=, value=, descr=WELL, original_mnemonic=WELL), HeaderItem(mnemonic=FLD, unit=, value=, descr=FIELD, original_mnemonic=FLD), HeaderItem(mnemonic=LOC, unit=, value=, descr=LOCATION, original_mnemonic=LOC), HeaderItem(mnemonic=PROV, unit=, value=, descr=PROVINCE, original_mnemonic=PROV), HeaderItem(mnemonic=CNTY, unit=, value=, descr=COUNTY, original_mnemonic=CNTY), HeaderItem(mnemonic=STAT, unit=, value=, descr=STATE, original_mnemonic=STAT), HeaderItem(mnemonic=CTRY, unit=, value=, descr=COUNTRY, original_mnemonic=CTRY), HeaderItem(mnemonic=SRVC, unit=, value=, descr=SERVICE COMPANY, original_mnemonic=SRVC), HeaderItem(mnemonic=DATE, unit=, value=2016-03-02 14:17:21.495392, descr=DATE, original_mnemonic=DATE), HeaderItem(mnemonic=UWI, unit=, value=, descr=UNIQUE WELL ID, original_mnemonic=UWI), HeaderItem(mnemonic=API, unit=, value=, descr=API NUMBER, original_mnemonic=API)]\n",
      "[HeaderItem(mnemonic=STRT, unit=m, value=nan, descr=START DEPTH, original_mnemonic=STRT), HeaderItem(mnemonic=STOP, unit=m, value=nan, descr=STOP DEPTH, original_mnemonic=STOP), HeaderItem(mnemonic=STEP, unit=m, value=nan, descr=STEP, original_mnemonic=STEP), HeaderItem(mnemonic=NULL, unit=, value=-9999.25, descr=NULL VALUE, original_mnemonic=NULL), HeaderItem(mnemonic=COMP, unit=, value=, descr=COMPANY, original_mnemonic=COMP), HeaderItem(mnemonic=WELL, unit=, value=, descr=WELL, original_mnemonic=WELL), HeaderItem(mnemonic=FLD, unit=, value=, descr=FIELD, original_mnemonic=FLD), HeaderItem(mnemonic=LOC, unit=, value=, descr=LOCATION, original_mnemonic=LOC), HeaderItem(mnemonic=PROV, unit=, value=, descr=PROVINCE, original_mnemonic=PROV), HeaderItem(mnemonic=CNTY, unit=, value=, descr=COUNTY, original_mnemonic=CNTY), HeaderItem(mnemonic=STAT, unit=, value=, descr=STATE, original_mnemonic=STAT), HeaderItem(mnemonic=CTRY, unit=, value=, descr=COUNTRY, original_mnemonic=CTRY), HeaderItem(mnemonic=SRVC, unit=, value=, descr=SERVICE COMPANY, original_mnemonic=SRVC), HeaderItem(mnemonic=DATE, unit=, value=2016-03-02 14:17:21.495392, descr=DATE, original_mnemonic=DATE), HeaderItem(mnemonic=UWI, unit=, value=, descr=UNIQUE WELL ID, original_mnemonic=UWI), HeaderItem(mnemonic=API, unit=, value=, descr=API NUMBER, original_mnemonic=API)]\n",
      "[HeaderItem(mnemonic=STRT, unit=m, value=nan, descr=START DEPTH, original_mnemonic=STRT), HeaderItem(mnemonic=STOP, unit=m, value=nan, descr=STOP DEPTH, original_mnemonic=STOP), HeaderItem(mnemonic=STEP, unit=m, value=nan, descr=STEP, original_mnemonic=STEP), HeaderItem(mnemonic=NULL, unit=, value=-9999.25, descr=NULL VALUE, original_mnemonic=NULL), HeaderItem(mnemonic=COMP, unit=, value=, descr=COMPANY, original_mnemonic=COMP), HeaderItem(mnemonic=WELL, unit=, value=, descr=WELL, original_mnemonic=WELL), HeaderItem(mnemonic=FLD, unit=, value=, descr=FIELD, original_mnemonic=FLD), HeaderItem(mnemonic=LOC, unit=, value=, descr=LOCATION, original_mnemonic=LOC), HeaderItem(mnemonic=PROV, unit=, value=, descr=PROVINCE, original_mnemonic=PROV), HeaderItem(mnemonic=CNTY, unit=, value=, descr=COUNTY, original_mnemonic=CNTY), HeaderItem(mnemonic=STAT, unit=, value=, descr=STATE, original_mnemonic=STAT), HeaderItem(mnemonic=CTRY, unit=, value=, descr=COUNTRY, original_mnemonic=CTRY), HeaderItem(mnemonic=SRVC, unit=, value=, descr=SERVICE COMPANY, original_mnemonic=SRVC), HeaderItem(mnemonic=DATE, unit=, value=2016-03-02 14:17:21.495392, descr=DATE, original_mnemonic=DATE), HeaderItem(mnemonic=UWI, unit=, value=, descr=UNIQUE WELL ID, original_mnemonic=UWI), HeaderItem(mnemonic=API, unit=, value=, descr=API NUMBER, original_mnemonic=API)]\n",
      "[]\n",
      "[HeaderItem(mnemonic=STRT, unit=m, value=nan, descr=START DEPTH, original_mnemonic=STRT), HeaderItem(mnemonic=STOP, unit=m, value=nan, descr=STOP DEPTH, original_mnemonic=STOP), HeaderItem(mnemonic=STEP, unit=m, value=nan, descr=STEP, original_mnemonic=STEP), HeaderItem(mnemonic=NULL, unit=, value=-9999.25, descr=NULL VALUE, original_mnemonic=NULL), HeaderItem(mnemonic=COMP, unit=, value=, descr=COMPANY, original_mnemonic=COMP), HeaderItem(mnemonic=WELL, unit=, value=, descr=WELL, original_mnemonic=WELL), HeaderItem(mnemonic=FLD, unit=, value=, descr=FIELD, original_mnemonic=FLD), HeaderItem(mnemonic=LOC, unit=, value=, descr=LOCATION, original_mnemonic=LOC), HeaderItem(mnemonic=PROV, unit=, value=, descr=PROVINCE, original_mnemonic=PROV), HeaderItem(mnemonic=CNTY, unit=, value=, descr=COUNTY, original_mnemonic=CNTY), HeaderItem(mnemonic=STAT, unit=, value=, descr=STATE, original_mnemonic=STAT), HeaderItem(mnemonic=CTRY, unit=, value=, descr=COUNTRY, original_mnemonic=CTRY), HeaderItem(mnemonic=SRVC, unit=, value=, descr=SERVICE COMPANY, original_mnemonic=SRVC), HeaderItem(mnemonic=DATE, unit=, value=2016-03-02 14:17:21.495392, descr=DATE, original_mnemonic=DATE), HeaderItem(mnemonic=UWI, unit=, value=, descr=UNIQUE WELL ID, original_mnemonic=UWI), HeaderItem(mnemonic=API, unit=, value=, descr=API NUMBER, original_mnemonic=API)]\n",
      "[HeaderItem(mnemonic=STRT, unit=m, value=nan, descr=START DEPTH, original_mnemonic=STRT), HeaderItem(mnemonic=STOP, unit=m, value=nan, descr=STOP DEPTH, original_mnemonic=STOP), HeaderItem(mnemonic=STEP, unit=m, value=nan, descr=STEP, original_mnemonic=STEP), HeaderItem(mnemonic=NULL, unit=, value=-9999.25, descr=NULL VALUE, original_mnemonic=NULL), HeaderItem(mnemonic=COMP, unit=, value=, descr=COMPANY, original_mnemonic=COMP), HeaderItem(mnemonic=WELL, unit=, value=, descr=WELL, original_mnemonic=WELL), HeaderItem(mnemonic=FLD, unit=, value=, descr=FIELD, original_mnemonic=FLD), HeaderItem(mnemonic=LOC, unit=, value=, descr=LOCATION, original_mnemonic=LOC), HeaderItem(mnemonic=PROV, unit=, value=, descr=PROVINCE, original_mnemonic=PROV), HeaderItem(mnemonic=CNTY, unit=, value=, descr=COUNTY, original_mnemonic=CNTY), HeaderItem(mnemonic=STAT, unit=, value=, descr=STATE, original_mnemonic=STAT), HeaderItem(mnemonic=CTRY, unit=, value=, descr=COUNTRY, original_mnemonic=CTRY), HeaderItem(mnemonic=SRVC, unit=, value=, descr=SERVICE COMPANY, original_mnemonic=SRVC), HeaderItem(mnemonic=DATE, unit=, value=2016-03-02 14:17:21.495392, descr=DATE, original_mnemonic=DATE), HeaderItem(mnemonic=UWI, unit=, value=, descr=UNIQUE WELL ID, original_mnemonic=UWI), HeaderItem(mnemonic=API, unit=, value=, descr=API NUMBER, original_mnemonic=API)]\n",
      "[HeaderItem(mnemonic=STRT, unit=m, value=nan, descr=START DEPTH, original_mnemonic=STRT), HeaderItem(mnemonic=STOP, unit=m, value=nan, descr=STOP DEPTH, original_mnemonic=STOP), HeaderItem(mnemonic=STEP, unit=m, value=nan, descr=STEP, original_mnemonic=STEP), HeaderItem(mnemonic=NULL, unit=, value=-9999.25, descr=NULL VALUE, original_mnemonic=NULL), HeaderItem(mnemonic=COMP, unit=, value=, descr=COMPANY, original_mnemonic=COMP), HeaderItem(mnemonic=WELL, unit=, value=, descr=WELL, original_mnemonic=WELL), HeaderItem(mnemonic=FLD, unit=, value=, descr=FIELD, original_mnemonic=FLD), HeaderItem(mnemonic=LOC, unit=, value=, descr=LOCATION, original_mnemonic=LOC), HeaderItem(mnemonic=PROV, unit=, value=, descr=PROVINCE, original_mnemonic=PROV), HeaderItem(mnemonic=CNTY, unit=, value=, descr=COUNTY, original_mnemonic=CNTY), HeaderItem(mnemonic=STAT, unit=, value=, descr=STATE, original_mnemonic=STAT), HeaderItem(mnemonic=CTRY, unit=, value=, descr=COUNTRY, original_mnemonic=CTRY), HeaderItem(mnemonic=SRVC, unit=, value=, descr=SERVICE COMPANY, original_mnemonic=SRVC), HeaderItem(mnemonic=DATE, unit=, value=2016-03-02 14:17:21.495392, descr=DATE, original_mnemonic=DATE), HeaderItem(mnemonic=UWI, unit=, value=, descr=UNIQUE WELL ID, original_mnemonic=UWI), HeaderItem(mnemonic=API, unit=, value=, descr=API NUMBER, original_mnemonic=API)]\n",
      "[HeaderItem(mnemonic=STRT, unit=m, value=nan, descr=START DEPTH, original_mnemonic=STRT), HeaderItem(mnemonic=STOP, unit=m, value=nan, descr=STOP DEPTH, original_mnemonic=STOP), HeaderItem(mnemonic=STEP, unit=m, value=nan, descr=STEP, original_mnemonic=STEP), HeaderItem(mnemonic=NULL, unit=, value=-9999.25, descr=NULL VALUE, original_mnemonic=NULL), HeaderItem(mnemonic=COMP, unit=, value=, descr=COMPANY, original_mnemonic=COMP), HeaderItem(mnemonic=WELL, unit=, value=, descr=WELL, original_mnemonic=WELL), HeaderItem(mnemonic=FLD, unit=, value=, descr=FIELD, original_mnemonic=FLD), HeaderItem(mnemonic=LOC, unit=, value=, descr=LOCATION, original_mnemonic=LOC), HeaderItem(mnemonic=PROV, unit=, value=, descr=PROVINCE, original_mnemonic=PROV), HeaderItem(mnemonic=CNTY, unit=, value=, descr=COUNTY, original_mnemonic=CNTY), HeaderItem(mnemonic=STAT, unit=, value=, descr=STATE, original_mnemonic=STAT), HeaderItem(mnemonic=CTRY, unit=, value=, descr=COUNTRY, original_mnemonic=CTRY), HeaderItem(mnemonic=SRVC, unit=, value=, descr=SERVICE COMPANY, original_mnemonic=SRVC), HeaderItem(mnemonic=DATE, unit=, value=2016-03-02 14:17:21.495392, descr=DATE, original_mnemonic=DATE), HeaderItem(mnemonic=UWI, unit=, value=, descr=UNIQUE WELL ID, original_mnemonic=UWI), HeaderItem(mnemonic=API, unit=, value=, descr=API NUMBER, original_mnemonic=API)]\n",
      "[]\n",
      "[]\n",
      "[HeaderItem(mnemonic=STRT, unit=m, value=nan, descr=START DEPTH, original_mnemonic=STRT), HeaderItem(mnemonic=STOP, unit=m, value=nan, descr=STOP DEPTH, original_mnemonic=STOP), HeaderItem(mnemonic=STEP, unit=m, value=nan, descr=STEP, original_mnemonic=STEP), HeaderItem(mnemonic=NULL, unit=, value=-9999.25, descr=NULL VALUE, original_mnemonic=NULL), HeaderItem(mnemonic=COMP, unit=, value=, descr=COMPANY, original_mnemonic=COMP), HeaderItem(mnemonic=WELL, unit=, value=, descr=WELL, original_mnemonic=WELL), HeaderItem(mnemonic=FLD, unit=, value=, descr=FIELD, original_mnemonic=FLD), HeaderItem(mnemonic=LOC, unit=, value=, descr=LOCATION, original_mnemonic=LOC), HeaderItem(mnemonic=PROV, unit=, value=, descr=PROVINCE, original_mnemonic=PROV), HeaderItem(mnemonic=CNTY, unit=, value=, descr=COUNTY, original_mnemonic=CNTY), HeaderItem(mnemonic=STAT, unit=, value=, descr=STATE, original_mnemonic=STAT), HeaderItem(mnemonic=CTRY, unit=, value=, descr=COUNTRY, original_mnemonic=CTRY), HeaderItem(mnemonic=SRVC, unit=, value=, descr=SERVICE COMPANY, original_mnemonic=SRVC), HeaderItem(mnemonic=DATE, unit=, value=2016-03-02 14:17:21.495392, descr=DATE, original_mnemonic=DATE), HeaderItem(mnemonic=UWI, unit=, value=, descr=UNIQUE WELL ID, original_mnemonic=UWI), HeaderItem(mnemonic=API, unit=, value=, descr=API NUMBER, original_mnemonic=API)]\n",
      "[HeaderItem(mnemonic=STRT, unit=m, value=nan, descr=START DEPTH, original_mnemonic=STRT), HeaderItem(mnemonic=STOP, unit=m, value=nan, descr=STOP DEPTH, original_mnemonic=STOP), HeaderItem(mnemonic=STEP, unit=m, value=nan, descr=STEP, original_mnemonic=STEP), HeaderItem(mnemonic=NULL, unit=, value=-9999.25, descr=NULL VALUE, original_mnemonic=NULL), HeaderItem(mnemonic=COMP, unit=, value=, descr=COMPANY, original_mnemonic=COMP), HeaderItem(mnemonic=WELL, unit=, value=, descr=WELL, original_mnemonic=WELL), HeaderItem(mnemonic=FLD, unit=, value=, descr=FIELD, original_mnemonic=FLD), HeaderItem(mnemonic=LOC, unit=, value=, descr=LOCATION, original_mnemonic=LOC), HeaderItem(mnemonic=PROV, unit=, value=, descr=PROVINCE, original_mnemonic=PROV), HeaderItem(mnemonic=CNTY, unit=, value=, descr=COUNTY, original_mnemonic=CNTY), HeaderItem(mnemonic=STAT, unit=, value=, descr=STATE, original_mnemonic=STAT), HeaderItem(mnemonic=CTRY, unit=, value=, descr=COUNTRY, original_mnemonic=CTRY), HeaderItem(mnemonic=SRVC, unit=, value=, descr=SERVICE COMPANY, original_mnemonic=SRVC), HeaderItem(mnemonic=DATE, unit=, value=2016-03-02 14:17:21.495392, descr=DATE, original_mnemonic=DATE), HeaderItem(mnemonic=UWI, unit=, value=, descr=UNIQUE WELL ID, original_mnemonic=UWI), HeaderItem(mnemonic=API, unit=, value=, descr=API NUMBER, original_mnemonic=API)]\n",
      "[]\n",
      "[HeaderItem(mnemonic=STRT, unit=m, value=nan, descr=START DEPTH, original_mnemonic=STRT), HeaderItem(mnemonic=STOP, unit=m, value=nan, descr=STOP DEPTH, original_mnemonic=STOP), HeaderItem(mnemonic=STEP, unit=m, value=nan, descr=STEP, original_mnemonic=STEP), HeaderItem(mnemonic=NULL, unit=, value=-9999.25, descr=NULL VALUE, original_mnemonic=NULL), HeaderItem(mnemonic=COMP, unit=, value=, descr=COMPANY, original_mnemonic=COMP), HeaderItem(mnemonic=WELL, unit=, value=, descr=WELL, original_mnemonic=WELL), HeaderItem(mnemonic=FLD, unit=, value=, descr=FIELD, original_mnemonic=FLD), HeaderItem(mnemonic=LOC, unit=, value=, descr=LOCATION, original_mnemonic=LOC), HeaderItem(mnemonic=PROV, unit=, value=, descr=PROVINCE, original_mnemonic=PROV), HeaderItem(mnemonic=CNTY, unit=, value=, descr=COUNTY, original_mnemonic=CNTY), HeaderItem(mnemonic=STAT, unit=, value=, descr=STATE, original_mnemonic=STAT), HeaderItem(mnemonic=CTRY, unit=, value=, descr=COUNTRY, original_mnemonic=CTRY), HeaderItem(mnemonic=SRVC, unit=, value=, descr=SERVICE COMPANY, original_mnemonic=SRVC), HeaderItem(mnemonic=DATE, unit=, value=2016-03-02 14:17:21.495392, descr=DATE, original_mnemonic=DATE), HeaderItem(mnemonic=UWI, unit=, value=, descr=UNIQUE WELL ID, original_mnemonic=UWI), HeaderItem(mnemonic=API, unit=, value=, descr=API NUMBER, original_mnemonic=API)]\n",
      "[HeaderItem(mnemonic=STRT, unit=m, value=nan, descr=START DEPTH, original_mnemonic=STRT), HeaderItem(mnemonic=STOP, unit=m, value=nan, descr=STOP DEPTH, original_mnemonic=STOP), HeaderItem(mnemonic=STEP, unit=m, value=nan, descr=STEP, original_mnemonic=STEP), HeaderItem(mnemonic=NULL, unit=, value=-9999.25, descr=NULL VALUE, original_mnemonic=NULL), HeaderItem(mnemonic=COMP, unit=, value=, descr=COMPANY, original_mnemonic=COMP), HeaderItem(mnemonic=WELL, unit=, value=, descr=WELL, original_mnemonic=WELL), HeaderItem(mnemonic=FLD, unit=, value=, descr=FIELD, original_mnemonic=FLD), HeaderItem(mnemonic=LOC, unit=, value=, descr=LOCATION, original_mnemonic=LOC), HeaderItem(mnemonic=PROV, unit=, value=, descr=PROVINCE, original_mnemonic=PROV), HeaderItem(mnemonic=CNTY, unit=, value=, descr=COUNTY, original_mnemonic=CNTY), HeaderItem(mnemonic=STAT, unit=, value=, descr=STATE, original_mnemonic=STAT), HeaderItem(mnemonic=CTRY, unit=, value=, descr=COUNTRY, original_mnemonic=CTRY), HeaderItem(mnemonic=SRVC, unit=, value=, descr=SERVICE COMPANY, original_mnemonic=SRVC), HeaderItem(mnemonic=DATE, unit=, value=2016-03-02 14:17:21.495392, descr=DATE, original_mnemonic=DATE), HeaderItem(mnemonic=UWI, unit=, value=, descr=UNIQUE WELL ID, original_mnemonic=UWI), HeaderItem(mnemonic=API, unit=, value=, descr=API NUMBER, original_mnemonic=API)]\n",
      "[HeaderItem(mnemonic=STRT, unit=m, value=nan, descr=START DEPTH, original_mnemonic=STRT), HeaderItem(mnemonic=STOP, unit=m, value=nan, descr=STOP DEPTH, original_mnemonic=STOP), HeaderItem(mnemonic=STEP, unit=m, value=nan, descr=STEP, original_mnemonic=STEP), HeaderItem(mnemonic=NULL, unit=, value=-9999.25, descr=NULL VALUE, original_mnemonic=NULL), HeaderItem(mnemonic=COMP, unit=, value=, descr=COMPANY, original_mnemonic=COMP), HeaderItem(mnemonic=WELL, unit=, value=, descr=WELL, original_mnemonic=WELL), HeaderItem(mnemonic=FLD, unit=, value=, descr=FIELD, original_mnemonic=FLD), HeaderItem(mnemonic=LOC, unit=, value=, descr=LOCATION, original_mnemonic=LOC), HeaderItem(mnemonic=PROV, unit=, value=, descr=PROVINCE, original_mnemonic=PROV), HeaderItem(mnemonic=CNTY, unit=, value=, descr=COUNTY, original_mnemonic=CNTY), HeaderItem(mnemonic=STAT, unit=, value=, descr=STATE, original_mnemonic=STAT), HeaderItem(mnemonic=CTRY, unit=, value=, descr=COUNTRY, original_mnemonic=CTRY), HeaderItem(mnemonic=SRVC, unit=, value=, descr=SERVICE COMPANY, original_mnemonic=SRVC), HeaderItem(mnemonic=DATE, unit=, value=2016-03-02 14:17:21.495392, descr=DATE, original_mnemonic=DATE), HeaderItem(mnemonic=UWI, unit=, value=, descr=UNIQUE WELL ID, original_mnemonic=UWI), HeaderItem(mnemonic=API, unit=, value=, descr=API NUMBER, original_mnemonic=API)]\n",
      "[HeaderItem(mnemonic=STRT, unit=m, value=nan, descr=START DEPTH, original_mnemonic=STRT), HeaderItem(mnemonic=STOP, unit=m, value=nan, descr=STOP DEPTH, original_mnemonic=STOP), HeaderItem(mnemonic=STEP, unit=m, value=nan, descr=STEP, original_mnemonic=STEP), HeaderItem(mnemonic=NULL, unit=, value=-9999.25, descr=NULL VALUE, original_mnemonic=NULL), HeaderItem(mnemonic=COMP, unit=, value=, descr=COMPANY, original_mnemonic=COMP), HeaderItem(mnemonic=WELL, unit=, value=, descr=WELL, original_mnemonic=WELL), HeaderItem(mnemonic=FLD, unit=, value=, descr=FIELD, original_mnemonic=FLD), HeaderItem(mnemonic=LOC, unit=, value=, descr=LOCATION, original_mnemonic=LOC), HeaderItem(mnemonic=PROV, unit=, value=, descr=PROVINCE, original_mnemonic=PROV), HeaderItem(mnemonic=CNTY, unit=, value=, descr=COUNTY, original_mnemonic=CNTY), HeaderItem(mnemonic=STAT, unit=, value=, descr=STATE, original_mnemonic=STAT), HeaderItem(mnemonic=CTRY, unit=, value=, descr=COUNTRY, original_mnemonic=CTRY), HeaderItem(mnemonic=SRVC, unit=, value=, descr=SERVICE COMPANY, original_mnemonic=SRVC), HeaderItem(mnemonic=DATE, unit=, value=2016-03-02 14:17:21.495392, descr=DATE, original_mnemonic=DATE), HeaderItem(mnemonic=UWI, unit=, value=, descr=UNIQUE WELL ID, original_mnemonic=UWI), HeaderItem(mnemonic=API, unit=, value=, descr=API NUMBER, original_mnemonic=API)]\n",
      "[]\n"
     ]
    }
   ],
   "source": [
    "x = lasio.LASFile()\n",
    "for obj, dic in las_fields.items():\n",
    "    for attr, (sect, item) in dic.items():\n",
    "        setattr(getattr(x, 'well'), 'DATE', datetime.datetime.today())\n",
    "        "
   ]
  },
  {
   "cell_type": "code",
   "execution_count": null,
   "metadata": {
    "collapsed": true
   },
   "outputs": [],
   "source": []
  },
  {
   "cell_type": "markdown",
   "metadata": {},
   "source": [
    "## READING"
   ]
  },
  {
   "cell_type": "code",
   "execution_count": 22,
   "metadata": {
    "collapsed": true
   },
   "outputs": [],
   "source": [
    "l = lasio.read('P-129_out.LAS')"
   ]
  },
  {
   "cell_type": "code",
   "execution_count": 23,
   "metadata": {
    "collapsed": false
   },
   "outputs": [],
   "source": [
    "import os\n",
    "env = %env\n",
    "l = lasio.read(os.path.join(env['HOME'], 'Dropbox/Agile/Canstrat/Sample_LAS_from_Canstrat/EC00001_CS/EC00001_CS_main.LAS'))"
   ]
  },
  {
   "cell_type": "code",
   "execution_count": 24,
   "metadata": {
    "collapsed": false
   },
   "outputs": [
    {
     "data": {
      "text/plain": [
       "269.7"
      ]
     },
     "execution_count": 24,
     "metadata": {},
     "output_type": "execute_result"
    }
   ],
   "source": [
    "getattr(l.well, 'STRT')['value']"
   ]
  },
  {
   "cell_type": "code",
   "execution_count": 25,
   "metadata": {
    "collapsed": false
   },
   "outputs": [
    {
     "data": {
      "text/plain": [
       "['DEPT',\n",
       " 'RT_ID',\n",
       " 'RT_IDPERC',\n",
       " 'RTC_CLAST_CG',\n",
       " 'RTC_CLAST_FG',\n",
       " 'RTC_EVAP',\n",
       " 'RTC_CARB',\n",
       " 'RTC_IGVOL',\n",
       " 'PORGRADE',\n",
       " 'PORTYPE_PRI',\n",
       " 'GRAINS_MM',\n",
       " 'FRAMEW_PER',\n",
       " 'DIAC_CEM',\n",
       " 'DIAC_FRAC',\n",
       " 'DIAC_POR',\n",
       " 'ROUND',\n",
       " 'SORT',\n",
       " 'OILSTN',\n",
       " 'OILDEAD',\n",
       " 'COLOUR',\n",
       " 'COLOURINT',\n",
       " 'IFFOSSIL',\n",
       " 'IFMINERAL']"
      ]
     },
     "execution_count": 25,
     "metadata": {},
     "output_type": "execute_result"
    }
   ],
   "source": [
    "l.keys()"
   ]
  },
  {
   "cell_type": "code",
   "execution_count": 31,
   "metadata": {
    "collapsed": false
   },
   "outputs": [
    {
     "data": {
      "text/plain": [
       "''"
      ]
     },
     "execution_count": 31,
     "metadata": {},
     "output_type": "execute_result"
    }
   ],
   "source": [
    "l.curves['ROUND'].API_code"
   ]
  },
  {
   "cell_type": "code",
   "execution_count": 138,
   "metadata": {
    "collapsed": false
   },
   "outputs": [
    {
     "data": {
      "text/plain": [
       "[HeaderItem(mnemonic=EKB, unit=M, value=25.9, descr=Elevation KB, original_mnemonic=EKB),\n",
       " HeaderItem(mnemonic=TDD, unit=M, value=3,988.3, descr=TD Driller, original_mnemonic=TDD),\n",
       " HeaderItem(mnemonic=TDL, unit=M, value=3,988.3, descr=TD Logger, original_mnemonic=TDL)]"
      ]
     },
     "execution_count": 138,
     "metadata": {},
     "output_type": "execute_result"
    }
   ],
   "source": [
    "getattr(l, 'params')"
   ]
  },
  {
   "cell_type": "code",
   "execution_count": 52,
   "metadata": {
    "collapsed": false
   },
   "outputs": [
    {
     "data": {
      "text/plain": [
       "[CurveItem(mnemonic=DEPT, unit=M, value=, descr=001  Depth, original_mnemonic=DEPT, data.shape=(37187,)),\n",
       " CurveItem(mnemonic=RT_ID, unit=I, value=, descr=002  Rock type ID (integer 1 to 22), original_mnemonic=RT_ID, data.shape=(37187,)),\n",
       " CurveItem(mnemonic=RT_IDPERC, unit=P, value=, descr=003  Rock type % (integer 0 to 100), original_mnemonic=RT_IDPERC, data.shape=(37187,)),\n",
       " CurveItem(mnemonic=RTC_CLAST_CG, unit=P, value=, descr=004  Rock type clastic - coarse gr % (integer 0 to 100), original_mnemonic=RTC_CLAST_CG, data.shape=(37187,)),\n",
       " CurveItem(mnemonic=RTC_CLAST_FG, unit=P, value=, descr=005  Rock type clastic - fine gr % (integer 0 to 100), original_mnemonic=RTC_CLAST_FG, data.shape=(37187,)),\n",
       " CurveItem(mnemonic=RTC_EVAP, unit=P, value=, descr=006  Rock type evaporite - % (integer 0 to 100), original_mnemonic=RTC_EVAP, data.shape=(37187,)),\n",
       " CurveItem(mnemonic=RTC_CARB, unit=P, value=, descr=007  Rock type carbonates - % (integer 0 to 100), original_mnemonic=RTC_CARB, data.shape=(37187,)),\n",
       " CurveItem(mnemonic=RTC_IGVOL, unit=P, value=, descr=008  Rock type (ign-met-vol) - % (integer 0 to 100), original_mnemonic=RTC_IGVOL, data.shape=(37187,)),\n",
       " CurveItem(mnemonic=PORGRADE, unit=P, value=, descr=009  Porosity grade - % (integer 0 to 40), original_mnemonic=PORGRADE, data.shape=(37187,)),\n",
       " CurveItem(mnemonic=PORTYPE_PRI, unit=P, value=, descr=010  Porosity type ID - primary (integer 0 to 9), original_mnemonic=PORTYPE_PRI, data.shape=(37187,)),\n",
       " CurveItem(mnemonic=GRAINS_MM, unit=MM, value=, descr=011  Grain size (mm), original_mnemonic=GRAINS_MM, data.shape=(37187,)),\n",
       " CurveItem(mnemonic=FRAMEW_PER, unit=P, value=, descr=012  Framework - % (integer -1 to 100), original_mnemonic=FRAMEW_PER, data.shape=(37187,)),\n",
       " CurveItem(mnemonic=DIAC_CEM, unit=P, value=, descr=013  Diagenesis cements composite - % (integer 0 to 100), original_mnemonic=DIAC_CEM, data.shape=(37187,)),\n",
       " CurveItem(mnemonic=DIAC_FRAC, unit=P, value=, descr=014  Diagenesis fracture composite - % (integer 0 to 100), original_mnemonic=DIAC_FRAC, data.shape=(37187,)),\n",
       " CurveItem(mnemonic=DIAC_POR, unit=P, value=, descr=015  Diagenesis porosity composite - % (integer 0 to 100), original_mnemonic=DIAC_POR, data.shape=(37187,)),\n",
       " CurveItem(mnemonic=ROUND, unit=I, value=, descr=016  Rounding (integer 0 to 4), original_mnemonic=ROUND, data.shape=(37187,)),\n",
       " CurveItem(mnemonic=SORT, unit=I, value=, descr=017  Sorting (integer 0 to 3), original_mnemonic=SORT, data.shape=(37187,)),\n",
       " CurveItem(mnemonic=OILSTN, unit=I, value=, descr=018  Oil staining (integer 0 to 4), original_mnemonic=OILSTN, data.shape=(37187,)),\n",
       " CurveItem(mnemonic=OILDEAD, unit=I, value=, descr=019  Dead oil (integer 0 or 2), original_mnemonic=OILDEAD, data.shape=(37187,)),\n",
       " CurveItem(mnemonic=COLOUR, unit=I, value=, descr=020  Colour ID (integer 0 to 14), original_mnemonic=COLOUR, data.shape=(37187,)),\n",
       " CurveItem(mnemonic=COLOURINT, unit=I, value=, descr=021  Colour intensity (integer 0 to 9), original_mnemonic=COLOURINT, data.shape=(37187,)),\n",
       " CurveItem(mnemonic=IFFOSSIL, unit=I, value=, descr=022  Fossil occur (integer 0 to 3), original_mnemonic=IFFOSSIL, data.shape=(37187,)),\n",
       " CurveItem(mnemonic=IFMINERAL, unit=I, value=, descr=023  Mineral occur (integer 0 to 8), original_mnemonic=IFMINERAL, data.shape=(37187,))]"
      ]
     },
     "execution_count": 52,
     "metadata": {},
     "output_type": "execute_result"
    }
   ],
   "source": [
    "l.curves"
   ]
  },
  {
   "cell_type": "code",
   "execution_count": 53,
   "metadata": {
    "collapsed": false
   },
   "outputs": [
    {
     "data": {
      "text/plain": [
       "['DEPT',\n",
       " 'RT_ID',\n",
       " 'RT_IDPERC',\n",
       " 'RTC_CLAST_CG',\n",
       " 'RTC_CLAST_FG',\n",
       " 'RTC_EVAP',\n",
       " 'RTC_CARB',\n",
       " 'RTC_IGVOL',\n",
       " 'PORGRADE',\n",
       " 'PORTYPE_PRI',\n",
       " 'GRAINS_MM',\n",
       " 'FRAMEW_PER',\n",
       " 'DIAC_CEM',\n",
       " 'DIAC_FRAC',\n",
       " 'DIAC_POR',\n",
       " 'ROUND',\n",
       " 'SORT',\n",
       " 'OILSTN',\n",
       " 'OILDEAD',\n",
       " 'COLOUR',\n",
       " 'COLOURINT',\n",
       " 'IFFOSSIL',\n",
       " 'IFMINERAL']"
      ]
     },
     "execution_count": 53,
     "metadata": {},
     "output_type": "execute_result"
    }
   ],
   "source": [
    "[c.mnemonic for c in l.curves]"
   ]
  },
  {
   "cell_type": "code",
   "execution_count": 54,
   "metadata": {
    "collapsed": false
   },
   "outputs": [
    {
     "data": {
      "text/plain": [
       "['DEPT',\n",
       " 'RT_ID',\n",
       " 'RT_IDPERC',\n",
       " 'RTC_CLAST_CG',\n",
       " 'RTC_CLAST_FG',\n",
       " 'RTC_EVAP',\n",
       " 'RTC_CARB',\n",
       " 'RTC_IGVOL',\n",
       " 'PORGRADE',\n",
       " 'PORTYPE_PRI']"
      ]
     },
     "execution_count": 54,
     "metadata": {},
     "output_type": "execute_result"
    }
   ],
   "source": [
    "l.keys()[:10]"
   ]
  },
  {
   "cell_type": "code",
   "execution_count": 55,
   "metadata": {
    "collapsed": false
   },
   "outputs": [
    {
     "data": {
      "text/plain": [
       "array([ 1269.7,  1269.8,  1269.9,  1270. ,  1270.1,  1270.2,  1270.3,\n",
       "        1270.4,  1270.5,  1270.6,  1270.7,  1270.8,  1270.9,  1271. ,\n",
       "        1271.1,  1271.2,  1271.3,  1271.4,  1271.5,  1271.6,  1271.7,\n",
       "        1271.8,  1271.9,  1272. ,  1272.1,  1272.2,  1272.3,  1272.4,\n",
       "        1272.5,  1272.6,  1272.7,  1272.8,  1272.9,  1273. ,  1273.1,\n",
       "        1273.2,  1273.3,  1273.4,  1273.5,  1273.6,  1273.7,  1273.8,\n",
       "        1273.9,  1274. ,  1274.1,  1274.2,  1274.3,  1274.4,  1274.5,\n",
       "        1274.6])"
      ]
     },
     "execution_count": 55,
     "metadata": {},
     "output_type": "execute_result"
    }
   ],
   "source": [
    "l['DEPT'][10000:10050]"
   ]
  },
  {
   "cell_type": "code",
   "execution_count": 28,
   "metadata": {
    "collapsed": false
   },
   "outputs": [
    {
     "data": {
      "text/plain": [
       "array([ 60.91022492,  60.94638062,  60.94638062,  59.49991608,\n",
       "        59.92285156,  60.3734436 ,  59.24057007,  56.79410553,\n",
       "        54.38121414,  54.54032516,  53.37673569,  54.85882568,\n",
       "        57.16811371,  59.03767395,  59.06389999,  57.96990967,\n",
       "        58.18227386,  58.43130875,  59.0648613 ,  58.64612579,\n",
       "        59.85111999,  59.38244247,  59.66381073,  59.33558273,\n",
       "        59.87338638,  60.34424972,  59.96819687,  59.3461647 ,\n",
       "        60.07142639,  60.27151871,  61.68083954,  61.68896103,\n",
       "        62.49456787,  61.79069138,  61.30258179,  60.21380615,\n",
       "        60.4261322 ,  60.36045456,  60.10358048,  59.8057251 ,\n",
       "        58.7135582 ,  57.55845261,  56.6594162 ,  56.65420532,\n",
       "        56.65420532,  57.06557083,  56.63895798,  57.47354126,\n",
       "        57.76369476,  58.01359177])"
      ]
     },
     "execution_count": 28,
     "metadata": {},
     "output_type": "execute_result"
    }
   ],
   "source": [
    "l['DT'][10000:10050]"
   ]
  },
  {
   "cell_type": "code",
   "execution_count": 29,
   "metadata": {
    "collapsed": false
   },
   "outputs": [
    {
     "data": {
      "text/plain": [
       "array([[  1.06680000e+00,   2.44381547e+00,   4.39128494e+00, ...,\n",
       "          2.39014983e+00,   4.66986504e+01,   1.20125000e+02],\n",
       "       [  1.21920000e+00,   2.44381547e+00,   4.39128494e+00, ...,\n",
       "          2.39014983e+00,   4.66986504e+01,   1.20125000e+02],\n",
       "       [  1.37160000e+00,   2.44381547e+00,   4.39128494e+00, ...,\n",
       "          2.39014983e+00,   4.66986504e+01,   1.20125000e+02],\n",
       "       ..., \n",
       "       [  1.93883280e+03,   2.42026806e+00,              nan, ...,\n",
       "                     nan,   9.22462235e+01,   7.30000000e+01],\n",
       "       [  1.93898520e+03,   2.42026806e+00,              nan, ...,\n",
       "                     nan,   9.22462235e+01,   7.39375000e+01],\n",
       "       [  1.93913760e+03,   2.42026806e+00,              nan, ...,\n",
       "                     nan,   9.22462235e+01,   7.42500000e+01]])"
      ]
     },
     "execution_count": 29,
     "metadata": {},
     "output_type": "execute_result"
    }
   ],
   "source": [
    "l.data"
   ]
  },
  {
   "cell_type": "code",
   "execution_count": 30,
   "metadata": {
    "collapsed": false
   },
   "outputs": [
    {
     "data": {
      "text/plain": [
       "(12718, 25)"
      ]
     },
     "execution_count": 30,
     "metadata": {},
     "output_type": "execute_result"
    }
   ],
   "source": [
    "l.data.shape"
   ]
  },
  {
   "cell_type": "code",
   "execution_count": 31,
   "metadata": {
    "collapsed": false
   },
   "outputs": [
    {
     "name": "stdout",
     "output_type": "stream",
     "text": [
      "# LAS format log file from PETREL\n",
      "# Project units are specified as depth units\n",
      "#==================================================================\n",
      "~Version information\n",
      "VERS.   2.0:\n",
      "WRAP.   YES:\n",
      "#==================================================================\n",
      "~WELL INFORMATION\n",
      "#MNEM.UNIT      DATA             DESCRIPTION\n",
      "#---- ------ --------------   -----------------------------\n",
      "STRT .M      1.0668          :START DEPTH     \n",
      "STOP .M      1939.13760      :STOP DEPTH     \n",
      "STEP .M       0.15240        :STEP        \n",
      "NULL .          -999.25      :NULL VALUE\n",
      "COMP .        Elmworth Energy Corporation              :COMPANY\n",
      "WELL .        Kennetcook #2                            :WELL\n",
      "FLD  .        Windsor Block                            :FIELD\n",
      "LOC  .        Lat = 45* 12' 34.237\" N                  :LOCATION\n",
      "PROV .        Nova Scotia                              :PROVINCE\n",
      "  UWI.        Long = 63* 45'24.460  W                  :UNIQUE WELL ID\n",
      "LIC  .        P-129                                    :LICENSE NUMBER\n",
      "CTRY .        CA                                       :COUNTRY (WWW code)\n",
      " DATE.        10-Oct-2007                              :LOG DATE {DD-MMM-YYYY}\n",
      "SRVC .        Schlumberger                             :SERVICE COMPANY\n",
      "LATI .DEG                                              :LATITUDE\n",
      "LONG .DEG                                              :LONGITUDE\n",
      "GDAT .                                                 :GeoDetic Datum\n",
      "SECT .        45.20 Deg N                              :Section\n",
      "RANG .        PD 176                                   :Range\n",
      "TOWN .        63.75 Deg W                              :Township\n",
      "#==================================================================\n",
      "~PARAMETER INFORMATION\n",
      "#MNEM.UNIT    VALUE                      DESCRIPTION\n",
      "#---- -----   --------------------       ------------------------\n",
      "DREF .        KELLY BUSHING              :Drilling Measured From\n",
      "RUN  .        1                          :Run Number\n",
      "CSGD .M        280.00000                 :Casing Bottom of Driller\n",
      "CSGL .M        280.00000                 :Casing Bottom of Logger\n",
      "CSGS .MM       244.50000                 :Current Casing Size\n",
      "CSGW .KG/M      53.57000                 :Casing Weight\n",
      "MUDD .K/M3    1110.00000                 :Drilling Fluid Density\n",
      "   FL.C3         7.50000                 :DRILLING FLUID LOSS\n",
      "PH   .          10.50000                 :Drilling Fluid PH\n",
      "MUD  .        Gel-Chem                   :Drilling Fluid Type\n",
      "MUDV .S         73.00000                 :Drilling Fluid Viscosity\n",
      "GL   .M         90.30000                 :Elevation of Ground Level\n",
      "EREF .M         94.80000                 :Elevation of Kelly Bushing\n",
      "ENG  .        L. Conway / J. Easton      :Engineer's Name\n",
      "EREF .        KELLY BUSHING              :Log Measured From\n",
      "BASE .        Dartmouth                  :Logging Unit Location\n",
      "FACT .        11864196                   :Service Order Number\n",
      "LIC  .                                   :API Serial Number\n",
      "PROV .        Nova Scot\n"
     ]
    }
   ],
   "source": [
    "print(l._text[:3000])"
   ]
  },
  {
   "cell_type": "code",
   "execution_count": 56,
   "metadata": {
    "collapsed": false
   },
   "outputs": [
    {
     "data": {
      "text/plain": [
       "HeaderItem(mnemonic=STRT, unit=M, value=269.7, descr=START DEPTH, original_mnemonic=STRT)"
      ]
     },
     "execution_count": 56,
     "metadata": {},
     "output_type": "execute_result"
    }
   ],
   "source": [
    "l.well['STRT']"
   ]
  },
  {
   "cell_type": "code",
   "execution_count": 83,
   "metadata": {
    "collapsed": false
   },
   "outputs": [
    {
     "data": {
      "text/plain": [
       "HeaderItem(mnemonic=STRT, unit=M, value=269.7, descr=START DEPTH, original_mnemonic=STRT)"
      ]
     },
     "execution_count": 83,
     "metadata": {},
     "output_type": "execute_result"
    }
   ],
   "source": [
    "l.well.STRT"
   ]
  },
  {
   "cell_type": "code",
   "execution_count": 84,
   "metadata": {
    "collapsed": false
   },
   "outputs": [
    {
     "ename": "AttributeError",
     "evalue": "'super' object has no attribute '__getattr__'",
     "output_type": "error",
     "traceback": [
      "\u001b[0;31m---------------------------------------------------------------------------\u001b[0m",
      "\u001b[0;31mAttributeError\u001b[0m                            Traceback (most recent call last)",
      "\u001b[0;32m<ipython-input-84-7a7009fdc540>\u001b[0m in \u001b[0;36m<module>\u001b[0;34m()\u001b[0m\n\u001b[0;32m----> 1\u001b[0;31m \u001b[0mrun\u001b[0m \u001b[0;34m=\u001b[0m \u001b[0ml\u001b[0m\u001b[0;34m.\u001b[0m\u001b[0mparams\u001b[0m\u001b[0;34m.\u001b[0m\u001b[0mRUN\u001b[0m\u001b[0;34m.\u001b[0m\u001b[0mvalue\u001b[0m\u001b[0;34m\u001b[0m\u001b[0m\n\u001b[0m",
      "\u001b[0;32m/Users/matt/anaconda/envs/python3/lib/python3.4/site-packages/lasio/las.py\u001b[0m in \u001b[0;36m__getattr__\u001b[0;34m(self, key)\u001b[0m\n\u001b[1;32m    216\u001b[0m \u001b[0;34m\u001b[0m\u001b[0m\n\u001b[1;32m    217\u001b[0m     \u001b[0;32mdef\u001b[0m \u001b[0mitervalues\u001b[0m\u001b[0;34m(\u001b[0m\u001b[0mself\u001b[0m\u001b[0;34m)\u001b[0m\u001b[0;34m:\u001b[0m\u001b[0;34m\u001b[0m\u001b[0m\n\u001b[0;32m--> 218\u001b[0;31m         \u001b[0;32mreturn\u001b[0m \u001b[0miter\u001b[0m\u001b[0;34m(\u001b[0m\u001b[0mlist\u001b[0m\u001b[0;34m(\u001b[0m\u001b[0mself\u001b[0m\u001b[0;34m.\u001b[0m\u001b[0mvalues\u001b[0m\u001b[0;34m(\u001b[0m\u001b[0;34m)\u001b[0m\u001b[0;34m)\u001b[0m\u001b[0;34m)\u001b[0m\u001b[0;34m\u001b[0m\u001b[0m\n\u001b[0m\u001b[1;32m    219\u001b[0m \u001b[0;34m\u001b[0m\u001b[0m\n\u001b[1;32m    220\u001b[0m     \u001b[0;32mdef\u001b[0m \u001b[0miteritems\u001b[0m\u001b[0;34m(\u001b[0m\u001b[0mself\u001b[0m\u001b[0;34m)\u001b[0m\u001b[0;34m:\u001b[0m\u001b[0;34m\u001b[0m\u001b[0m\n",
      "\u001b[0;31mAttributeError\u001b[0m: 'super' object has no attribute '__getattr__'"
     ]
    }
   ],
   "source": [
    "run = l.params.RUN.value"
   ]
  },
  {
   "cell_type": "code",
   "execution_count": 90,
   "metadata": {
    "collapsed": false
   },
   "outputs": [],
   "source": [
    "run = l.well['STRT']"
   ]
  },
  {
   "cell_type": "code",
   "execution_count": 101,
   "metadata": {
    "collapsed": false
   },
   "outputs": [],
   "source": [
    "def lasio_get(l, section, item=None, attrib=None, default=None):\n",
    "    try:\n",
    "        if item is None:\n",
    "            return getattr(l, section)\n",
    "        elif attrib is None:\n",
    "            return getattr(l, section)[item]\n",
    "        return getattr(l, section)[item][attrib]\n",
    "    except KeyError:\n",
    "        return default"
   ]
  },
  {
   "cell_type": "code",
   "execution_count": 102,
   "metadata": {
    "collapsed": false
   },
   "outputs": [],
   "source": [
    "run = lasio_get(l, 'well', 'STRT', 'value')"
   ]
  },
  {
   "cell_type": "code",
   "execution_count": 103,
   "metadata": {
    "collapsed": false
   },
   "outputs": [
    {
     "name": "stdout",
     "output_type": "stream",
     "text": [
      "269.7\n"
     ]
    }
   ],
   "source": [
    "print(run)"
   ]
  },
  {
   "cell_type": "code",
   "execution_count": 104,
   "metadata": {
    "collapsed": true
   },
   "outputs": [],
   "source": [
    "c = l.curves[3]"
   ]
  },
  {
   "cell_type": "code",
   "execution_count": 105,
   "metadata": {
    "collapsed": false
   },
   "outputs": [
    {
     "data": {
      "text/plain": [
       "'004  Rock type clastic - coarse gr % (integer 0 to 100)'"
      ]
     },
     "execution_count": 105,
     "metadata": {},
     "output_type": "execute_result"
    }
   ],
   "source": [
    "lasio_get(c, 'descr')"
   ]
  },
  {
   "cell_type": "code",
   "execution_count": 117,
   "metadata": {
    "collapsed": true
   },
   "outputs": [],
   "source": [
    "p = \"\"\"+a         Semimajor radius of the ellipsoid axis\n",
    "+alpha     ? Used with Oblique Mercator and possibly a few others\n",
    "+axis      Axis orientation (new in 4.8.0)\n",
    "+b         Semiminor radius of the ellipsoid axis\n",
    "+datum     Datum name (see `proj -ld`)\n",
    "+ellps     Ellipsoid name (see `proj -le`)\n",
    "+init      Initialize from a named CRS\n",
    "+k         Scaling factor (old name)\n",
    "+k_0       Scaling factor (new name)\n",
    "+lat_0     Latitude of origin\n",
    "+lat_1     Latitude of first standard parallel\n",
    "+lat_2     Latitude of second standard parallel\n",
    "+lat_ts    Latitude of true scale\n",
    "+lon_0     Central meridian\n",
    "+lonc      ? Longitude used with Oblique Mercator and possibly a few others\n",
    "+lon_wrap  Center longitude to use for wrapping (see below)\n",
    "+nadgrids  Filename of NTv2 grid file to use for datum transforms (see below)\n",
    "+no_defs   Don't use the /usr/share/proj/proj_def.dat defaults file\n",
    "+over      Allow longitude output outside -180 to 180 range, disables wrapping (see below)\n",
    "+pm        Alternate prime meridian (typically a city name, see below)\n",
    "+proj      Projection name (see `proj -l`)\n",
    "+south     Denotes southern hemisphere UTM zone\n",
    "+to_meter  Multiplier to convert map units to 1.0m\n",
    "+towgs84   3 or 7 term datum transform parameters (see below)\n",
    "+units     meters, US survey feet, etc.\n",
    "+vto_meter vertical conversion to meters.\n",
    "+vunits    vertical units.\n",
    "+x_0       False easting\n",
    "+y_0       False northing\n",
    "+zone      UTM zone\n",
    "+a         Semimajor radius of the ellipsoid axis\n",
    "+alpha     ? Used with Oblique Mercator and possibly a few others\n",
    "+azi\n",
    "+b         Semiminor radius of the ellipsoid axis\n",
    "+belgium\n",
    "+beta\n",
    "+czech\n",
    "+e         Eccentricity of the ellipsoid = sqrt(1 - b^2/a^2) = sqrt( f*(2-f) )\n",
    "+ellps     Ellipsoid name (see `proj -le`)\n",
    "+es        Eccentricity of the ellipsoid squared\n",
    "+f         Flattening of the ellipsoid (often presented as an inverse, e.g. 1/298)\n",
    "+gamma\n",
    "+geoc\n",
    "+guam\n",
    "+h\n",
    "+k         Scaling factor (old name)\n",
    "+K\n",
    "+k_0       Scaling factor (new name)\n",
    "+lat_0     Latitude of origin\n",
    "+lat_1     Latitude of first standard parallel\n",
    "+lat_2     Latitude of second standard parallel\n",
    "+lat_b\n",
    "+lat_t\n",
    "+lat_ts    Latitude of true scale\n",
    "+lon_0     Central meridian\n",
    "+lon_1\n",
    "+lon_2\n",
    "+lonc      ? Longitude used with Oblique Mercator and possibly a few others\n",
    "+lsat\n",
    "+m\n",
    "+M\n",
    "+n\n",
    "+no_cut\n",
    "+no_off\n",
    "+no_rot\n",
    "+ns\n",
    "+o_alpha\n",
    "+o_lat_1\n",
    "+o_lat_2\n",
    "+o_lat_c\n",
    "+o_lat_p\n",
    "+o_lon_1\n",
    "+o_lon_2\n",
    "+o_lon_c\n",
    "+o_lon_p\n",
    "+o_proj\n",
    "+over\n",
    "+p\n",
    "+path\n",
    "+proj      Projection name (see `proj -l`)\n",
    "+q\n",
    "+R\n",
    "+R_a\n",
    "+R_A       Compute radius such that the area of the sphere is the same as the area of the ellipsoid\n",
    "+rf        Reciprocal of the ellipsoid flattening term (e.g. 298)\n",
    "+R_g\n",
    "+R_h\n",
    "+R_lat_a\n",
    "+R_lat_g\n",
    "+rot\n",
    "+R_V\n",
    "+s\n",
    "+south     Denotes southern hemisphere UTM zone\n",
    "+sym\n",
    "+t\n",
    "+theta\n",
    "+tilt\n",
    "+to_meter  Multiplier to convert map units to 1.0m\n",
    "+units     meters, US survey feet, etc.\n",
    "+vopt\n",
    "+W\n",
    "+westo\n",
    "+x_0       False easting\n",
    "+y_0       False northing\n",
    "+zone      UTM zone\"\"\""
   ]
  },
  {
   "cell_type": "code",
   "execution_count": 119,
   "metadata": {
    "collapsed": true
   },
   "outputs": [],
   "source": [
    "s = '+south'"
   ]
  },
  {
   "cell_type": "code",
   "execution_count": 122,
   "metadata": {
    "collapsed": false
   },
   "outputs": [
    {
     "data": {
      "text/plain": [
       "[]"
      ]
     },
     "execution_count": 122,
     "metadata": {},
     "output_type": "execute_result"
    }
   ],
   "source": [
    "s.split()[1:]"
   ]
  },
  {
   "cell_type": "code",
   "execution_count": 125,
   "metadata": {
    "collapsed": false
   },
   "outputs": [
    {
     "data": {
      "text/plain": [
       "{'+K': '',\n",
       " '+M': '',\n",
       " '+R': '',\n",
       " '+R_A': 'Compute radius such that the area of the sphere is the same as the area of the ellipsoid',\n",
       " '+R_V': '',\n",
       " '+R_a': '',\n",
       " '+R_g': '',\n",
       " '+R_h': '',\n",
       " '+R_lat_a': '',\n",
       " '+R_lat_g': '',\n",
       " '+W': '',\n",
       " '+a': 'Semimajor radius of the ellipsoid axis',\n",
       " '+alpha': '? Used with Oblique Mercator and possibly a few others',\n",
       " '+axis': 'Axis orientation (new in 4.8.0)',\n",
       " '+azi': '',\n",
       " '+b': 'Semiminor radius of the ellipsoid axis',\n",
       " '+belgium': '',\n",
       " '+beta': '',\n",
       " '+czech': '',\n",
       " '+datum': 'Datum name (see `proj -ld`)',\n",
       " '+e': 'Eccentricity of the ellipsoid = sqrt(1 - b^2/a^2) = sqrt( f*(2-f) )',\n",
       " '+ellps': 'Ellipsoid name (see `proj -le`)',\n",
       " '+es': 'Eccentricity of the ellipsoid squared',\n",
       " '+f': 'Flattening of the ellipsoid (often presented as an inverse, e.g. 1/298)',\n",
       " '+gamma': '',\n",
       " '+geoc': '',\n",
       " '+guam': '',\n",
       " '+h': '',\n",
       " '+init': 'Initialize from a named CRS',\n",
       " '+k': 'Scaling factor (old name)',\n",
       " '+k_0': 'Scaling factor (new name)',\n",
       " '+lat_0': 'Latitude of origin',\n",
       " '+lat_1': 'Latitude of first standard parallel',\n",
       " '+lat_2': 'Latitude of second standard parallel',\n",
       " '+lat_b': '',\n",
       " '+lat_t': '',\n",
       " '+lat_ts': 'Latitude of true scale',\n",
       " '+lon_0': 'Central meridian',\n",
       " '+lon_1': '',\n",
       " '+lon_2': '',\n",
       " '+lon_wrap': 'Center longitude to use for wrapping (see below)',\n",
       " '+lonc': '? Longitude used with Oblique Mercator and possibly a few others',\n",
       " '+lsat': '',\n",
       " '+m': '',\n",
       " '+n': '',\n",
       " '+nadgrids': 'Filename of NTv2 grid file to use for datum transforms (see below)',\n",
       " '+no_cut': '',\n",
       " '+no_defs': \"Don't use the /usr/share/proj/proj_def.dat defaults file\",\n",
       " '+no_off': '',\n",
       " '+no_rot': '',\n",
       " '+ns': '',\n",
       " '+o_alpha': '',\n",
       " '+o_lat_1': '',\n",
       " '+o_lat_2': '',\n",
       " '+o_lat_c': '',\n",
       " '+o_lat_p': '',\n",
       " '+o_lon_1': '',\n",
       " '+o_lon_2': '',\n",
       " '+o_lon_c': '',\n",
       " '+o_lon_p': '',\n",
       " '+o_proj': '',\n",
       " '+over': '',\n",
       " '+p': '',\n",
       " '+path': '',\n",
       " '+pm': 'Alternate prime meridian (typically a city name, see below)',\n",
       " '+proj': 'Projection name (see `proj -l`)',\n",
       " '+q': '',\n",
       " '+rf': 'Reciprocal of the ellipsoid flattening term (e.g. 298)',\n",
       " '+rot': '',\n",
       " '+s': '',\n",
       " '+south': 'Denotes southern hemisphere UTM zone',\n",
       " '+sym': '',\n",
       " '+t': '',\n",
       " '+theta': '',\n",
       " '+tilt': '',\n",
       " '+to_meter': 'Multiplier to convert map units to 1.0m',\n",
       " '+towgs84': '3 or 7 term datum transform parameters (see below)',\n",
       " '+units': 'meters, US survey feet, etc.',\n",
       " '+vopt': '',\n",
       " '+vto_meter': 'vertical conversion to meters.',\n",
       " '+vunits': 'vertical units.',\n",
       " '+westo': '',\n",
       " '+x_0': 'False easting',\n",
       " '+y_0': 'False northing',\n",
       " '+zone': 'UTM zone'}"
      ]
     },
     "execution_count": 125,
     "metadata": {},
     "output_type": "execute_result"
    }
   ],
   "source": [
    "items = p.split(\"\\n\")\n",
    "params = {}\n",
    "for i in items:\n",
    "    k = i.split()[0]\n",
    "    v = ' '.join(i.split()[1:])\n",
    "    params[k] = v\n",
    "params"
   ]
  },
  {
   "cell_type": "code",
   "execution_count": null,
   "metadata": {
    "collapsed": true
   },
   "outputs": [],
   "source": []
  }
 ],
 "metadata": {
  "kernelspec": {
   "display_name": "Python 3",
   "language": "python",
   "name": "python3"
  },
  "language_info": {
   "codemirror_mode": {
    "name": "ipython",
    "version": 3
   },
   "file_extension": ".py",
   "mimetype": "text/x-python",
   "name": "python",
   "nbconvert_exporter": "python",
   "pygments_lexer": "ipython3",
   "version": "3.4.4"
  }
 },
 "nbformat": 4,
 "nbformat_minor": 0
}
