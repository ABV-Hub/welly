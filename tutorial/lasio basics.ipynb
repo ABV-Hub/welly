{
 "cells": [
  {
   "cell_type": "markdown",
   "metadata": {},
   "source": [
    "### There's nothing useful here, it's just a scratchpad"
   ]
  },
  {
   "cell_type": "code",
   "execution_count": 1,
   "metadata": {
    "collapsed": false
   },
   "outputs": [
    {
     "data": {
      "text/plain": [
       "'0.10'"
      ]
     },
     "execution_count": 1,
     "metadata": {},
     "output_type": "execute_result"
    }
   ],
   "source": [
    "import lasio\n",
    "lasio.__version__"
   ]
  },
  {
   "cell_type": "code",
   "execution_count": 2,
   "metadata": {
    "collapsed": true
   },
   "outputs": [],
   "source": [
    "l = lasio.read('P-129_out.LAS')"
   ]
  },
  {
   "cell_type": "code",
   "execution_count": 3,
   "metadata": {
    "collapsed": false
   },
   "outputs": [
    {
     "data": {
      "text/plain": [
       "['DEPT',\n",
       " 'CALI',\n",
       " 'HCAL',\n",
       " 'PEF',\n",
       " 'DT',\n",
       " 'DTS',\n",
       " 'DPHI_SAN',\n",
       " 'DPHI_LIM',\n",
       " 'DPHI_DOL',\n",
       " 'NPHI_SAN',\n",
       " 'NPHI_LIM',\n",
       " 'NPHI_DOL',\n",
       " 'RLA5',\n",
       " 'RLA3',\n",
       " 'RLA4',\n",
       " 'RLA1',\n",
       " 'RLA2',\n",
       " 'RXOZ',\n",
       " 'RXO_HRLT',\n",
       " 'RT_HRLT',\n",
       " 'RM_HRLT',\n",
       " 'DRHO',\n",
       " 'RHOB',\n",
       " 'GR',\n",
       " 'SP']"
      ]
     },
     "execution_count": 3,
     "metadata": {},
     "output_type": "execute_result"
    }
   ],
   "source": [
    "l.keys()"
   ]
  },
  {
   "cell_type": "code",
   "execution_count": 9,
   "metadata": {
    "collapsed": false
   },
   "outputs": [
    {
     "data": {
      "text/plain": [
       "[CurveItem(mnemonic=DEPT, unit=m, value=, descr=DEPTH, original_mnemonic=DEPT, data.shape=(12718,)),\n",
       " CurveItem(mnemonic=CALI, unit=in, value=, descr=Caliper, original_mnemonic=CALI, data.shape=(12718,)),\n",
       " CurveItem(mnemonic=HCAL, unit=in, value=, descr=HRCC Cal. Caliper, original_mnemonic=HCAL, data.shape=(12718,)),\n",
       " CurveItem(mnemonic=PEF, unit=, value=, descr=Photoelectric Factor, original_mnemonic=PEF, data.shape=(12718,)),\n",
       " CurveItem(mnemonic=DT, unit=us/ft, value=, descr=DT, original_mnemonic=DT, data.shape=(12718,)),\n",
       " CurveItem(mnemonic=DTS, unit=us/ft, value=, descr=DTS, original_mnemonic=DTS, data.shape=(12718,)),\n",
       " CurveItem(mnemonic=DPHI_SAN, unit=m3/m3, value=, descr=Density Porosity (matrix Sandstone), original_mnemonic=DPHI_SAN, data.shape=(12718,)),\n",
       " CurveItem(mnemonic=DPHI_LIM, unit=m3/m3, value=, descr=Density Porosity (matrix Limestone), original_mnemonic=DPHI_LIM, data.shape=(12718,)),\n",
       " CurveItem(mnemonic=DPHI_DOL, unit=m3/m3, value=, descr=Density Porosity (matrix Dolomite), original_mnemonic=DPHI_DOL, data.shape=(12718,)),\n",
       " CurveItem(mnemonic=NPHI_SAN, unit=m3/m3, value=, descr=Thermal Neutron Porosity (matrix Sandstone), original_mnemonic=NPHI_SAN, data.shape=(12718,)),\n",
       " CurveItem(mnemonic=NPHI_LIM, unit=m3/m3, value=, descr=Thermal Neutron Porosity (matrix Limestone), original_mnemonic=NPHI_LIM, data.shape=(12718,)),\n",
       " CurveItem(mnemonic=NPHI_DOL, unit=m3/m3, value=, descr=Thermal Neutron Porosity (matrix Dolomite), original_mnemonic=NPHI_DOL, data.shape=(12718,)),\n",
       " CurveItem(mnemonic=RLA5, unit=ohm.m, value=, descr=HRLT Borehole Corrected Resistivity 5, original_mnemonic=RLA5, data.shape=(12718,)),\n",
       " CurveItem(mnemonic=RLA3, unit=ohm.m, value=, descr=HRLT Borehole Corrected Resistivity 3, original_mnemonic=RLA3, data.shape=(12718,)),\n",
       " CurveItem(mnemonic=RLA4, unit=ohm.m, value=, descr=HRLT Borehole Corrected Resistivity 4, original_mnemonic=RLA4, data.shape=(12718,)),\n",
       " CurveItem(mnemonic=RLA1, unit=ohm.m, value=, descr=HRLT Borehole Corrected Resistivity 1, original_mnemonic=RLA1, data.shape=(12718,)),\n",
       " CurveItem(mnemonic=RLA2, unit=ohm.m, value=, descr=HRLT Borehole Corrected Resistivity 2, original_mnemonic=RLA2, data.shape=(12718,)),\n",
       " CurveItem(mnemonic=RXOZ, unit=ohm.m, value=, descr=MCFL Standard Resolution Invaded Zone Resistivity, original_mnemonic=RXOZ, data.shape=(12718,)),\n",
       " CurveItem(mnemonic=RXO_HRLT, unit=ohm.m, value=, descr=, original_mnemonic=RXO_HRLT, data.shape=(12718,)),\n",
       " CurveItem(mnemonic=RT_HRLT, unit=ohm.m, value=, descr=HRLT Computed True Resistivity, original_mnemonic=RT_HRLT, data.shape=(12718,)),\n",
       " CurveItem(mnemonic=RM_HRLT, unit=ohm.m, value=, descr=HRLT Mud Resistivity, original_mnemonic=RM_HRLT, data.shape=(12718,)),\n",
       " CurveItem(mnemonic=DRHO, unit=g/cm3, value=, descr=HRDD Density Correction, original_mnemonic=DRHO, data.shape=(12718,)),\n",
       " CurveItem(mnemonic=RHOB, unit=g/cm3, value=, descr=Bulk Density, original_mnemonic=RHOB, data.shape=(12718,)),\n",
       " CurveItem(mnemonic=GR, unit=gAPI, value=, descr=Gamma-Ray, original_mnemonic=GR, data.shape=(12718,)),\n",
       " CurveItem(mnemonic=SP, unit=mV, value=, descr=SP, original_mnemonic=SP, data.shape=(12718,))]"
      ]
     },
     "execution_count": 9,
     "metadata": {},
     "output_type": "execute_result"
    }
   ],
   "source": [
    "l.curves"
   ]
  },
  {
   "cell_type": "code",
   "execution_count": 10,
   "metadata": {
    "collapsed": false
   },
   "outputs": [
    {
     "data": {
      "text/plain": [
       "['DEPT',\n",
       " 'CALI',\n",
       " 'HCAL',\n",
       " 'PEF',\n",
       " 'DT',\n",
       " 'DTS',\n",
       " 'DPHI_SAN',\n",
       " 'DPHI_LIM',\n",
       " 'DPHI_DOL',\n",
       " 'NPHI_SAN']"
      ]
     },
     "execution_count": 10,
     "metadata": {},
     "output_type": "execute_result"
    }
   ],
   "source": [
    "l.keys()[:10]"
   ]
  },
  {
   "cell_type": "code",
   "execution_count": 11,
   "metadata": {
    "collapsed": false
   },
   "outputs": [
    {
     "data": {
      "text/plain": [
       "array([ 1525.0668,  1525.2192,  1525.3716,  1525.524 ,  1525.6764,\n",
       "        1525.8288,  1525.9812,  1526.1336,  1526.286 ,  1526.4384,\n",
       "        1526.5908,  1526.7432,  1526.8956,  1527.048 ,  1527.2004,\n",
       "        1527.3528,  1527.5052,  1527.6576,  1527.81  ,  1527.9624,\n",
       "        1528.1148,  1528.2672,  1528.4196,  1528.572 ,  1528.7244,\n",
       "        1528.8768,  1529.0292,  1529.1816,  1529.334 ,  1529.4864,\n",
       "        1529.6388,  1529.7912,  1529.9436,  1530.096 ,  1530.2484,\n",
       "        1530.4008,  1530.5532,  1530.7056,  1530.858 ,  1531.0104,\n",
       "        1531.1628,  1531.3152,  1531.4676,  1531.62  ,  1531.7724,\n",
       "        1531.9248,  1532.0772,  1532.2296,  1532.382 ,  1532.5344])"
      ]
     },
     "execution_count": 11,
     "metadata": {},
     "output_type": "execute_result"
    }
   ],
   "source": [
    "l['DEPT'][10000:10050]"
   ]
  },
  {
   "cell_type": "code",
   "execution_count": 12,
   "metadata": {
    "collapsed": false
   },
   "outputs": [
    {
     "data": {
      "text/plain": [
       "array([ 60.91022492,  60.94638062,  60.94638062,  59.49991608,\n",
       "        59.92285156,  60.3734436 ,  59.24057007,  56.79410553,\n",
       "        54.38121414,  54.54032516,  53.37673569,  54.85882568,\n",
       "        57.16811371,  59.03767395,  59.06389999,  57.96990967,\n",
       "        58.18227386,  58.43130875,  59.0648613 ,  58.64612579,\n",
       "        59.85111999,  59.38244247,  59.66381073,  59.33558273,\n",
       "        59.87338638,  60.34424972,  59.96819687,  59.3461647 ,\n",
       "        60.07142639,  60.27151871,  61.68083954,  61.68896103,\n",
       "        62.49456787,  61.79069138,  61.30258179,  60.21380615,\n",
       "        60.4261322 ,  60.36045456,  60.10358048,  59.8057251 ,\n",
       "        58.7135582 ,  57.55845261,  56.6594162 ,  56.65420532,\n",
       "        56.65420532,  57.06557083,  56.63895798,  57.47354126,\n",
       "        57.76369476,  58.01359177])"
      ]
     },
     "execution_count": 12,
     "metadata": {},
     "output_type": "execute_result"
    }
   ],
   "source": [
    "l['DT'][10000:10050]"
   ]
  },
  {
   "cell_type": "code",
   "execution_count": 13,
   "metadata": {
    "collapsed": false
   },
   "outputs": [
    {
     "data": {
      "text/plain": [
       "array([[  1.06680000e+00,   2.44381547e+00,   4.39128494e+00, ...,\n",
       "          2.39014983e+00,   4.66986504e+01,   1.20125000e+02],\n",
       "       [  1.21920000e+00,   2.44381547e+00,   4.39128494e+00, ...,\n",
       "          2.39014983e+00,   4.66986504e+01,   1.20125000e+02],\n",
       "       [  1.37160000e+00,   2.44381547e+00,   4.39128494e+00, ...,\n",
       "          2.39014983e+00,   4.66986504e+01,   1.20125000e+02],\n",
       "       ..., \n",
       "       [  1.93883280e+03,   2.42026806e+00,              nan, ...,\n",
       "                     nan,   9.22462235e+01,   7.30000000e+01],\n",
       "       [  1.93898520e+03,   2.42026806e+00,              nan, ...,\n",
       "                     nan,   9.22462235e+01,   7.39375000e+01],\n",
       "       [  1.93913760e+03,   2.42026806e+00,              nan, ...,\n",
       "                     nan,   9.22462235e+01,   7.42500000e+01]])"
      ]
     },
     "execution_count": 13,
     "metadata": {},
     "output_type": "execute_result"
    }
   ],
   "source": [
    "l.data"
   ]
  },
  {
   "cell_type": "code",
   "execution_count": 14,
   "metadata": {
    "collapsed": false
   },
   "outputs": [
    {
     "data": {
      "text/plain": [
       "(12718, 25)"
      ]
     },
     "execution_count": 14,
     "metadata": {},
     "output_type": "execute_result"
    }
   ],
   "source": [
    "l.data.shape"
   ]
  },
  {
   "cell_type": "code",
   "execution_count": 15,
   "metadata": {
    "collapsed": false
   },
   "outputs": [
    {
     "name": "stdout",
     "output_type": "stream",
     "text": [
      "# LAS format log file from PETREL\n",
      "# Project units are specified as depth units\n",
      "#==================================================================\n",
      "~Version information\n",
      "VERS.   2.0:\n",
      "WRAP.   YES:\n",
      "#==================================================================\n",
      "~WELL INFORMATION\n",
      "#MNEM.UNIT      DATA             DESCRIPTION\n",
      "#---- ------ --------------   -----------------------------\n",
      "STRT .M      1.0668          :START DEPTH     \n",
      "STOP .M      1939.13760      :STOP DEPTH     \n",
      "STEP .M       0.15240        :STEP        \n",
      "NULL .          -999.25      :NULL VALUE\n",
      "COMP .        Elmworth Energy Corporation              :COMPANY\n",
      "WELL .        Kennetcook #2                            :WELL\n",
      "FLD  .        Windsor Block                            :FIELD\n",
      "LOC  .        Lat = 45* 12' 34.237\" N                  :LOCATION\n",
      "PROV .        Nova Scotia                              :PROVINCE\n",
      "  UWI.        Long = 63* 45'24.460  W                  :UNIQUE WELL ID\n",
      "LIC  .        P-129                                    :LICENSE NUMBER\n",
      "CTRY .        CA                                       :COUNTRY (WWW code)\n",
      " DATE.        10-Oct-2007                              :LOG DATE {DD-MMM-YYYY}\n",
      "SRVC .        Schlumberger                             :SERVICE COMPANY\n",
      "LATI .DEG                                              :LATITUDE\n",
      "LONG .DEG                                              :LONGITUDE\n",
      "GDAT .                                                 :GeoDetic Datum\n",
      "SECT .        45.20 Deg N                              :Section\n",
      "RANG .        PD 176                                   :Range\n",
      "TOWN .        63.75 Deg W                              :Township\n",
      "#==================================================================\n",
      "~PARAMETER INFORMATION\n",
      "#MNEM.UNIT    VALUE                      DESCRIPTION\n",
      "#---- -----   --------------------       ------------------------\n",
      "DREF .        KELLY BUSHING              :Drilling Measured From\n",
      "RUN  .        1                          :Run Number\n",
      "CSGD .M        280.00000                 :Casing Bottom of Driller\n",
      "CSGL .M        280.00000                 :Casing Bottom of Logger\n",
      "CSGS .MM       244.50000                 :Current Casing Size\n",
      "CSGW .KG/M      53.57000                 :Casing Weight\n",
      "MUDD .K/M3    1110.00000                 :Drilling Fluid Density\n",
      "   FL.C3         7.50000                 :DRILLING FLUID LOSS\n",
      "PH   .          10.50000                 :Drilling Fluid PH\n",
      "MUD  .        Gel-Chem                   :Drilling Fluid Type\n",
      "MUDV .S         73.00000                 :Drilling Fluid Viscosity\n",
      "GL   .M         90.30000                 :Elevation of Ground Level\n",
      "EREF .M         94.80000                 :Elevation of Kelly Bushing\n",
      "ENG  .        L. Conway / J. Easton      :Engineer's Name\n",
      "EREF .        KELLY BUSHING              :Log Measured From\n",
      "BASE .        Dartmouth                  :Logging Unit Location\n",
      "FACT .        11864196                   :Service Order Number\n",
      "LIC  .                                   :API Serial Number\n",
      "PROV .        Nova Scot\n"
     ]
    }
   ],
   "source": [
    "print(l._text[:3000])"
   ]
  },
  {
   "cell_type": "code",
   "execution_count": 16,
   "metadata": {
    "collapsed": false
   },
   "outputs": [
    {
     "data": {
      "text/plain": [
       "HeaderItem(mnemonic=STRT, unit=M, value=1.0668, descr=START DEPTH, original_mnemonic=STRT)"
      ]
     },
     "execution_count": 16,
     "metadata": {},
     "output_type": "execute_result"
    }
   ],
   "source": [
    "l.well['STRT']"
   ]
  },
  {
   "cell_type": "code",
   "execution_count": 17,
   "metadata": {
    "collapsed": false
   },
   "outputs": [
    {
     "data": {
      "text/plain": [
       "[HeaderItem(mnemonic=DREF, unit=, value=KELLY BUSHING, descr=Drilling Measured From, original_mnemonic=DREF),\n",
       " HeaderItem(mnemonic=RUN, unit=, value=1, descr=Run Number, original_mnemonic=RUN),\n",
       " HeaderItem(mnemonic=CSGD, unit=M, value=280.0, descr=Casing Bottom of Driller, original_mnemonic=CSGD),\n",
       " HeaderItem(mnemonic=CSGL, unit=M, value=280.0, descr=Casing Bottom of Logger, original_mnemonic=CSGL),\n",
       " HeaderItem(mnemonic=CSGS, unit=MM, value=244.5, descr=Current Casing Size, original_mnemonic=CSGS),\n",
       " HeaderItem(mnemonic=CSGW, unit=KG/M, value=53.57, descr=Casing Weight, original_mnemonic=CSGW),\n",
       " HeaderItem(mnemonic=MUDD, unit=K/M3, value=1110.0, descr=Drilling Fluid Density, original_mnemonic=MUDD),\n",
       " HeaderItem(mnemonic=FL, unit=C3, value=7.5, descr=DRILLING FLUID LOSS, original_mnemonic=FL),\n",
       " HeaderItem(mnemonic=PH, unit=, value=10.5, descr=Drilling Fluid PH, original_mnemonic=PH),\n",
       " HeaderItem(mnemonic=MUD, unit=, value=Gel-Chem, descr=Drilling Fluid Type, original_mnemonic=MUD),\n",
       " HeaderItem(mnemonic=MUDV, unit=S, value=73.0, descr=Drilling Fluid Viscosity, original_mnemonic=MUDV),\n",
       " HeaderItem(mnemonic=GL, unit=M, value=90.3, descr=Elevation of Ground Level, original_mnemonic=GL),\n",
       " HeaderItem(mnemonic=EREF:1, unit=M, value=94.8, descr=Elevation of Kelly Bushing, original_mnemonic=EREF),\n",
       " HeaderItem(mnemonic=ENG, unit=, value=L. Conway / J. Easton, descr=Engineer's Name, original_mnemonic=ENG),\n",
       " HeaderItem(mnemonic=EREF:2, unit=, value=KELLY BUSHING, descr=Log Measured From, original_mnemonic=EREF),\n",
       " HeaderItem(mnemonic=BASE, unit=, value=Dartmouth, descr=Logging Unit Location, original_mnemonic=BASE),\n",
       " HeaderItem(mnemonic=FACT, unit=, value=11864196, descr=Service Order Number, original_mnemonic=FACT),\n",
       " HeaderItem(mnemonic=LIC, unit=, value=, descr=API Serial Number, original_mnemonic=LIC),\n",
       " HeaderItem(mnemonic=PROV, unit=, value=Nova Scotia, descr=County or Rig Name, original_mnemonic=PROV),\n",
       " HeaderItem(mnemonic=UNIT, unit=, value=162, descr=Logging Unit Number, original_mnemonic=UNIT),\n",
       " HeaderItem(mnemonic=RMCT, unit=DEGC, value=19.4, descr=Mud Cake Sample Temperature, original_mnemonic=RMCT),\n",
       " HeaderItem(mnemonic=RMFT, unit=DEGC, value=16.9, descr=Mud Filtrate Sample Temperature, original_mnemonic=RMFT),\n",
       " HeaderItem(mnemonic=TMAX, unit=DEGC, value=42.0, descr=Maximum Recorded Temperature, original_mnemonic=TMAX),\n",
       " HeaderItem(mnemonic=MUDS, unit=, value=Mud Pit, descr=Mud Sample Source, original_mnemonic=MUDS),\n",
       " HeaderItem(mnemonic=RMT, unit=DEGC, value=18.0, descr=Mud Sample Temperature, original_mnemonic=RMT),\n",
       " HeaderItem(mnemonic=RANGE, unit=, value=PD 176, descr=Range, original_mnemonic=RANGE),\n",
       " HeaderItem(mnemonic=RMC, unit=OHMM, value=0.234, descr=Resistivity of Mud Cake Sample, original_mnemonic=RMC),\n",
       " HeaderItem(mnemonic=RMF, unit=OHMM, value=0.1574, descr=Resistivity of Mud Filtrate Sample, original_mnemonic=RMF),\n",
       " HeaderItem(mnemonic=RM, unit=OHMM, value=0.1637, descr=Resistivity of Mud Sample, original_mnemonic=RM),\n",
       " HeaderItem(mnemonic=SECTION, unit=, value=45.20 Deg N, descr=Section, original_mnemonic=SECTION),\n",
       " HeaderItem(mnemonic=TIMC, unit=, value=18 01, descr=Time Circulation Stopped, original_mnemonic=TIMC),\n",
       " HeaderItem(mnemonic=TIML, unit=, value=1 35, descr=Time Logger At Bottom, original_mnemonic=TIML),\n",
       " HeaderItem(mnemonic=TOWNSHIP, unit=, value=63.75 Deg W, descr=Township, original_mnemonic=TOWNSHIP),\n",
       " HeaderItem(mnemonic=WIT, unit=, value=Edwin MacDonald, descr=Witness's Name, original_mnemonic=WIT),\n",
       " HeaderItem(mnemonic=APD, unit=M, value=4.5, descr=Above Permanent Datum, original_mnemonic=APD),\n",
       " HeaderItem(mnemonic=APIN, unit=, value=, descr=API Serial Number, original_mnemonic=APIN),\n",
       " HeaderItem(mnemonic=BHT, unit=DEGC, value=42.0, descr=Bottom Hole Temperature (used in calculations), original_mnemonic=BHT),\n",
       " HeaderItem(mnemonic=BLI, unit=M, value=1935.0, descr=Bottom Log Interval, original_mnemonic=BLI),\n",
       " HeaderItem(mnemonic=BS, unit=MM, value=200.0, descr=Bit Size, original_mnemonic=BS),\n",
       " HeaderItem(mnemonic=CN, unit=, value=Elmworth Energy Corporation, descr=Company Name, original_mnemonic=CN),\n",
       " HeaderItem(mnemonic=COUN, unit=, value=Nova Scotia, descr=County or Rig Name, original_mnemonic=COUN),\n",
       " HeaderItem(mnemonic=LDAT, unit=, value=10-Oct-2007, descr=Date as Month-Day-Year, original_mnemonic=LDAT),\n",
       " HeaderItem(mnemonic=DCS, unit=, value=10-Oct-2007, descr=Date Circulation Stopped, original_mnemonic=DCS),\n",
       " HeaderItem(mnemonic=DFL, unit=C3, value=7.5, descr=Drilling Fluid Loss, original_mnemonic=DFL),\n",
       " HeaderItem(mnemonic=DLAB, unit=, value=11-Oct-2007, descr=Date Logger At Bottom, original_mnemonic=DLAB),\n",
       " HeaderItem(mnemonic=DMF, unit=, value=KELLY BUSHING, descr=Drilling Measured From, original_mnemonic=DMF),\n",
       " HeaderItem(mnemonic=EDF, unit=M, value=94.5, descr=Elevation of Derrick Floor, original_mnemonic=EDF),\n",
       " HeaderItem(mnemonic=EGL, unit=M, value=90.3, descr=Elevation of Ground Level, original_mnemonic=EGL),\n",
       " HeaderItem(mnemonic=EKB, unit=M, value=94.8, descr=Elevation of Kelly Bushing, original_mnemonic=EKB),\n",
       " HeaderItem(mnemonic=FD, unit=K/M3, value=1000.0, descr=Fluid Density, original_mnemonic=FD),\n",
       " HeaderItem(mnemonic=FL1, unit=, value=Long = 63* 45'24.460  W, descr=Field Location Line 1, original_mnemonic=FL1),\n",
       " HeaderItem(mnemonic=FL2, unit=, value=, descr=Field Location Line 2, original_mnemonic=FL2),\n",
       " HeaderItem(mnemonic=FN, unit=, value=Windsor Block, descr=Field Name, original_mnemonic=FN),\n",
       " HeaderItem(mnemonic=HID1, unit=, value=Litho-Density / Neutron Porosity, descr=Header Identifier Line 1, original_mnemonic=HID1),\n",
       " HeaderItem(mnemonic=HID2, unit=, value=, descr=Header Identifier Line 2, original_mnemonic=HID2),\n",
       " HeaderItem(mnemonic=HIDE, unit=, value=Platform Express - Dual Density, descr=Header Identifier, original_mnemonic=HIDE),\n",
       " HeaderItem(mnemonic=LATI, unit=, value=, descr=Latitude, original_mnemonic=LATI),\n",
       " HeaderItem(mnemonic=LMF, unit=, value=KELLY BUSHING, descr=Log Measured From, original_mnemonic=LMF),\n",
       " HeaderItem(mnemonic=LONG, unit=, value=, descr=Longitude, original_mnemonic=LONG),\n",
       " HeaderItem(mnemonic=MATR, unit=, value=SAND, descr=Rock Matrix for Neutron Porosity Corrections, original_mnemonic=MATR),\n",
       " HeaderItem(mnemonic=MCSS, unit=, value=Mud Press, descr=Mud Cake Sample Source, original_mnemonic=MCSS),\n",
       " HeaderItem(mnemonic=MDEN, unit=K/M3, value=2650.0, descr=Matrix Density, original_mnemonic=MDEN),\n",
       " HeaderItem(mnemonic=MRT1, unit=DEGC, value=42.0, descr=Maximum Recorded Temperature 1, original_mnemonic=MRT1),\n",
       " HeaderItem(mnemonic=MRT2, unit=, value=, descr=Maximum Recorded Temperature 2, original_mnemonic=MRT2),\n",
       " HeaderItem(mnemonic=NMT, unit=, value=NOBARITE, descr=HILT Nuclear Mud Type, original_mnemonic=NMT),\n",
       " HeaderItem(mnemonic=OS1, unit=, value=HRLA, descr=Other Services Line 1, original_mnemonic=OS1),\n",
       " HeaderItem(mnemonic=OS2, unit=, value=ECS, descr=Other Services Line 2, original_mnemonic=OS2),\n",
       " HeaderItem(mnemonic=OS3, unit=, value=FMI, descr=Other Services Line 3, original_mnemonic=OS3),\n",
       " HeaderItem(mnemonic=OS4, unit=, value=DSI, descr=Other Services Line 4, original_mnemonic=OS4),\n",
       " HeaderItem(mnemonic=OS5, unit=, value=, descr=Other Services Line 5, original_mnemonic=OS5),\n",
       " HeaderItem(mnemonic=PDAT, unit=, value=GROUND LEVEL, descr=Permanent Datum, original_mnemonic=PDAT),\n",
       " HeaderItem(mnemonic=R1, unit=, value=Toolstring run as per toolsketch, descr=Remark Line 1, original_mnemonic=R1),\n",
       " HeaderItem(mnemonic=R2, unit=, value=Primary matrix for logs is sandstone (2650 kg/m3  DTM = 183 us/m), descr=Remark Line 2, original_mnemonic=R2),\n",
       " HeaderItem(mnemonic=R3, unit=, value=HRLA run with 38.1 mm standoffs, descr=Remark Line 3, original_mnemonic=R3),\n",
       " HeaderItem(mnemonic=R4, unit=, value=All logs run from TD to Casing, descr=Remark Line 4, original_mnemonic=R4),\n",
       " HeaderItem(mnemonic=R5, unit=, value=Pulled tight at 1913 m - closed and reopened calipers, descr=Remark Line 5, original_mnemonic=R5),\n",
       " HeaderItem(mnemonic=R6, unit=, value=GR and Neutron run from Casing to Surface, descr=Remark Line 6, original_mnemonic=R6),\n",
       " HeaderItem(mnemonic=R7, unit=, value=Dual Litho-density log in X and Y axis, descr=Remark Line 7, original_mnemonic=R7),\n",
       " HeaderItem(mnemonic=R8, unit=, value=-, descr=Remark Line 8, original_mnemonic=R8),\n",
       " HeaderItem(mnemonic=R9, unit=, value=-, descr=Remark Line 9, original_mnemonic=R9),\n",
       " HeaderItem(mnemonic=R10, unit=, value=-, descr=Remark Line 10, original_mnemonic=R10),\n",
       " HeaderItem(mnemonic=R11, unit=, value=-, descr=Remark Line 11, original_mnemonic=R11),\n",
       " HeaderItem(mnemonic=R12, unit=, value=-, descr=Remark Line 12, original_mnemonic=R12),\n",
       " HeaderItem(mnemonic=R13, unit=, value=-, descr=Remark Line 13, original_mnemonic=R13),\n",
       " HeaderItem(mnemonic=R14, unit=, value=-, descr=Remark Line 14, original_mnemonic=R14),\n",
       " HeaderItem(mnemonic=RMB, unit=OHMM, value=0.10187, descr=Resistivity of Mud - BHT, original_mnemonic=RMB),\n",
       " HeaderItem(mnemonic=RMFB, unit=OHMM, value=0.09522, descr=Resistivity of Mud Filtrate - BHT, original_mnemonic=RMFB),\n",
       " HeaderItem(mnemonic=SON, unit=, value=11864196, descr=Service Order Number, original_mnemonic=SON),\n",
       " HeaderItem(mnemonic=TDD, unit=M, value=1935.0, descr=Total Depth - Driller, original_mnemonic=TDD),\n",
       " HeaderItem(mnemonic=TDL, unit=M, value=1935.0, descr=Total Depth - Logger, original_mnemonic=TDL),\n",
       " HeaderItem(mnemonic=TLI, unit=M, value=280.0, descr=Top Log Interval, original_mnemonic=TLI),\n",
       " HeaderItem(mnemonic=UWID, unit=, value=, descr=Unique Well Identification Number, original_mnemonic=UWID),\n",
       " HeaderItem(mnemonic=WN, unit=, value=Kennetcook #2, descr=Well Name, original_mnemonic=WN),\n",
       " HeaderItem(mnemonic=EPD, unit=M, value=90.300003, descr=Elevation of Permanent Datum above Mean Sea Level, original_mnemonic=EPD)]"
      ]
     },
     "execution_count": 17,
     "metadata": {},
     "output_type": "execute_result"
    }
   ],
   "source": [
    "l.params"
   ]
  },
  {
   "cell_type": "code",
   "execution_count": 21,
   "metadata": {
    "collapsed": false
   },
   "outputs": [
    {
     "data": {
      "text/plain": [
       "1"
      ]
     },
     "execution_count": 21,
     "metadata": {},
     "output_type": "execute_result"
    }
   ],
   "source": [
    "l.params['RUN'].value"
   ]
  },
  {
   "cell_type": "code",
   "execution_count": null,
   "metadata": {
    "collapsed": true
   },
   "outputs": [],
   "source": []
  }
 ],
 "metadata": {
  "kernelspec": {
   "display_name": "Python 3",
   "language": "python",
   "name": "python3"
  },
  "language_info": {
   "codemirror_mode": {
    "name": "ipython",
    "version": 3
   },
   "file_extension": ".py",
   "mimetype": "text/x-python",
   "name": "python",
   "nbconvert_exporter": "python",
   "pygments_lexer": "ipython3",
   "version": "3.4.3"
  }
 },
 "nbformat": 4,
 "nbformat_minor": 0
}
