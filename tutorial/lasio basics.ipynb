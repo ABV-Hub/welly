{
 "cells": [
  {
   "cell_type": "markdown",
   "metadata": {},
   "source": [
    "### There's nothing useful here, it's just a scratchpad"
   ]
  },
  {
   "cell_type": "code",
   "execution_count": 48,
   "metadata": {
    "collapsed": false
   },
   "outputs": [
    {
     "data": {
      "text/plain": [
       "'0.10'"
      ]
     },
     "execution_count": 48,
     "metadata": {},
     "output_type": "execute_result"
    }
   ],
   "source": [
    "import lasio\n",
    "lasio.__version__"
   ]
  },
  {
   "cell_type": "code",
   "execution_count": 49,
   "metadata": {
    "collapsed": true
   },
   "outputs": [],
   "source": [
    "l = lasio.read('P-129_out.LAS')"
   ]
  },
  {
   "cell_type": "code",
   "execution_count": 50,
   "metadata": {
    "collapsed": false
   },
   "outputs": [],
   "source": [
    "import os\n",
    "env = %env\n",
    "l = lasio.read(os.path.join(env['HOME'], 'Dropbox/Agile/Canstrat/Sample_LAS_from_Canstrat/EC00001_CS/EC00001_CS_main.LAS'))"
   ]
  },
  {
   "cell_type": "code",
   "execution_count": 51,
   "metadata": {
    "collapsed": false
   },
   "outputs": [
    {
     "data": {
      "text/plain": [
       "['DEPT',\n",
       " 'RT_ID',\n",
       " 'RT_IDPERC',\n",
       " 'RTC_CLAST_CG',\n",
       " 'RTC_CLAST_FG',\n",
       " 'RTC_EVAP',\n",
       " 'RTC_CARB',\n",
       " 'RTC_IGVOL',\n",
       " 'PORGRADE',\n",
       " 'PORTYPE_PRI',\n",
       " 'GRAINS_MM',\n",
       " 'FRAMEW_PER',\n",
       " 'DIAC_CEM',\n",
       " 'DIAC_FRAC',\n",
       " 'DIAC_POR',\n",
       " 'ROUND',\n",
       " 'SORT',\n",
       " 'OILSTN',\n",
       " 'OILDEAD',\n",
       " 'COLOUR',\n",
       " 'COLOURINT',\n",
       " 'IFFOSSIL',\n",
       " 'IFMINERAL']"
      ]
     },
     "execution_count": 51,
     "metadata": {},
     "output_type": "execute_result"
    }
   ],
   "source": [
    "l.keys()"
   ]
  },
  {
   "cell_type": "code",
   "execution_count": 52,
   "metadata": {
    "collapsed": false
   },
   "outputs": [
    {
     "data": {
      "text/plain": [
       "[CurveItem(mnemonic=DEPT, unit=M, value=, descr=001  Depth, original_mnemonic=DEPT, data.shape=(37187,)),\n",
       " CurveItem(mnemonic=RT_ID, unit=I, value=, descr=002  Rock type ID (integer 1 to 22), original_mnemonic=RT_ID, data.shape=(37187,)),\n",
       " CurveItem(mnemonic=RT_IDPERC, unit=P, value=, descr=003  Rock type % (integer 0 to 100), original_mnemonic=RT_IDPERC, data.shape=(37187,)),\n",
       " CurveItem(mnemonic=RTC_CLAST_CG, unit=P, value=, descr=004  Rock type clastic - coarse gr % (integer 0 to 100), original_mnemonic=RTC_CLAST_CG, data.shape=(37187,)),\n",
       " CurveItem(mnemonic=RTC_CLAST_FG, unit=P, value=, descr=005  Rock type clastic - fine gr % (integer 0 to 100), original_mnemonic=RTC_CLAST_FG, data.shape=(37187,)),\n",
       " CurveItem(mnemonic=RTC_EVAP, unit=P, value=, descr=006  Rock type evaporite - % (integer 0 to 100), original_mnemonic=RTC_EVAP, data.shape=(37187,)),\n",
       " CurveItem(mnemonic=RTC_CARB, unit=P, value=, descr=007  Rock type carbonates - % (integer 0 to 100), original_mnemonic=RTC_CARB, data.shape=(37187,)),\n",
       " CurveItem(mnemonic=RTC_IGVOL, unit=P, value=, descr=008  Rock type (ign-met-vol) - % (integer 0 to 100), original_mnemonic=RTC_IGVOL, data.shape=(37187,)),\n",
       " CurveItem(mnemonic=PORGRADE, unit=P, value=, descr=009  Porosity grade - % (integer 0 to 40), original_mnemonic=PORGRADE, data.shape=(37187,)),\n",
       " CurveItem(mnemonic=PORTYPE_PRI, unit=P, value=, descr=010  Porosity type ID - primary (integer 0 to 9), original_mnemonic=PORTYPE_PRI, data.shape=(37187,)),\n",
       " CurveItem(mnemonic=GRAINS_MM, unit=MM, value=, descr=011  Grain size (mm), original_mnemonic=GRAINS_MM, data.shape=(37187,)),\n",
       " CurveItem(mnemonic=FRAMEW_PER, unit=P, value=, descr=012  Framework - % (integer -1 to 100), original_mnemonic=FRAMEW_PER, data.shape=(37187,)),\n",
       " CurveItem(mnemonic=DIAC_CEM, unit=P, value=, descr=013  Diagenesis cements composite - % (integer 0 to 100), original_mnemonic=DIAC_CEM, data.shape=(37187,)),\n",
       " CurveItem(mnemonic=DIAC_FRAC, unit=P, value=, descr=014  Diagenesis fracture composite - % (integer 0 to 100), original_mnemonic=DIAC_FRAC, data.shape=(37187,)),\n",
       " CurveItem(mnemonic=DIAC_POR, unit=P, value=, descr=015  Diagenesis porosity composite - % (integer 0 to 100), original_mnemonic=DIAC_POR, data.shape=(37187,)),\n",
       " CurveItem(mnemonic=ROUND, unit=I, value=, descr=016  Rounding (integer 0 to 4), original_mnemonic=ROUND, data.shape=(37187,)),\n",
       " CurveItem(mnemonic=SORT, unit=I, value=, descr=017  Sorting (integer 0 to 3), original_mnemonic=SORT, data.shape=(37187,)),\n",
       " CurveItem(mnemonic=OILSTN, unit=I, value=, descr=018  Oil staining (integer 0 to 4), original_mnemonic=OILSTN, data.shape=(37187,)),\n",
       " CurveItem(mnemonic=OILDEAD, unit=I, value=, descr=019  Dead oil (integer 0 or 2), original_mnemonic=OILDEAD, data.shape=(37187,)),\n",
       " CurveItem(mnemonic=COLOUR, unit=I, value=, descr=020  Colour ID (integer 0 to 14), original_mnemonic=COLOUR, data.shape=(37187,)),\n",
       " CurveItem(mnemonic=COLOURINT, unit=I, value=, descr=021  Colour intensity (integer 0 to 9), original_mnemonic=COLOURINT, data.shape=(37187,)),\n",
       " CurveItem(mnemonic=IFFOSSIL, unit=I, value=, descr=022  Fossil occur (integer 0 to 3), original_mnemonic=IFFOSSIL, data.shape=(37187,)),\n",
       " CurveItem(mnemonic=IFMINERAL, unit=I, value=, descr=023  Mineral occur (integer 0 to 8), original_mnemonic=IFMINERAL, data.shape=(37187,))]"
      ]
     },
     "execution_count": 52,
     "metadata": {},
     "output_type": "execute_result"
    }
   ],
   "source": [
    "l.curves"
   ]
  },
  {
   "cell_type": "code",
   "execution_count": 53,
   "metadata": {
    "collapsed": false
   },
   "outputs": [
    {
     "data": {
      "text/plain": [
       "['DEPT',\n",
       " 'RT_ID',\n",
       " 'RT_IDPERC',\n",
       " 'RTC_CLAST_CG',\n",
       " 'RTC_CLAST_FG',\n",
       " 'RTC_EVAP',\n",
       " 'RTC_CARB',\n",
       " 'RTC_IGVOL',\n",
       " 'PORGRADE',\n",
       " 'PORTYPE_PRI',\n",
       " 'GRAINS_MM',\n",
       " 'FRAMEW_PER',\n",
       " 'DIAC_CEM',\n",
       " 'DIAC_FRAC',\n",
       " 'DIAC_POR',\n",
       " 'ROUND',\n",
       " 'SORT',\n",
       " 'OILSTN',\n",
       " 'OILDEAD',\n",
       " 'COLOUR',\n",
       " 'COLOURINT',\n",
       " 'IFFOSSIL',\n",
       " 'IFMINERAL']"
      ]
     },
     "execution_count": 53,
     "metadata": {},
     "output_type": "execute_result"
    }
   ],
   "source": [
    "[c.mnemonic for c in l.curves]"
   ]
  },
  {
   "cell_type": "code",
   "execution_count": 54,
   "metadata": {
    "collapsed": false
   },
   "outputs": [
    {
     "data": {
      "text/plain": [
       "['DEPT',\n",
       " 'RT_ID',\n",
       " 'RT_IDPERC',\n",
       " 'RTC_CLAST_CG',\n",
       " 'RTC_CLAST_FG',\n",
       " 'RTC_EVAP',\n",
       " 'RTC_CARB',\n",
       " 'RTC_IGVOL',\n",
       " 'PORGRADE',\n",
       " 'PORTYPE_PRI']"
      ]
     },
     "execution_count": 54,
     "metadata": {},
     "output_type": "execute_result"
    }
   ],
   "source": [
    "l.keys()[:10]"
   ]
  },
  {
   "cell_type": "code",
   "execution_count": 55,
   "metadata": {
    "collapsed": false
   },
   "outputs": [
    {
     "data": {
      "text/plain": [
       "array([ 1269.7,  1269.8,  1269.9,  1270. ,  1270.1,  1270.2,  1270.3,\n",
       "        1270.4,  1270.5,  1270.6,  1270.7,  1270.8,  1270.9,  1271. ,\n",
       "        1271.1,  1271.2,  1271.3,  1271.4,  1271.5,  1271.6,  1271.7,\n",
       "        1271.8,  1271.9,  1272. ,  1272.1,  1272.2,  1272.3,  1272.4,\n",
       "        1272.5,  1272.6,  1272.7,  1272.8,  1272.9,  1273. ,  1273.1,\n",
       "        1273.2,  1273.3,  1273.4,  1273.5,  1273.6,  1273.7,  1273.8,\n",
       "        1273.9,  1274. ,  1274.1,  1274.2,  1274.3,  1274.4,  1274.5,\n",
       "        1274.6])"
      ]
     },
     "execution_count": 55,
     "metadata": {},
     "output_type": "execute_result"
    }
   ],
   "source": [
    "l['DEPT'][10000:10050]"
   ]
  },
  {
   "cell_type": "code",
   "execution_count": 28,
   "metadata": {
    "collapsed": false
   },
   "outputs": [
    {
     "data": {
      "text/plain": [
       "array([ 60.91022492,  60.94638062,  60.94638062,  59.49991608,\n",
       "        59.92285156,  60.3734436 ,  59.24057007,  56.79410553,\n",
       "        54.38121414,  54.54032516,  53.37673569,  54.85882568,\n",
       "        57.16811371,  59.03767395,  59.06389999,  57.96990967,\n",
       "        58.18227386,  58.43130875,  59.0648613 ,  58.64612579,\n",
       "        59.85111999,  59.38244247,  59.66381073,  59.33558273,\n",
       "        59.87338638,  60.34424972,  59.96819687,  59.3461647 ,\n",
       "        60.07142639,  60.27151871,  61.68083954,  61.68896103,\n",
       "        62.49456787,  61.79069138,  61.30258179,  60.21380615,\n",
       "        60.4261322 ,  60.36045456,  60.10358048,  59.8057251 ,\n",
       "        58.7135582 ,  57.55845261,  56.6594162 ,  56.65420532,\n",
       "        56.65420532,  57.06557083,  56.63895798,  57.47354126,\n",
       "        57.76369476,  58.01359177])"
      ]
     },
     "execution_count": 28,
     "metadata": {},
     "output_type": "execute_result"
    }
   ],
   "source": [
    "l['DT'][10000:10050]"
   ]
  },
  {
   "cell_type": "code",
   "execution_count": 29,
   "metadata": {
    "collapsed": false
   },
   "outputs": [
    {
     "data": {
      "text/plain": [
       "array([[  1.06680000e+00,   2.44381547e+00,   4.39128494e+00, ...,\n",
       "          2.39014983e+00,   4.66986504e+01,   1.20125000e+02],\n",
       "       [  1.21920000e+00,   2.44381547e+00,   4.39128494e+00, ...,\n",
       "          2.39014983e+00,   4.66986504e+01,   1.20125000e+02],\n",
       "       [  1.37160000e+00,   2.44381547e+00,   4.39128494e+00, ...,\n",
       "          2.39014983e+00,   4.66986504e+01,   1.20125000e+02],\n",
       "       ..., \n",
       "       [  1.93883280e+03,   2.42026806e+00,              nan, ...,\n",
       "                     nan,   9.22462235e+01,   7.30000000e+01],\n",
       "       [  1.93898520e+03,   2.42026806e+00,              nan, ...,\n",
       "                     nan,   9.22462235e+01,   7.39375000e+01],\n",
       "       [  1.93913760e+03,   2.42026806e+00,              nan, ...,\n",
       "                     nan,   9.22462235e+01,   7.42500000e+01]])"
      ]
     },
     "execution_count": 29,
     "metadata": {},
     "output_type": "execute_result"
    }
   ],
   "source": [
    "l.data"
   ]
  },
  {
   "cell_type": "code",
   "execution_count": 30,
   "metadata": {
    "collapsed": false
   },
   "outputs": [
    {
     "data": {
      "text/plain": [
       "(12718, 25)"
      ]
     },
     "execution_count": 30,
     "metadata": {},
     "output_type": "execute_result"
    }
   ],
   "source": [
    "l.data.shape"
   ]
  },
  {
   "cell_type": "code",
   "execution_count": 31,
   "metadata": {
    "collapsed": false
   },
   "outputs": [
    {
     "name": "stdout",
     "output_type": "stream",
     "text": [
      "# LAS format log file from PETREL\n",
      "# Project units are specified as depth units\n",
      "#==================================================================\n",
      "~Version information\n",
      "VERS.   2.0:\n",
      "WRAP.   YES:\n",
      "#==================================================================\n",
      "~WELL INFORMATION\n",
      "#MNEM.UNIT      DATA             DESCRIPTION\n",
      "#---- ------ --------------   -----------------------------\n",
      "STRT .M      1.0668          :START DEPTH     \n",
      "STOP .M      1939.13760      :STOP DEPTH     \n",
      "STEP .M       0.15240        :STEP        \n",
      "NULL .          -999.25      :NULL VALUE\n",
      "COMP .        Elmworth Energy Corporation              :COMPANY\n",
      "WELL .        Kennetcook #2                            :WELL\n",
      "FLD  .        Windsor Block                            :FIELD\n",
      "LOC  .        Lat = 45* 12' 34.237\" N                  :LOCATION\n",
      "PROV .        Nova Scotia                              :PROVINCE\n",
      "  UWI.        Long = 63* 45'24.460  W                  :UNIQUE WELL ID\n",
      "LIC  .        P-129                                    :LICENSE NUMBER\n",
      "CTRY .        CA                                       :COUNTRY (WWW code)\n",
      " DATE.        10-Oct-2007                              :LOG DATE {DD-MMM-YYYY}\n",
      "SRVC .        Schlumberger                             :SERVICE COMPANY\n",
      "LATI .DEG                                              :LATITUDE\n",
      "LONG .DEG                                              :LONGITUDE\n",
      "GDAT .                                                 :GeoDetic Datum\n",
      "SECT .        45.20 Deg N                              :Section\n",
      "RANG .        PD 176                                   :Range\n",
      "TOWN .        63.75 Deg W                              :Township\n",
      "#==================================================================\n",
      "~PARAMETER INFORMATION\n",
      "#MNEM.UNIT    VALUE                      DESCRIPTION\n",
      "#---- -----   --------------------       ------------------------\n",
      "DREF .        KELLY BUSHING              :Drilling Measured From\n",
      "RUN  .        1                          :Run Number\n",
      "CSGD .M        280.00000                 :Casing Bottom of Driller\n",
      "CSGL .M        280.00000                 :Casing Bottom of Logger\n",
      "CSGS .MM       244.50000                 :Current Casing Size\n",
      "CSGW .KG/M      53.57000                 :Casing Weight\n",
      "MUDD .K/M3    1110.00000                 :Drilling Fluid Density\n",
      "   FL.C3         7.50000                 :DRILLING FLUID LOSS\n",
      "PH   .          10.50000                 :Drilling Fluid PH\n",
      "MUD  .        Gel-Chem                   :Drilling Fluid Type\n",
      "MUDV .S         73.00000                 :Drilling Fluid Viscosity\n",
      "GL   .M         90.30000                 :Elevation of Ground Level\n",
      "EREF .M         94.80000                 :Elevation of Kelly Bushing\n",
      "ENG  .        L. Conway / J. Easton      :Engineer's Name\n",
      "EREF .        KELLY BUSHING              :Log Measured From\n",
      "BASE .        Dartmouth                  :Logging Unit Location\n",
      "FACT .        11864196                   :Service Order Number\n",
      "LIC  .                                   :API Serial Number\n",
      "PROV .        Nova Scot\n"
     ]
    }
   ],
   "source": [
    "print(l._text[:3000])"
   ]
  },
  {
   "cell_type": "code",
   "execution_count": 56,
   "metadata": {
    "collapsed": false
   },
   "outputs": [
    {
     "data": {
      "text/plain": [
       "HeaderItem(mnemonic=STRT, unit=M, value=269.7, descr=START DEPTH, original_mnemonic=STRT)"
      ]
     },
     "execution_count": 56,
     "metadata": {},
     "output_type": "execute_result"
    }
   ],
   "source": [
    "l.well['STRT']"
   ]
  },
  {
   "cell_type": "code",
   "execution_count": 83,
   "metadata": {
    "collapsed": false
   },
   "outputs": [
    {
     "data": {
      "text/plain": [
       "HeaderItem(mnemonic=STRT, unit=M, value=269.7, descr=START DEPTH, original_mnemonic=STRT)"
      ]
     },
     "execution_count": 83,
     "metadata": {},
     "output_type": "execute_result"
    }
   ],
   "source": [
    "l.well.STRT"
   ]
  },
  {
   "cell_type": "code",
   "execution_count": 84,
   "metadata": {
    "collapsed": false
   },
   "outputs": [
    {
     "ename": "AttributeError",
     "evalue": "'super' object has no attribute '__getattr__'",
     "output_type": "error",
     "traceback": [
      "\u001b[0;31m---------------------------------------------------------------------------\u001b[0m",
      "\u001b[0;31mAttributeError\u001b[0m                            Traceback (most recent call last)",
      "\u001b[0;32m<ipython-input-84-7a7009fdc540>\u001b[0m in \u001b[0;36m<module>\u001b[0;34m()\u001b[0m\n\u001b[0;32m----> 1\u001b[0;31m \u001b[0mrun\u001b[0m \u001b[0;34m=\u001b[0m \u001b[0ml\u001b[0m\u001b[0;34m.\u001b[0m\u001b[0mparams\u001b[0m\u001b[0;34m.\u001b[0m\u001b[0mRUN\u001b[0m\u001b[0;34m.\u001b[0m\u001b[0mvalue\u001b[0m\u001b[0;34m\u001b[0m\u001b[0m\n\u001b[0m",
      "\u001b[0;32m/Users/matt/anaconda/envs/python3/lib/python3.4/site-packages/lasio/las.py\u001b[0m in \u001b[0;36m__getattr__\u001b[0;34m(self, key)\u001b[0m\n\u001b[1;32m    216\u001b[0m \u001b[0;34m\u001b[0m\u001b[0m\n\u001b[1;32m    217\u001b[0m     \u001b[0;32mdef\u001b[0m \u001b[0mitervalues\u001b[0m\u001b[0;34m(\u001b[0m\u001b[0mself\u001b[0m\u001b[0;34m)\u001b[0m\u001b[0;34m:\u001b[0m\u001b[0;34m\u001b[0m\u001b[0m\n\u001b[0;32m--> 218\u001b[0;31m         \u001b[0;32mreturn\u001b[0m \u001b[0miter\u001b[0m\u001b[0;34m(\u001b[0m\u001b[0mlist\u001b[0m\u001b[0;34m(\u001b[0m\u001b[0mself\u001b[0m\u001b[0;34m.\u001b[0m\u001b[0mvalues\u001b[0m\u001b[0;34m(\u001b[0m\u001b[0;34m)\u001b[0m\u001b[0;34m)\u001b[0m\u001b[0;34m)\u001b[0m\u001b[0;34m\u001b[0m\u001b[0m\n\u001b[0m\u001b[1;32m    219\u001b[0m \u001b[0;34m\u001b[0m\u001b[0m\n\u001b[1;32m    220\u001b[0m     \u001b[0;32mdef\u001b[0m \u001b[0miteritems\u001b[0m\u001b[0;34m(\u001b[0m\u001b[0mself\u001b[0m\u001b[0;34m)\u001b[0m\u001b[0;34m:\u001b[0m\u001b[0;34m\u001b[0m\u001b[0m\n",
      "\u001b[0;31mAttributeError\u001b[0m: 'super' object has no attribute '__getattr__'"
     ]
    }
   ],
   "source": [
    "run = l.params.RUN.value"
   ]
  },
  {
   "cell_type": "code",
   "execution_count": 90,
   "metadata": {
    "collapsed": false
   },
   "outputs": [],
   "source": [
    "run = l.well['STRT']"
   ]
  },
  {
   "cell_type": "code",
   "execution_count": 101,
   "metadata": {
    "collapsed": false
   },
   "outputs": [],
   "source": [
    "def lasio_get(l, section, item=None, attrib=None, default=None):\n",
    "    try:\n",
    "        if item is None:\n",
    "            return getattr(l, section)\n",
    "        elif attrib is None:\n",
    "            return getattr(l, section)[item]\n",
    "        return getattr(l, section)[item][attrib]\n",
    "    except KeyError:\n",
    "        return default"
   ]
  },
  {
   "cell_type": "code",
   "execution_count": 102,
   "metadata": {
    "collapsed": false
   },
   "outputs": [],
   "source": [
    "run = lasio_get(l, 'well', 'STRT', 'value')"
   ]
  },
  {
   "cell_type": "code",
   "execution_count": 103,
   "metadata": {
    "collapsed": false
   },
   "outputs": [
    {
     "name": "stdout",
     "output_type": "stream",
     "text": [
      "269.7\n"
     ]
    }
   ],
   "source": [
    "print(run)"
   ]
  },
  {
   "cell_type": "code",
   "execution_count": 104,
   "metadata": {
    "collapsed": true
   },
   "outputs": [],
   "source": [
    "c = l.curves[3]"
   ]
  },
  {
   "cell_type": "code",
   "execution_count": 105,
   "metadata": {
    "collapsed": false
   },
   "outputs": [
    {
     "data": {
      "text/plain": [
       "'004  Rock type clastic - coarse gr % (integer 0 to 100)'"
      ]
     },
     "execution_count": 105,
     "metadata": {},
     "output_type": "execute_result"
    }
   ],
   "source": [
    "lasio_get(c, 'descr')"
   ]
  },
  {
   "cell_type": "code",
   "execution_count": 117,
   "metadata": {
    "collapsed": true
   },
   "outputs": [],
   "source": [
    "p = \"\"\"+a         Semimajor radius of the ellipsoid axis\n",
    "+alpha     ? Used with Oblique Mercator and possibly a few others\n",
    "+axis      Axis orientation (new in 4.8.0)\n",
    "+b         Semiminor radius of the ellipsoid axis\n",
    "+datum     Datum name (see `proj -ld`)\n",
    "+ellps     Ellipsoid name (see `proj -le`)\n",
    "+init      Initialize from a named CRS\n",
    "+k         Scaling factor (old name)\n",
    "+k_0       Scaling factor (new name)\n",
    "+lat_0     Latitude of origin\n",
    "+lat_1     Latitude of first standard parallel\n",
    "+lat_2     Latitude of second standard parallel\n",
    "+lat_ts    Latitude of true scale\n",
    "+lon_0     Central meridian\n",
    "+lonc      ? Longitude used with Oblique Mercator and possibly a few others\n",
    "+lon_wrap  Center longitude to use for wrapping (see below)\n",
    "+nadgrids  Filename of NTv2 grid file to use for datum transforms (see below)\n",
    "+no_defs   Don't use the /usr/share/proj/proj_def.dat defaults file\n",
    "+over      Allow longitude output outside -180 to 180 range, disables wrapping (see below)\n",
    "+pm        Alternate prime meridian (typically a city name, see below)\n",
    "+proj      Projection name (see `proj -l`)\n",
    "+south     Denotes southern hemisphere UTM zone\n",
    "+to_meter  Multiplier to convert map units to 1.0m\n",
    "+towgs84   3 or 7 term datum transform parameters (see below)\n",
    "+units     meters, US survey feet, etc.\n",
    "+vto_meter vertical conversion to meters.\n",
    "+vunits    vertical units.\n",
    "+x_0       False easting\n",
    "+y_0       False northing\n",
    "+zone      UTM zone\n",
    "+a         Semimajor radius of the ellipsoid axis\n",
    "+alpha     ? Used with Oblique Mercator and possibly a few others\n",
    "+azi\n",
    "+b         Semiminor radius of the ellipsoid axis\n",
    "+belgium\n",
    "+beta\n",
    "+czech\n",
    "+e         Eccentricity of the ellipsoid = sqrt(1 - b^2/a^2) = sqrt( f*(2-f) )\n",
    "+ellps     Ellipsoid name (see `proj -le`)\n",
    "+es        Eccentricity of the ellipsoid squared\n",
    "+f         Flattening of the ellipsoid (often presented as an inverse, e.g. 1/298)\n",
    "+gamma\n",
    "+geoc\n",
    "+guam\n",
    "+h\n",
    "+k         Scaling factor (old name)\n",
    "+K\n",
    "+k_0       Scaling factor (new name)\n",
    "+lat_0     Latitude of origin\n",
    "+lat_1     Latitude of first standard parallel\n",
    "+lat_2     Latitude of second standard parallel\n",
    "+lat_b\n",
    "+lat_t\n",
    "+lat_ts    Latitude of true scale\n",
    "+lon_0     Central meridian\n",
    "+lon_1\n",
    "+lon_2\n",
    "+lonc      ? Longitude used with Oblique Mercator and possibly a few others\n",
    "+lsat\n",
    "+m\n",
    "+M\n",
    "+n\n",
    "+no_cut\n",
    "+no_off\n",
    "+no_rot\n",
    "+ns\n",
    "+o_alpha\n",
    "+o_lat_1\n",
    "+o_lat_2\n",
    "+o_lat_c\n",
    "+o_lat_p\n",
    "+o_lon_1\n",
    "+o_lon_2\n",
    "+o_lon_c\n",
    "+o_lon_p\n",
    "+o_proj\n",
    "+over\n",
    "+p\n",
    "+path\n",
    "+proj      Projection name (see `proj -l`)\n",
    "+q\n",
    "+R\n",
    "+R_a\n",
    "+R_A       Compute radius such that the area of the sphere is the same as the area of the ellipsoid\n",
    "+rf        Reciprocal of the ellipsoid flattening term (e.g. 298)\n",
    "+R_g\n",
    "+R_h\n",
    "+R_lat_a\n",
    "+R_lat_g\n",
    "+rot\n",
    "+R_V\n",
    "+s\n",
    "+south     Denotes southern hemisphere UTM zone\n",
    "+sym\n",
    "+t\n",
    "+theta\n",
    "+tilt\n",
    "+to_meter  Multiplier to convert map units to 1.0m\n",
    "+units     meters, US survey feet, etc.\n",
    "+vopt\n",
    "+W\n",
    "+westo\n",
    "+x_0       False easting\n",
    "+y_0       False northing\n",
    "+zone      UTM zone\"\"\""
   ]
  },
  {
   "cell_type": "code",
   "execution_count": 119,
   "metadata": {
    "collapsed": true
   },
   "outputs": [],
   "source": [
    "s = '+south'"
   ]
  },
  {
   "cell_type": "code",
   "execution_count": 122,
   "metadata": {
    "collapsed": false
   },
   "outputs": [
    {
     "data": {
      "text/plain": [
       "[]"
      ]
     },
     "execution_count": 122,
     "metadata": {},
     "output_type": "execute_result"
    }
   ],
   "source": [
    "s.split()[1:]"
   ]
  },
  {
   "cell_type": "code",
   "execution_count": 125,
   "metadata": {
    "collapsed": false
   },
   "outputs": [
    {
     "data": {
      "text/plain": [
       "{'+K': '',\n",
       " '+M': '',\n",
       " '+R': '',\n",
       " '+R_A': 'Compute radius such that the area of the sphere is the same as the area of the ellipsoid',\n",
       " '+R_V': '',\n",
       " '+R_a': '',\n",
       " '+R_g': '',\n",
       " '+R_h': '',\n",
       " '+R_lat_a': '',\n",
       " '+R_lat_g': '',\n",
       " '+W': '',\n",
       " '+a': 'Semimajor radius of the ellipsoid axis',\n",
       " '+alpha': '? Used with Oblique Mercator and possibly a few others',\n",
       " '+axis': 'Axis orientation (new in 4.8.0)',\n",
       " '+azi': '',\n",
       " '+b': 'Semiminor radius of the ellipsoid axis',\n",
       " '+belgium': '',\n",
       " '+beta': '',\n",
       " '+czech': '',\n",
       " '+datum': 'Datum name (see `proj -ld`)',\n",
       " '+e': 'Eccentricity of the ellipsoid = sqrt(1 - b^2/a^2) = sqrt( f*(2-f) )',\n",
       " '+ellps': 'Ellipsoid name (see `proj -le`)',\n",
       " '+es': 'Eccentricity of the ellipsoid squared',\n",
       " '+f': 'Flattening of the ellipsoid (often presented as an inverse, e.g. 1/298)',\n",
       " '+gamma': '',\n",
       " '+geoc': '',\n",
       " '+guam': '',\n",
       " '+h': '',\n",
       " '+init': 'Initialize from a named CRS',\n",
       " '+k': 'Scaling factor (old name)',\n",
       " '+k_0': 'Scaling factor (new name)',\n",
       " '+lat_0': 'Latitude of origin',\n",
       " '+lat_1': 'Latitude of first standard parallel',\n",
       " '+lat_2': 'Latitude of second standard parallel',\n",
       " '+lat_b': '',\n",
       " '+lat_t': '',\n",
       " '+lat_ts': 'Latitude of true scale',\n",
       " '+lon_0': 'Central meridian',\n",
       " '+lon_1': '',\n",
       " '+lon_2': '',\n",
       " '+lon_wrap': 'Center longitude to use for wrapping (see below)',\n",
       " '+lonc': '? Longitude used with Oblique Mercator and possibly a few others',\n",
       " '+lsat': '',\n",
       " '+m': '',\n",
       " '+n': '',\n",
       " '+nadgrids': 'Filename of NTv2 grid file to use for datum transforms (see below)',\n",
       " '+no_cut': '',\n",
       " '+no_defs': \"Don't use the /usr/share/proj/proj_def.dat defaults file\",\n",
       " '+no_off': '',\n",
       " '+no_rot': '',\n",
       " '+ns': '',\n",
       " '+o_alpha': '',\n",
       " '+o_lat_1': '',\n",
       " '+o_lat_2': '',\n",
       " '+o_lat_c': '',\n",
       " '+o_lat_p': '',\n",
       " '+o_lon_1': '',\n",
       " '+o_lon_2': '',\n",
       " '+o_lon_c': '',\n",
       " '+o_lon_p': '',\n",
       " '+o_proj': '',\n",
       " '+over': '',\n",
       " '+p': '',\n",
       " '+path': '',\n",
       " '+pm': 'Alternate prime meridian (typically a city name, see below)',\n",
       " '+proj': 'Projection name (see `proj -l`)',\n",
       " '+q': '',\n",
       " '+rf': 'Reciprocal of the ellipsoid flattening term (e.g. 298)',\n",
       " '+rot': '',\n",
       " '+s': '',\n",
       " '+south': 'Denotes southern hemisphere UTM zone',\n",
       " '+sym': '',\n",
       " '+t': '',\n",
       " '+theta': '',\n",
       " '+tilt': '',\n",
       " '+to_meter': 'Multiplier to convert map units to 1.0m',\n",
       " '+towgs84': '3 or 7 term datum transform parameters (see below)',\n",
       " '+units': 'meters, US survey feet, etc.',\n",
       " '+vopt': '',\n",
       " '+vto_meter': 'vertical conversion to meters.',\n",
       " '+vunits': 'vertical units.',\n",
       " '+westo': '',\n",
       " '+x_0': 'False easting',\n",
       " '+y_0': 'False northing',\n",
       " '+zone': 'UTM zone'}"
      ]
     },
     "execution_count": 125,
     "metadata": {},
     "output_type": "execute_result"
    }
   ],
   "source": [
    "items = p.split(\"\\n\")\n",
    "params = {}\n",
    "for i in items:\n",
    "    k = i.split()[0]\n",
    "    v = ' '.join(i.split()[1:])\n",
    "    params[k] = v\n",
    "params"
   ]
  },
  {
   "cell_type": "code",
   "execution_count": null,
   "metadata": {
    "collapsed": true
   },
   "outputs": [],
   "source": []
  }
 ],
 "metadata": {
  "kernelspec": {
   "display_name": "Python 3",
   "language": "python",
   "name": "python3"
  },
  "language_info": {
   "codemirror_mode": {
    "name": "ipython",
    "version": 3
   },
   "file_extension": ".py",
   "mimetype": "text/x-python",
   "name": "python",
   "nbconvert_exporter": "python",
   "pygments_lexer": "ipython3",
   "version": "3.4.3"
  }
 },
 "nbformat": 4,
 "nbformat_minor": 0
}
