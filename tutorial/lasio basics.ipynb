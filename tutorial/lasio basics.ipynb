{
 "cells": [
  {
   "cell_type": "markdown",
   "metadata": {},
   "source": [
    "### There's nothing useful here, it's just a scratchpad"
   ]
  },
  {
   "cell_type": "code",
   "execution_count": 22,
   "metadata": {
    "collapsed": false
   },
   "outputs": [
    {
     "data": {
      "text/plain": [
       "'0.10'"
      ]
     },
     "execution_count": 22,
     "metadata": {},
     "output_type": "execute_result"
    }
   ],
   "source": [
    "import lasio\n",
    "lasio.__version__"
   ]
  },
  {
   "cell_type": "code",
   "execution_count": 23,
   "metadata": {
    "collapsed": true
   },
   "outputs": [],
   "source": [
    "l = lasio.read('P-129_out.LAS')"
   ]
  },
  {
   "cell_type": "code",
   "execution_count": 24,
   "metadata": {
    "collapsed": false
   },
   "outputs": [
    {
     "data": {
      "text/plain": [
       "['DEPT',\n",
       " 'CALI',\n",
       " 'HCAL',\n",
       " 'PEF',\n",
       " 'DT',\n",
       " 'DTS',\n",
       " 'DPHI_SAN',\n",
       " 'DPHI_LIM',\n",
       " 'DPHI_DOL',\n",
       " 'NPHI_SAN',\n",
       " 'NPHI_LIM',\n",
       " 'NPHI_DOL',\n",
       " 'RLA5',\n",
       " 'RLA3',\n",
       " 'RLA4',\n",
       " 'RLA1',\n",
       " 'RLA2',\n",
       " 'RXOZ',\n",
       " 'RXO_HRLT',\n",
       " 'RT_HRLT',\n",
       " 'RM_HRLT',\n",
       " 'DRHO',\n",
       " 'RHOB',\n",
       " 'GR',\n",
       " 'SP']"
      ]
     },
     "execution_count": 24,
     "metadata": {},
     "output_type": "execute_result"
    }
   ],
   "source": [
    "l.keys()"
   ]
  },
  {
   "cell_type": "code",
   "execution_count": 25,
   "metadata": {
    "collapsed": false
   },
   "outputs": [
    {
     "data": {
      "text/plain": [
       "[CurveItem(mnemonic=DEPT, unit=m, value=, descr=DEPTH, original_mnemonic=DEPT, data.shape=(12718,)),\n",
       " CurveItem(mnemonic=CALI, unit=in, value=, descr=Caliper, original_mnemonic=CALI, data.shape=(12718,)),\n",
       " CurveItem(mnemonic=HCAL, unit=in, value=, descr=HRCC Cal. Caliper, original_mnemonic=HCAL, data.shape=(12718,)),\n",
       " CurveItem(mnemonic=PEF, unit=, value=, descr=Photoelectric Factor, original_mnemonic=PEF, data.shape=(12718,)),\n",
       " CurveItem(mnemonic=DT, unit=us/ft, value=, descr=DT, original_mnemonic=DT, data.shape=(12718,)),\n",
       " CurveItem(mnemonic=DTS, unit=us/ft, value=, descr=DTS, original_mnemonic=DTS, data.shape=(12718,)),\n",
       " CurveItem(mnemonic=DPHI_SAN, unit=m3/m3, value=, descr=Density Porosity (matrix Sandstone), original_mnemonic=DPHI_SAN, data.shape=(12718,)),\n",
       " CurveItem(mnemonic=DPHI_LIM, unit=m3/m3, value=, descr=Density Porosity (matrix Limestone), original_mnemonic=DPHI_LIM, data.shape=(12718,)),\n",
       " CurveItem(mnemonic=DPHI_DOL, unit=m3/m3, value=, descr=Density Porosity (matrix Dolomite), original_mnemonic=DPHI_DOL, data.shape=(12718,)),\n",
       " CurveItem(mnemonic=NPHI_SAN, unit=m3/m3, value=, descr=Thermal Neutron Porosity (matrix Sandstone), original_mnemonic=NPHI_SAN, data.shape=(12718,)),\n",
       " CurveItem(mnemonic=NPHI_LIM, unit=m3/m3, value=, descr=Thermal Neutron Porosity (matrix Limestone), original_mnemonic=NPHI_LIM, data.shape=(12718,)),\n",
       " CurveItem(mnemonic=NPHI_DOL, unit=m3/m3, value=, descr=Thermal Neutron Porosity (matrix Dolomite), original_mnemonic=NPHI_DOL, data.shape=(12718,)),\n",
       " CurveItem(mnemonic=RLA5, unit=ohm.m, value=, descr=HRLT Borehole Corrected Resistivity 5, original_mnemonic=RLA5, data.shape=(12718,)),\n",
       " CurveItem(mnemonic=RLA3, unit=ohm.m, value=, descr=HRLT Borehole Corrected Resistivity 3, original_mnemonic=RLA3, data.shape=(12718,)),\n",
       " CurveItem(mnemonic=RLA4, unit=ohm.m, value=, descr=HRLT Borehole Corrected Resistivity 4, original_mnemonic=RLA4, data.shape=(12718,)),\n",
       " CurveItem(mnemonic=RLA1, unit=ohm.m, value=, descr=HRLT Borehole Corrected Resistivity 1, original_mnemonic=RLA1, data.shape=(12718,)),\n",
       " CurveItem(mnemonic=RLA2, unit=ohm.m, value=, descr=HRLT Borehole Corrected Resistivity 2, original_mnemonic=RLA2, data.shape=(12718,)),\n",
       " CurveItem(mnemonic=RXOZ, unit=ohm.m, value=, descr=MCFL Standard Resolution Invaded Zone Resistivity, original_mnemonic=RXOZ, data.shape=(12718,)),\n",
       " CurveItem(mnemonic=RXO_HRLT, unit=ohm.m, value=, descr=, original_mnemonic=RXO_HRLT, data.shape=(12718,)),\n",
       " CurveItem(mnemonic=RT_HRLT, unit=ohm.m, value=, descr=HRLT Computed True Resistivity, original_mnemonic=RT_HRLT, data.shape=(12718,)),\n",
       " CurveItem(mnemonic=RM_HRLT, unit=ohm.m, value=, descr=HRLT Mud Resistivity, original_mnemonic=RM_HRLT, data.shape=(12718,)),\n",
       " CurveItem(mnemonic=DRHO, unit=g/cm3, value=, descr=HRDD Density Correction, original_mnemonic=DRHO, data.shape=(12718,)),\n",
       " CurveItem(mnemonic=RHOB, unit=g/cm3, value=, descr=Bulk Density, original_mnemonic=RHOB, data.shape=(12718,)),\n",
       " CurveItem(mnemonic=GR, unit=gAPI, value=, descr=Gamma-Ray, original_mnemonic=GR, data.shape=(12718,)),\n",
       " CurveItem(mnemonic=SP, unit=mV, value=, descr=SP, original_mnemonic=SP, data.shape=(12718,))]"
      ]
     },
     "execution_count": 25,
     "metadata": {},
     "output_type": "execute_result"
    }
   ],
   "source": [
    "l.curves"
   ]
  },
  {
   "cell_type": "code",
   "execution_count": 26,
   "metadata": {
    "collapsed": false
   },
   "outputs": [
    {
     "data": {
      "text/plain": [
       "['DEPT',\n",
       " 'CALI',\n",
       " 'HCAL',\n",
       " 'PEF',\n",
       " 'DT',\n",
       " 'DTS',\n",
       " 'DPHI_SAN',\n",
       " 'DPHI_LIM',\n",
       " 'DPHI_DOL',\n",
       " 'NPHI_SAN']"
      ]
     },
     "execution_count": 26,
     "metadata": {},
     "output_type": "execute_result"
    }
   ],
   "source": [
    "l.keys()[:10]"
   ]
  },
  {
   "cell_type": "code",
   "execution_count": 27,
   "metadata": {
    "collapsed": false
   },
   "outputs": [
    {
     "data": {
      "text/plain": [
       "array([ 1525.0668,  1525.2192,  1525.3716,  1525.524 ,  1525.6764,\n",
       "        1525.8288,  1525.9812,  1526.1336,  1526.286 ,  1526.4384,\n",
       "        1526.5908,  1526.7432,  1526.8956,  1527.048 ,  1527.2004,\n",
       "        1527.3528,  1527.5052,  1527.6576,  1527.81  ,  1527.9624,\n",
       "        1528.1148,  1528.2672,  1528.4196,  1528.572 ,  1528.7244,\n",
       "        1528.8768,  1529.0292,  1529.1816,  1529.334 ,  1529.4864,\n",
       "        1529.6388,  1529.7912,  1529.9436,  1530.096 ,  1530.2484,\n",
       "        1530.4008,  1530.5532,  1530.7056,  1530.858 ,  1531.0104,\n",
       "        1531.1628,  1531.3152,  1531.4676,  1531.62  ,  1531.7724,\n",
       "        1531.9248,  1532.0772,  1532.2296,  1532.382 ,  1532.5344])"
      ]
     },
     "execution_count": 27,
     "metadata": {},
     "output_type": "execute_result"
    }
   ],
   "source": [
    "l['DEPT'][10000:10050]"
   ]
  },
  {
   "cell_type": "code",
   "execution_count": 28,
   "metadata": {
    "collapsed": false
   },
   "outputs": [
    {
     "data": {
      "text/plain": [
       "array([ 60.91022492,  60.94638062,  60.94638062,  59.49991608,\n",
       "        59.92285156,  60.3734436 ,  59.24057007,  56.79410553,\n",
       "        54.38121414,  54.54032516,  53.37673569,  54.85882568,\n",
       "        57.16811371,  59.03767395,  59.06389999,  57.96990967,\n",
       "        58.18227386,  58.43130875,  59.0648613 ,  58.64612579,\n",
       "        59.85111999,  59.38244247,  59.66381073,  59.33558273,\n",
       "        59.87338638,  60.34424972,  59.96819687,  59.3461647 ,\n",
       "        60.07142639,  60.27151871,  61.68083954,  61.68896103,\n",
       "        62.49456787,  61.79069138,  61.30258179,  60.21380615,\n",
       "        60.4261322 ,  60.36045456,  60.10358048,  59.8057251 ,\n",
       "        58.7135582 ,  57.55845261,  56.6594162 ,  56.65420532,\n",
       "        56.65420532,  57.06557083,  56.63895798,  57.47354126,\n",
       "        57.76369476,  58.01359177])"
      ]
     },
     "execution_count": 28,
     "metadata": {},
     "output_type": "execute_result"
    }
   ],
   "source": [
    "l['DT'][10000:10050]"
   ]
  },
  {
   "cell_type": "code",
   "execution_count": 29,
   "metadata": {
    "collapsed": false
   },
   "outputs": [
    {
     "data": {
      "text/plain": [
       "array([[  1.06680000e+00,   2.44381547e+00,   4.39128494e+00, ...,\n",
       "          2.39014983e+00,   4.66986504e+01,   1.20125000e+02],\n",
       "       [  1.21920000e+00,   2.44381547e+00,   4.39128494e+00, ...,\n",
       "          2.39014983e+00,   4.66986504e+01,   1.20125000e+02],\n",
       "       [  1.37160000e+00,   2.44381547e+00,   4.39128494e+00, ...,\n",
       "          2.39014983e+00,   4.66986504e+01,   1.20125000e+02],\n",
       "       ..., \n",
       "       [  1.93883280e+03,   2.42026806e+00,              nan, ...,\n",
       "                     nan,   9.22462235e+01,   7.30000000e+01],\n",
       "       [  1.93898520e+03,   2.42026806e+00,              nan, ...,\n",
       "                     nan,   9.22462235e+01,   7.39375000e+01],\n",
       "       [  1.93913760e+03,   2.42026806e+00,              nan, ...,\n",
       "                     nan,   9.22462235e+01,   7.42500000e+01]])"
      ]
     },
     "execution_count": 29,
     "metadata": {},
     "output_type": "execute_result"
    }
   ],
   "source": [
    "l.data"
   ]
  },
  {
   "cell_type": "code",
   "execution_count": 30,
   "metadata": {
    "collapsed": false
   },
   "outputs": [
    {
     "data": {
      "text/plain": [
       "(12718, 25)"
      ]
     },
     "execution_count": 30,
     "metadata": {},
     "output_type": "execute_result"
    }
   ],
   "source": [
    "l.data.shape"
   ]
  },
  {
   "cell_type": "code",
   "execution_count": 31,
   "metadata": {
    "collapsed": false
   },
   "outputs": [
    {
     "name": "stdout",
     "output_type": "stream",
     "text": [
      "# LAS format log file from PETREL\n",
      "# Project units are specified as depth units\n",
      "#==================================================================\n",
      "~Version information\n",
      "VERS.   2.0:\n",
      "WRAP.   YES:\n",
      "#==================================================================\n",
      "~WELL INFORMATION\n",
      "#MNEM.UNIT      DATA             DESCRIPTION\n",
      "#---- ------ --------------   -----------------------------\n",
      "STRT .M      1.0668          :START DEPTH     \n",
      "STOP .M      1939.13760      :STOP DEPTH     \n",
      "STEP .M       0.15240        :STEP        \n",
      "NULL .          -999.25      :NULL VALUE\n",
      "COMP .        Elmworth Energy Corporation              :COMPANY\n",
      "WELL .        Kennetcook #2                            :WELL\n",
      "FLD  .        Windsor Block                            :FIELD\n",
      "LOC  .        Lat = 45* 12' 34.237\" N                  :LOCATION\n",
      "PROV .        Nova Scotia                              :PROVINCE\n",
      "  UWI.        Long = 63* 45'24.460  W                  :UNIQUE WELL ID\n",
      "LIC  .        P-129                                    :LICENSE NUMBER\n",
      "CTRY .        CA                                       :COUNTRY (WWW code)\n",
      " DATE.        10-Oct-2007                              :LOG DATE {DD-MMM-YYYY}\n",
      "SRVC .        Schlumberger                             :SERVICE COMPANY\n",
      "LATI .DEG                                              :LATITUDE\n",
      "LONG .DEG                                              :LONGITUDE\n",
      "GDAT .                                                 :GeoDetic Datum\n",
      "SECT .        45.20 Deg N                              :Section\n",
      "RANG .        PD 176                                   :Range\n",
      "TOWN .        63.75 Deg W                              :Township\n",
      "#==================================================================\n",
      "~PARAMETER INFORMATION\n",
      "#MNEM.UNIT    VALUE                      DESCRIPTION\n",
      "#---- -----   --------------------       ------------------------\n",
      "DREF .        KELLY BUSHING              :Drilling Measured From\n",
      "RUN  .        1                          :Run Number\n",
      "CSGD .M        280.00000                 :Casing Bottom of Driller\n",
      "CSGL .M        280.00000                 :Casing Bottom of Logger\n",
      "CSGS .MM       244.50000                 :Current Casing Size\n",
      "CSGW .KG/M      53.57000                 :Casing Weight\n",
      "MUDD .K/M3    1110.00000                 :Drilling Fluid Density\n",
      "   FL.C3         7.50000                 :DRILLING FLUID LOSS\n",
      "PH   .          10.50000                 :Drilling Fluid PH\n",
      "MUD  .        Gel-Chem                   :Drilling Fluid Type\n",
      "MUDV .S         73.00000                 :Drilling Fluid Viscosity\n",
      "GL   .M         90.30000                 :Elevation of Ground Level\n",
      "EREF .M         94.80000                 :Elevation of Kelly Bushing\n",
      "ENG  .        L. Conway / J. Easton      :Engineer's Name\n",
      "EREF .        KELLY BUSHING              :Log Measured From\n",
      "BASE .        Dartmouth                  :Logging Unit Location\n",
      "FACT .        11864196                   :Service Order Number\n",
      "LIC  .                                   :API Serial Number\n",
      "PROV .        Nova Scot\n"
     ]
    }
   ],
   "source": [
    "print(l._text[:3000])"
   ]
  },
  {
   "cell_type": "code",
   "execution_count": 32,
   "metadata": {
    "collapsed": false
   },
   "outputs": [
    {
     "data": {
      "text/plain": [
       "HeaderItem(mnemonic=STRT, unit=M, value=1.0668, descr=START DEPTH, original_mnemonic=STRT)"
      ]
     },
     "execution_count": 32,
     "metadata": {},
     "output_type": "execute_result"
    }
   ],
   "source": [
    "l.well['STRT']"
   ]
  },
  {
   "cell_type": "code",
   "execution_count": 37,
   "metadata": {
    "collapsed": false
   },
   "outputs": [
    {
     "data": {
      "text/plain": [
       "-999.25"
      ]
     },
     "execution_count": 37,
     "metadata": {},
     "output_type": "execute_result"
    }
   ],
   "source": [
    "l.well.NULL.value"
   ]
  },
  {
   "cell_type": "code",
   "execution_count": 38,
   "metadata": {
    "collapsed": false
   },
   "outputs": [
    {
     "data": {
      "text/plain": [
       "1"
      ]
     },
     "execution_count": 38,
     "metadata": {},
     "output_type": "execute_result"
    }
   ],
   "source": [
    "l.params.RUN.value"
   ]
  },
  {
   "cell_type": "code",
   "execution_count": null,
   "metadata": {
    "collapsed": true
   },
   "outputs": [],
   "source": []
  }
 ],
 "metadata": {
  "kernelspec": {
   "display_name": "Python 3",
   "language": "python",
   "name": "python3"
  },
  "language_info": {
   "codemirror_mode": {
    "name": "ipython",
    "version": 3
   },
   "file_extension": ".py",
   "mimetype": "text/x-python",
   "name": "python",
   "nbconvert_exporter": "python",
   "pygments_lexer": "ipython3",
   "version": "3.4.3"
  }
 },
 "nbformat": 4,
 "nbformat_minor": 0
}
