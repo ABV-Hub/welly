{
 "cells": [
  {
   "cell_type": "markdown",
   "metadata": {},
   "source": [
    "## Well basics\n",
    "\n",
    "Some preliminaries..."
   ]
  },
  {
   "cell_type": "code",
   "execution_count": 1,
   "metadata": {
    "collapsed": false
   },
   "outputs": [
    {
     "data": {
      "text/plain": [
       "'0.6.1'"
      ]
     },
     "execution_count": 1,
     "metadata": {},
     "output_type": "execute_result"
    }
   ],
   "source": [
    "import striplog\n",
    "striplog.__version__"
   ]
  },
  {
   "cell_type": "code",
   "execution_count": 2,
   "metadata": {
    "collapsed": false
   },
   "outputs": [
    {
     "data": {
      "text/plain": [
       "'0.1.0'"
      ]
     },
     "execution_count": 2,
     "metadata": {},
     "output_type": "execute_result"
    }
   ],
   "source": [
    "import welly\n",
    "welly.__version__"
   ]
  },
  {
   "cell_type": "code",
   "execution_count": 3,
   "metadata": {
    "collapsed": true
   },
   "outputs": [],
   "source": [
    "from welly import Well\n",
    "import lasio"
   ]
  },
  {
   "cell_type": "code",
   "execution_count": 8,
   "metadata": {
    "collapsed": true
   },
   "outputs": [],
   "source": [
    "LogFile = 'P-129_out.LAS'"
   ]
  },
  {
   "cell_type": "code",
   "execution_count": 9,
   "metadata": {
    "collapsed": false
   },
   "outputs": [],
   "source": [
    "las = lasio.read(LogFile)"
   ]
  },
  {
   "cell_type": "code",
   "execution_count": 11,
   "metadata": {
    "collapsed": false
   },
   "outputs": [
    {
     "name": "stdout",
     "output_type": "stream",
     "text": [
      "STRT **** 1.0668\n",
      "STOP **** 1939.1376\n",
      "STEP **** 0.1524\n",
      "NULL **** -999.25\n",
      "COMP **** Elmworth Energy Corporation\n",
      "WELL **** Kennetcook #2\n",
      "FLD **** Windsor Block\n",
      "LOC **** Lat = 45* 12' 34.237\" N\n",
      "PROV **** Nova Scotia\n",
      "UWI **** Long = 63* 45'24.460  W\n",
      "LIC **** P-129\n",
      "CTRY **** CA\n",
      "DATE **** 10-Oct-2007\n",
      "SRVC **** Schlumberger\n",
      "LATI **** \n",
      "LONG **** \n",
      "GDAT **** \n",
      "SECT **** 45.20 Deg N\n",
      "RANG **** PD 176\n",
      "TOWN **** 63.75 Deg W\n"
     ]
    }
   ],
   "source": [
    "for k, v in las.well.items():\n",
    "    print (k, '****', v.value)"
   ]
  },
  {
   "cell_type": "code",
   "execution_count": 12,
   "metadata": {
    "collapsed": false
   },
   "outputs": [],
   "source": [
    "w1 = Well.from_las(LogFile)"
   ]
  },
  {
   "cell_type": "code",
   "execution_count": 13,
   "metadata": {
    "collapsed": false
   },
   "outputs": [
    {
     "data": {
      "text/html": [
       "<table><tr><th style=\"text-align:center;\" colspan=\"2\">GR [gAPI]</th></tr><tr><td style=\"text-align:center;\" colspan=\"2\">1.0668 : 1939.2900 : 0.1524</td></tr><tr><td><strong>run</strong></td><td>1</td></tr><tr><td><strong>description</strong></td><td>Gamma-Ray</td></tr><tr><td><strong>null</strong></td><td>-999.25</td></tr><tr><th style=\"border-top: 2px solid #000;\">Depth</th><th style=\"border-top: 2px solid #000;\">Value</th></tr><tr><td>1.0668</td><td>46.6987</td></tr><tr><td>1.2192</td><td>46.6987</td></tr><tr><td>1.3716</td><td>46.6987</td></tr><tr><td>⋮</td><td>⋮</td></tr><tr><td>1938.8328</td><td>92.2462</td></tr><tr><td>1938.9852</td><td>92.2462</td></tr><tr><td>1939.1376</td><td>92.2462</td></tr></table>"
      ],
      "text/plain": [
       "Curve([ 46.69865036,  46.69865036,  46.69865036, ...,  92.24622345,\n",
       "        92.24622345,  92.24622345])"
      ]
     },
     "execution_count": 13,
     "metadata": {},
     "output_type": "execute_result"
    }
   ],
   "source": [
    "w1.curves['GR']"
   ]
  },
  {
   "cell_type": "code",
   "execution_count": 15,
   "metadata": {
    "collapsed": false
   },
   "outputs": [
    {
     "data": {
      "image/png": "[encoded data removed]",
      "text/plain": [
       "<matplotlib.figure.Figure at 0x7fb96f88cf60>"
      ]
     },
     "metadata": {},
     "output_type": "display_data"
    }
   ],
   "source": [
    "%matplotlib inline\n",
    "w1.curves['GR'].plot()"
   ]
  },
  {
   "cell_type": "code",
   "execution_count": 16,
   "metadata": {
    "collapsed": true
   },
   "outputs": [],
   "source": [
    "import numpy as np\n",
    "from striplog import Striplog, Legend, Lexicon, Interval, Component"
   ]
  },
  {
   "cell_type": "code",
   "execution_count": 17,
   "metadata": {
    "collapsed": true
   },
   "outputs": [],
   "source": [
    "imgfile = 'P-129_280_1935.png'"
   ]
  },
  {
   "cell_type": "code",
   "execution_count": 18,
   "metadata": {
    "collapsed": true
   },
   "outputs": [],
   "source": [
    "legend = Legend.builtin('NSDOE')"
   ]
  },
  {
   "cell_type": "code",
   "execution_count": 19,
   "metadata": {
    "collapsed": false
   },
   "outputs": [],
   "source": [
    "stripimg = Striplog.from_img(imgfile, 280, 1935, legend=legend)"
   ]
  },
  {
   "cell_type": "code",
   "execution_count": 20,
   "metadata": {
    "collapsed": false
   },
   "outputs": [
    {
     "data": {
      "image/png": "[encoded data removed]",
      "text/plain": [
       "<matplotlib.figure.Figure at 0x7fb96c3d86d8>"
      ]
     },
     "metadata": {},
     "output_type": "display_data"
    }
   ],
   "source": [
    "stripimg.plot(legend=legend, ladder=True)"
   ]
  },
  {
   "cell_type": "code",
   "execution_count": 125,
   "metadata": {
    "collapsed": true
   },
   "outputs": [],
   "source": [
    "# Get a Decor for curves"
   ]
  },
  {
   "cell_type": "code",
   "execution_count": 126,
   "metadata": {
    "collapsed": true
   },
   "outputs": [],
   "source": [
    "from striplog import Decor, Component, Legend"
   ]
  },
  {
   "cell_type": "code",
   "execution_count": 127,
   "metadata": {
    "collapsed": false
   },
   "outputs": [],
   "source": [
    "logcsv = 'data/Petrophysics_display_template.csv'\n",
    "with open (logcsv, \"r\") as myfile:\n",
    "    data=myfile.read()\n"
   ]
  },
  {
   "cell_type": "code",
   "execution_count": 128,
   "metadata": {
    "collapsed": false
   },
   "outputs": [],
   "source": [
    "l = Legend.from_csv(data)"
   ]
  },
  {
   "cell_type": "code",
   "execution_count": 129,
   "metadata": {
    "collapsed": false
   },
   "outputs": [
    {
     "data": {
      "text/html": [
       "<table><tr><td><strong>midline</strong></td><td style=\"color:black; background-color:white\"></td></tr><tr><td><strong>xleft</strong></td><td style=\"color:black; background-color:white\">0.6</td></tr><tr><td><strong>logarithmic</strong></td><td style=\"color:black; background-color:white\">linear</td></tr><tr><td><strong>linecolor</strong></td><td style=\"color:black; background-color:white\">blue (blue bird)</td></tr><tr><td><strong>xticks</strong></td><td style=\"color:black; background-color:white\">0.4,0.3,0.2,0.1,0.0</td></tr><tr><td><strong>fill_left_color</strong></td><td style=\"color:black; background-color:white\"></td></tr><tr><td><strong>fill_right_color</strong></td><td style=\"color:black; background-color:white\"></td></tr><tr><td><strong>hatch</strong></td><td style=\"color:black; background-color:white\">None</td></tr><tr><td><strong>fill_right_cond</strong></td><td style=\"color:black; background-color:white\"></td></tr><tr><td><strong>track</strong></td><td style=\"color:black; background-color:white\">2.0</td></tr><tr><td><strong>xlabel_fmt</strong></td><td style=\"color:black; background-color:white\"></td></tr><tr><td><strong>colour</strong></td><td style=\"color:#FFFFFF; background-color:#4973ab\">#4973ab</td></tr><tr><td><strong>xright</strong></td><td style=\"color:black; background-color:white\">-0.3</td></tr><tr><td><strong>width</strong></td><td style=\"color:black; background-color:white\">None</td></tr><tr><td><strong>fill_left</strong></td><td style=\"color:black; background-color:white\"></td></tr><tr><td><strong>fill_right</strong></td><td style=\"color:black; background-color:white\"></td></tr><tr><td><strong>component</strong></td><td style=\"color:black; background-color:white\"><table><tr><td><strong>mnemonic</strong></td><td>nphi_san</td></tr></table></td></tr><tr><td><strong>fill_left_cond</strong></td><td style=\"color:black; background-color:white\"></td></tr></table>"
      ],
      "text/plain": [
       "Decor({'midline': '', 'xleft': 0.6, 'logarithmic': 'linear', 'linecolor': 'blue (blue bird)', 'xticks': '0.4,0.3,0.2,0.1,0.0', 'fill_left_color': '', 'fill_right_color': '', 'hatch': None, 'fill_right_cond': '', 'track': 2.0, 'xlabel_fmt': '', 'colour': '#4973ab', 'xright': -0.3, 'width': None, 'fill_left': '', 'fill_right': '', 'component': Component({'mnemonic': 'nphi_san'}), 'fill_left_cond': ''})"
      ]
     },
     "execution_count": 129,
     "metadata": {},
     "output_type": "execute_result"
    }
   ],
   "source": [
    "l[20]"
   ]
  },
  {
   "cell_type": "code",
   "execution_count": 130,
   "metadata": {
    "collapsed": false
   },
   "outputs": [],
   "source": [
    "d = l.get_decor(Component({'mnemonic':'GR'}))\n",
    "d.colour\n",
    "d.component\n",
    "d.linecolor\n",
    "d.track\n",
    "xtix = d.xticks"
   ]
  },
  {
   "cell_type": "code",
   "execution_count": 131,
   "metadata": {
    "collapsed": false
   },
   "outputs": [
    {
     "data": {
      "text/plain": [
       "['30', '60', '90', '120', '150', '180']"
      ]
     },
     "execution_count": 131,
     "metadata": {},
     "output_type": "execute_result"
    }
   ],
   "source": [
    "d.xticks.split(',')"
   ]
  },
  {
   "cell_type": "code",
   "execution_count": 132,
   "metadata": {
    "collapsed": true
   },
   "outputs": [],
   "source": [
    "def get_linestyle(decor):\n",
    "    kwargs = {}\n",
    "    kwargs['color'] = decor.colour\n",
    "    return kwargs"
   ]
  },
  {
   "cell_type": "code",
   "execution_count": 133,
   "metadata": {
    "collapsed": true
   },
   "outputs": [],
   "source": [
    "def get_axstyle(decor):\n",
    "    kwargs = {}\n",
    "    kwargs['xticks'] = list(map(float, decor.xticks.split(',')))\n",
    "    kwargs['xscale'] = decor.logarithmic\n",
    "    kwargs['xlim'] = (decor.xleft, decor.xright)\n",
    "    return kwargs"
   ]
  },
  {
   "cell_type": "code",
   "execution_count": 134,
   "metadata": {
    "collapsed": false
   },
   "outputs": [
    {
     "data": {
      "text/plain": [
       "{'color': '#000000'}"
      ]
     },
     "execution_count": 134,
     "metadata": {},
     "output_type": "execute_result"
    }
   ],
   "source": [
    "get_linestyle(d)"
   ]
  },
  {
   "cell_type": "code",
   "execution_count": 135,
   "metadata": {
    "collapsed": false
   },
   "outputs": [
    {
     "data": {
      "text/plain": [
       "{'xlim': (0.0, 210.0),\n",
       " 'xscale': 'linear',\n",
       " 'xticks': [30.0, 60.0, 90.0, 120.0, 150.0, 180.0]}"
      ]
     },
     "execution_count": 135,
     "metadata": {},
     "output_type": "execute_result"
    }
   ],
   "source": [
    "get_axstyle(d)"
   ]
  },
  {
   "cell_type": "code",
   "execution_count": 136,
   "metadata": {
    "collapsed": false
   },
   "outputs": [
    {
     "data": {
      "text/plain": [
       "'0,10,20'"
      ]
     },
     "execution_count": 136,
     "metadata": {},
     "output_type": "execute_result"
    }
   ],
   "source": [
    "l[2].xticks"
   ]
  },
  {
   "cell_type": "code",
   "execution_count": 137,
   "metadata": {
    "collapsed": false
   },
   "outputs": [
    {
     "data": {
      "text/plain": [
       "1939.1376000000012"
      ]
     },
     "execution_count": 137,
     "metadata": {},
     "output_type": "execute_result"
    }
   ],
   "source": [
    "w1.curves['GR'].basis[0]\n",
    "w1.curves['GR'].basis[-1]"
   ]
  },
  {
   "cell_type": "code",
   "execution_count": 138,
   "metadata": {
    "collapsed": false
   },
   "outputs": [],
   "source": [
    "GR = w1.curves['GR']\n",
    "RLA1 = w1.curves['RLA1']\n",
    "RLA2 = w1.curves['RLA2']\n",
    "RLA3 = w1.curves['RLA3']\n",
    "RLA4 = w1.curves['RLA4']\n",
    "RLA5 = w1.curves['RLA5']\n",
    "NPHI_SAN = w1.curves['NPHI_SAN']\n",
    "DPHI_SAN = w1.curves['DPHI_SAN']\n",
    "DT = w1.curves['DT']\n",
    "RHOB = w1.curves['RHOB']\n",
    "DTS = w1.curves['DTS']"
   ]
  },
  {
   "cell_type": "code",
   "execution_count": 139,
   "metadata": {
    "collapsed": false
   },
   "outputs": [
    {
     "data": {
      "text/plain": [
       "dict_keys(['HCAL', 'PEF', 'DTS', 'GR', 'DPHI_DOL', 'NPHI_SAN', 'NPHI_DOL', 'DT', 'NPHI_LIM', 'RLA4', 'SP', 'RXO_HRLT', 'RLA2', 'DPHI_LIM', 'RLA5', 'RLA1', 'DPHI_SAN', 'RXOZ', 'RT_HRLT', 'RLA3', 'DRHO', 'DEPT', 'RHOB', 'RM_HRLT', 'CALI'])"
      ]
     },
     "execution_count": 139,
     "metadata": {},
     "output_type": "execute_result"
    }
   ],
   "source": [
    "w1.curves.keys()"
   ]
  },
  {
   "cell_type": "code",
   "execution_count": 140,
   "metadata": {
    "collapsed": false
   },
   "outputs": [
    {
     "data": {
      "text/plain": [
       "'GR'"
      ]
     },
     "execution_count": 140,
     "metadata": {},
     "output_type": "execute_result"
    }
   ],
   "source": [
    "GR.mnemonic"
   ]
  },
  {
   "cell_type": "code",
   "execution_count": 141,
   "metadata": {
    "collapsed": false
   },
   "outputs": [],
   "source": [
    "# This should probably be an orderd dict\n",
    "def setup_tracks(well):\n",
    "    # short-hand names\n",
    "    GR = well.curves['GR']\n",
    "    RLA1 = well.curves['RLA1']\n",
    "    RLA2 = well.curves['RLA2']\n",
    "    RLA3 = well.curves['RLA3']\n",
    "    RLA4 = well.curves['RLA4']\n",
    "    RLA5 = well.curves['RLA5']\n",
    "    NPHI_SAN = well.curves['NPHI_SAN']\n",
    "    DPHI_SAN = well.curves['DPHI_SAN']\n",
    "    DT = well.curves['DT']\n",
    "    RHOB = well.curves['RHOB']\n",
    "    DTS = well.curves['DTS']\n",
    "    \n",
    "    my_tracks = [('track 1', [GR]), \n",
    "                 ('track 2', [RLA1, RLA2, RLA3, RLA4, RLA5]), \n",
    "                 ('track 3', [NPHI_SAN, DPHI_SAN]),  \n",
    "                 ('track 4', [RHOB]),  \n",
    "                 ('track 5', [DT, DTS])\n",
    "                ]\n",
    "    return my_tracks"
   ]
  },
  {
   "cell_type": "code",
   "execution_count": 142,
   "metadata": {
    "collapsed": false
   },
   "outputs": [],
   "source": [
    "my_tracks = setup_tracks(w1)\n"
   ]
  },
  {
   "cell_type": "code",
   "execution_count": 143,
   "metadata": {
    "collapsed": false
   },
   "outputs": [],
   "source": [
    "curve_style = { 'GR' : {'color':'k', 'lw':0.5, 'alpha':1},\n",
    "                'RLA1' : {'color':'k', 'lw':0.5, 'alpha':1},\n",
    "                'RLA2' : {'color':'k', 'lw':0.5, 'alpha':1},\n",
    "                'RLA3' : {'color':'k', 'lw':0.5, 'alpha':1},\n",
    "                'RLA4' : {'color':'k', 'lw':0.5, 'alpha':1},\n",
    "                'RLA5' : {'color':'k', 'lw':0.5, 'alpha':1},\n",
    "                'NPHI_SAN' : {'color':'#4973AB', 'lw':0.5, 'alpha':1},\n",
    "                'DPHI_SAN' : {'color':'#8C1719', 'lw':0.5, 'alpha':1},\n",
    "                'DT' : {'color':'#4973AB', 'lw':0.5, 'alpha':1},\n",
    "                'RHOB' : {'color':'#8C1719', 'lw':0.5, 'alpha':1},\n",
    "                'DTS' : {'color':'#308014', 'lw':0.5, 'alpha':1},\n",
    "                }\n"
   ]
  },
  {
   "cell_type": "code",
   "execution_count": 154,
   "metadata": {
    "collapsed": false
   },
   "outputs": [],
   "source": [
    "xaxis_style = {'labeltop':'on'}"
   ]
  },
  {
   "cell_type": "code",
   "execution_count": 145,
   "metadata": {
    "collapsed": true
   },
   "outputs": [],
   "source": [
    "axes_style = {#, \n",
    "              'xticklabels':[ 0.75, 2.1, 3.4 ],\n",
    "               }\n",
    "xaxis_style = {'labeltop':'on'}\n",
    "xticklabel_style = {'rotation':90}"
   ]
  },
  {
   "cell_type": "code",
   "execution_count": 146,
   "metadata": {
    "collapsed": true
   },
   "outputs": [],
   "source": [
    "import matplotlib.pyplot as plt\n",
    "from matplotlib import rc"
   ]
  },
  {
   "cell_type": "code",
   "execution_count": 147,
   "metadata": {
    "collapsed": false
   },
   "outputs": [],
   "source": [
    "from matplotlib import rc\n",
    "def set_pub():\n",
    "    rc('font', weight='normal')    # bold fonts are easier to see\n",
    "    rc('lines', lw=0.5, color='k') # thicker black lines (no budget for color!)\n",
    "    rc('grid', c='0.5', ls='-', lw=0.25)  # solid gray grid lines\n",
    "    #rc('savefig', dpi=300)       # higher res outputs\n",
    "\n",
    "set_pub()\n"
   ]
  },
  {
   "cell_type": "code",
   "execution_count": 148,
   "metadata": {
    "collapsed": true
   },
   "outputs": [],
   "source": [
    "zz = None"
   ]
  },
  {
   "cell_type": "code",
   "execution_count": 149,
   "metadata": {
    "collapsed": false
   },
   "outputs": [
    {
     "data": {
      "text/plain": [
       "True"
      ]
     },
     "execution_count": 149,
     "metadata": {},
     "output_type": "execute_result"
    }
   ],
   "source": [
    "zz != True"
   ]
  },
  {
   "cell_type": "code",
   "execution_count": 150,
   "metadata": {
    "collapsed": true
   },
   "outputs": [],
   "source": [
    "import matplotlib.pyplot as plt"
   ]
  },
  {
   "cell_type": "code",
   "execution_count": 151,
   "metadata": {
    "collapsed": true
   },
   "outputs": [],
   "source": [
    "% matplotlib inline"
   ]
  },
  {
   "cell_type": "code",
   "execution_count": 183,
   "metadata": {
    "collapsed": false
   },
   "outputs": [],
   "source": [
    "# Instantiate a figure\n",
    "def composite(well, striplog=None, ntracks=5, trwidth=1, height=14,ylim=(1000,2000)):\n",
    "    \"\"\"Returns a fig and axes array object for composite plotting\"\"\"\n",
    "    \n",
    "    if ntracks == None:\n",
    "        # Get number of tracks to make\n",
    "        ntracks = len(my_tracks)\n",
    "    if striplog:\n",
    "        ntracks += 1\n",
    "    f, axarr = plt.subplots(1,ntracks, figsize=(ntracks*trwidth, height), sharey=True)\n",
    "\n",
    "    # put striplog in first axes\n",
    "    striplog.plot_axis(ax=axarr[0], legend=legend, ladder=True, zorder=4)\n",
    "    axarr[0].grid(zorder=0)\n",
    "    axarr[0].spines['left'].set_zorder(100)\n",
    "\n",
    "    # Do curve ploting\n",
    "    j = 0\n",
    "    if is_striplog: # if we've got a striplog\n",
    "        j = 1\n",
    "    for track in my_tracks:\n",
    "        i = int(track[0][-1])-1 # last char of track name in tuple\n",
    "        for curve in track[-1]: # the curve or list of curves\n",
    "            decor = l.get_decor(Component({'mnemonic':curve.mnemonic}))\n",
    "            curve_style = get_linestyle(decor)\n",
    "            axkwargs = get_axstyle(decor)\n",
    "            axkwargs['ylim'] = (ylim[1],ylim[0])\n",
    "            curve.plot(ax=axarr[j+i], **curve_style)\n",
    "            axarr[j+i].set(**axkwargs)\n",
    "        axarr[j+i].grid(zorder=0)  # put gridlines behind data\n",
    "    #fig.show()\n",
    "    return f, axarr"
   ]
  },
  {
   "cell_type": "code",
   "execution_count": 6,
   "metadata": {
    "collapsed": false
   },
   "outputs": [
    {
     "data": {
      "text/plain": [
       "True"
      ]
     },
     "execution_count": 6,
     "metadata": {},
     "output_type": "execute_result"
    }
   ],
   "source": [
    "type(u'this') == str"
   ]
  },
  {
   "cell_type": "code",
   "execution_count": 184,
   "metadata": {
    "collapsed": false
   },
   "outputs": [
    {
     "name": "stdout",
     "output_type": "stream",
     "text": [
      "Using matplotlib backend: MacOSX\n"
     ]
    }
   ],
   "source": [
    "% matplotlib\n",
    "f, axes = composite(striplog=stripimg, well=w1, trwidth=1.5, ylim=(300,1300))\n"
   ]
  },
  {
   "cell_type": "code",
   "execution_count": 2,
   "metadata": {
    "collapsed": false
   },
   "outputs": [],
   "source": [
    "import lasio\n",
    "import os\n",
    "env = %env\n",
    "l = lasio.read(os.path.join(env['HOME'], 'Dropbox/Agile/Canstrat/Sample_LAS_from_Canstrat/EC00001_CS/EC00001_CS_main.LAS'))"
   ]
  },
  {
   "cell_type": "code",
   "execution_count": 3,
   "metadata": {
    "collapsed": false
   },
   "outputs": [
    {
     "data": {
      "text/plain": [
       "[HeaderItem(mnemonic=EKB, unit=M, value=25.9, descr=Elevation KB, original_mnemonic=EKB),\n",
       " HeaderItem(mnemonic=TDD, unit=M, value=3,988.3, descr=TD Driller, original_mnemonic=TDD),\n",
       " HeaderItem(mnemonic=TDL, unit=M, value=3,988.3, descr=TD Logger, original_mnemonic=TDL)]"
      ]
     },
     "execution_count": 3,
     "metadata": {},
     "output_type": "execute_result"
    }
   ],
   "source": [
    "l.params"
   ]
  },
  {
   "cell_type": "markdown",
   "metadata": {},
   "source": [
    "## Load a well\n",
    "\n",
    "Use the `from_las()` method to load a well by passing a filename as a `str`. \n",
    "\n",
    "This is really just a wrapper for `lasio` but instantiates a `Header`, `Curve`s, etc."
   ]
  },
  {
   "cell_type": "code",
   "execution_count": 4,
   "metadata": {
    "collapsed": false
   },
   "outputs": [
    {
     "data": {
      "text/plain": [
       "'/Users/Evan/welly/welly/tutorial'"
      ]
     },
     "execution_count": 4,
     "metadata": {},
     "output_type": "execute_result"
    }
   ],
   "source": [
    "pwd"
   ]
  },
  {
   "cell_type": "code",
   "execution_count": 5,
   "metadata": {
    "collapsed": false
   },
   "outputs": [
    {
     "data": {
      "text/plain": [
       "'0.10'"
      ]
     },
     "execution_count": 5,
     "metadata": {},
     "output_type": "execute_result"
    }
   ],
   "source": [
    "import lasio\n",
    "lasio.__version__"
   ]
  },
  {
   "cell_type": "code",
   "execution_count": 1,
   "metadata": {
    "collapsed": false
   },
   "outputs": [],
   "source": [
    "\n",
    "\n",
    "#CS1 = 'data/Canstrat/EC00001_CS/EC00001_CS_rocktype.LAS'\n",
    "#CS2 = 'data/Canstrat/EC00001_CS/EC00001_CS_mineral.LAS'\n",
    "\n",
    "\n",
    "from welly import Well\n",
    "w1 = Well.from_las(LogFile)\n",
    "#w2 = Well.from_las(CS2)\n"
   ]
  },
  {
   "cell_type": "code",
   "execution_count": 2,
   "metadata": {
    "collapsed": false
   },
   "outputs": [
    {
     "name": "stdout",
     "output_type": "stream",
     "text": [
      "{}\n"
     ]
    }
   ],
   "source": [
    "print(w1.location.crs)"
   ]
  },
  {
   "cell_type": "code",
   "execution_count": 3,
   "metadata": {
    "collapsed": false
   },
   "outputs": [],
   "source": [
    "w1.location.set_crs(crs='ABC')"
   ]
  },
  {
   "cell_type": "code",
   "execution_count": 4,
   "metadata": {
    "collapsed": false
   },
   "outputs": [
    {
     "data": {
      "text/plain": [
       "'ABC'"
      ]
     },
     "execution_count": 4,
     "metadata": {},
     "output_type": "execute_result"
    }
   ],
   "source": [
    "w1.location.crs"
   ]
  },
  {
   "cell_type": "code",
   "execution_count": 15,
   "metadata": {
    "collapsed": true
   },
   "outputs": [],
   "source": [
    "well_dir = 'data/Canstrat/EC00001_CS/'"
   ]
  },
  {
   "cell_type": "code",
   "execution_count": 20,
   "metadata": {
    "collapsed": true
   },
   "outputs": [],
   "source": [
    "s = \"EvanBianco\""
   ]
  },
  {
   "cell_type": "code",
   "execution_count": 24,
   "metadata": {
    "collapsed": false
   },
   "outputs": [
    {
     "data": {
      "text/plain": [
       "True"
      ]
     },
     "execution_count": 24,
     "metadata": {},
     "output_type": "execute_result"
    }
   ],
   "source": [
    "'van' in s.lower()"
   ]
  },
  {
   "cell_type": "code",
   "execution_count": 26,
   "metadata": {
    "collapsed": false
   },
   "outputs": [],
   "source": [
    "# crawl through a directory for a well, get all the LAS files, and put their fnames in a list\n",
    "import os\n",
    "\n",
    "def get_las_list(well_dir):\n",
    "    for dirname, dirnames, filenames in os.walk(well_dir):\n",
    "        # print path to all filenames.\n",
    "        laslist = []\n",
    "        for filename in filenames:\n",
    "            if '.las' in filename.lower():\n",
    "                laslist.append(os.path.join(dirname, filename))\n",
    "\n",
    "        # Advanced usage:\n",
    "        # editing the 'dirnames' list will stop os.walk() from recursing into there.\n",
    "        if '.git' in dirnames:\n",
    "            # don't go into any .git directories.\n",
    "            dirnames.remove('.git')\n",
    "        return laslist\n"
   ]
  },
  {
   "cell_type": "code",
   "execution_count": 27,
   "metadata": {
    "collapsed": false
   },
   "outputs": [],
   "source": [
    "files = get_las_list(well_dir)"
   ]
  },
  {
   "cell_type": "code",
   "execution_count": 28,
   "metadata": {
    "collapsed": false
   },
   "outputs": [],
   "source": [
    "def well_from_lasfiles(files):\n",
    "    \"\"\"Makes a well with all curves from a list of lasfiles\"\"\"\n",
    "    # instantiate well\n",
    "    print(files[0])\n",
    "    w = Well.from_las(files[0])\n",
    "    # add curves from remaining files in list\n",
    "    for j, f in enumerate(files[1:]):\n",
    "        wi = Well.from_las(f)\n",
    "        for i,c in enumerate(wi.las.curves):\n",
    "            w.las.add_curve(c.mnemonic,\n",
    "                            c.data,\n",
    "                            c.unit,\n",
    "                            c.descr,\n",
    "                            c.value)\n",
    "    return w\n",
    "    "
   ]
  },
  {
   "cell_type": "code",
   "execution_count": 31,
   "metadata": {
    "collapsed": false
   },
   "outputs": [
    {
     "ename": "AttributeError",
     "evalue": "'dict' object has no attribute 'names'",
     "output_type": "error",
     "traceback": [
      "\u001b[0;31m---------------------------------------------------------------------------\u001b[0m",
      "\u001b[0;31mAttributeError\u001b[0m                            Traceback (most recent call last)",
      "\u001b[0;32m<ipython-input-31-e5d3a49e6efe>\u001b[0m in \u001b[0;36m<module>\u001b[0;34m()\u001b[0m\n\u001b[0;32m----> 1\u001b[0;31m \u001b[0mw\u001b[0m\u001b[0;34m.\u001b[0m\u001b[0mcurves\u001b[0m\u001b[0;34m.\u001b[0m\u001b[0mnames\u001b[0m\u001b[0;34m\u001b[0m\u001b[0m\n\u001b[0m",
      "\u001b[0;31mAttributeError\u001b[0m: 'dict' object has no attribute 'names'"
     ]
    }
   ],
   "source": []
  },
  {
   "cell_type": "code",
   "execution_count": 29,
   "metadata": {
    "collapsed": false
   },
   "outputs": [
    {
     "name": "stdout",
     "output_type": "stream",
     "text": [
      "data/Canstrat/EC00001_CS/EC00001_CS_acce_ind.LAS\n",
      "data/Canstrat/EC00001_CS/EC00001_CS_accomp.LAS\n",
      "0 0\n",
      "0 1\n",
      "0 2\n",
      "0 3\n",
      "0 4\n",
      "0 5\n",
      "0 6\n",
      "0 7\n",
      "0 8\n",
      "0 9\n",
      "0 10\n",
      "0 11\n",
      "0 12\n",
      "0 13\n",
      "0 14\n",
      "0 15\n",
      "0 16\n",
      "0 17\n",
      "0 18\n",
      "0 19\n",
      "data/Canstrat/EC00001_CS/EC00001_CS_accrbsc_ind.LAS\n",
      "1 0\n",
      "1 1\n",
      "1 2\n",
      "1 3\n",
      "1 4\n",
      "1 5\n",
      "1 6\n",
      "1 7\n",
      "1 8\n",
      "1 9\n",
      "1 10\n",
      "1 11\n",
      "1 12\n",
      "1 13\n",
      "1 14\n",
      "1 15\n",
      "1 16\n",
      "1 17\n",
      "1 18\n",
      "1 19\n",
      "1 20\n",
      "1 21\n",
      "1 22\n",
      "1 23\n",
      "1 24\n",
      "1 25\n",
      "1 26\n",
      "1 27\n",
      "1 28\n",
      "1 29\n",
      "1 30\n",
      "1 31\n",
      "1 32\n",
      "1 33\n",
      "1 34\n",
      "1 35\n",
      "1 36\n",
      "1 37\n",
      "1 38\n",
      "1 39\n",
      "1 40\n",
      "1 41\n",
      "data/Canstrat/EC00001_CS/EC00001_CS_diagen_ind.LAS\n",
      "2 0\n",
      "2 1\n",
      "2 2\n",
      "2 3\n",
      "2 4\n",
      "2 5\n",
      "2 6\n",
      "2 7\n",
      "2 8\n",
      "2 9\n",
      "2 10\n",
      "2 11\n",
      "data/Canstrat/EC00001_CS/EC00001_CS_fossils.LAS\n",
      "3 0\n",
      "3 1\n",
      "3 2\n",
      "3 3\n",
      "3 4\n",
      "3 5\n",
      "3 6\n",
      "3 7\n",
      "3 8\n",
      "3 9\n",
      "3 10\n",
      "3 11\n",
      "3 12\n",
      "3 13\n",
      "3 14\n",
      "3 15\n",
      "3 16\n",
      "3 17\n",
      "3 18\n",
      "3 19\n",
      "3 20\n",
      "3 21\n",
      "3 22\n",
      "3 23\n",
      "3 24\n",
      "3 25\n",
      "3 26\n",
      "3 27\n",
      "3 28\n",
      "3 29\n",
      "3 30\n",
      "3 31\n",
      "3 32\n",
      "3 33\n",
      "3 34\n",
      "3 35\n",
      "data/Canstrat/EC00001_CS/EC00001_CS_main.LAS\n",
      "4 0\n",
      "4 1\n",
      "4 2\n",
      "4 3\n",
      "4 4\n",
      "4 5\n",
      "4 6\n",
      "4 7\n",
      "4 8\n",
      "4 9\n",
      "4 10\n",
      "4 11\n",
      "4 12\n",
      "4 13\n",
      "4 14\n",
      "4 15\n",
      "4 16\n",
      "4 17\n",
      "4 18\n",
      "4 19\n",
      "4 20\n",
      "4 21\n",
      "4 22\n",
      "data/Canstrat/EC00001_CS/EC00001_CS_mineral.LAS\n",
      "5 0\n",
      "5 1\n",
      "5 2\n",
      "5 3\n",
      "5 4\n",
      "5 5\n",
      "5 6\n",
      "5 7\n",
      "5 8\n",
      "5 9\n",
      "5 10\n",
      "5 11\n",
      "5 12\n",
      "5 13\n",
      "5 14\n",
      "5 15\n",
      "5 16\n",
      "5 17\n",
      "5 18\n",
      "5 19\n",
      "5 20\n",
      "5 21\n",
      "5 22\n",
      "5 23\n",
      "5 24\n",
      "5 25\n",
      "5 26\n",
      "5 27\n",
      "5 28\n",
      "5 29\n",
      "5 30\n",
      "5 31\n",
      "5 32\n",
      "5 33\n",
      "data/Canstrat/EC00001_CS/EC00001_CS_rocktype.LAS\n",
      "6 0\n",
      "6 1\n",
      "6 2\n",
      "6 3\n",
      "6 4\n",
      "6 5\n",
      "6 6\n",
      "6 7\n",
      "6 8\n",
      "6 9\n",
      "6 10\n",
      "6 11\n",
      "6 12\n",
      "6 13\n",
      "6 14\n",
      "6 15\n",
      "6 16\n",
      "6 17\n",
      "6 18\n",
      "6 19\n",
      "6 20\n",
      "6 21\n",
      "6 22\n",
      "data/Canstrat/EC00001_CS/EC00001_CS_rocktype_ind.LAS\n",
      "7 0\n",
      "7 1\n",
      "7 2\n",
      "7 3\n",
      "7 4\n",
      "7 5\n",
      "7 6\n",
      "7 7\n",
      "7 8\n",
      "7 9\n",
      "7 10\n",
      "7 11\n",
      "7 12\n",
      "7 13\n",
      "7 14\n",
      "7 15\n",
      "7 16\n",
      "7 17\n",
      "7 18\n",
      "7 19\n",
      "7 20\n",
      "7 21\n",
      "7 22\n"
     ]
    }
   ],
   "source": [
    "w = well_from_lasfiles(files)"
   ]
  },
  {
   "cell_type": "code",
   "execution_count": 14,
   "metadata": {
    "collapsed": false
   },
   "outputs": [
    {
     "data": {
      "text/plain": [
       "(37187, 242)"
      ]
     },
     "execution_count": 14,
     "metadata": {},
     "output_type": "execute_result"
    }
   ],
   "source": [
    "w.las.data.shape"
   ]
  },
  {
   "cell_type": "code",
   "execution_count": 16,
   "metadata": {
    "collapsed": true
   },
   "outputs": [],
   "source": [
    "import matplotlib.pyplot as plt"
   ]
  },
  {
   "cell_type": "code",
   "execution_count": 30,
   "metadata": {
    "collapsed": false
   },
   "outputs": [
    {
     "name": "stderr",
     "output_type": "stream",
     "text": [
      "/Users/Evan/anaconda/envs/welly/lib/python3.5/site-packages/matplotlib/image.py:676: UserWarning: The backend (<class 'matplotlib.backends.backend_macosx.RendererMac'>) does not support interpolation='none'. The image will be interpolated with 'nearest` mode.\n",
      "  \"mode.\" % renderer.__class__)\n"
     ]
    }
   ],
   "source": [
    "plt.imshow(w.las.data[:,140:160], aspect=1/1000, clim=(0,100), interpolation='None')\n",
    "plt.show()"
   ]
  },
  {
   "cell_type": "code",
   "execution_count": 50,
   "metadata": {
    "collapsed": false
   },
   "outputs": [
    {
     "data": {
      "text/plain": [
       "CurveItem(mnemonic=MINC_MICA, unit=I, value=, descr=005  Composite mica mineral frequency (integer 1 to 8), original_mnemonic=MINC_MICA, data.shape=(37187,))"
      ]
     },
     "execution_count": 50,
     "metadata": {},
     "output_type": "execute_result"
    }
   ],
   "source": [
    "w2.las.curves['MINC_MICA']"
   ]
  },
  {
   "cell_type": "code",
   "execution_count": 56,
   "metadata": {
    "collapsed": true
   },
   "outputs": [],
   "source": [
    "x = w2.las.curves['MINC_MICA']\n",
    "w1.las.add_curve(x.mnemonic,x.data,x.unit,x.descr,x.value)"
   ]
  },
  {
   "cell_type": "code",
   "execution_count": 54,
   "metadata": {
    "collapsed": false
   },
   "outputs": [],
   "source": []
  },
  {
   "cell_type": "code",
   "execution_count": 55,
   "metadata": {
    "collapsed": false
   },
   "outputs": [
    {
     "data": {
      "text/plain": [
       "(37187, 24)"
      ]
     },
     "execution_count": 55,
     "metadata": {},
     "output_type": "execute_result"
    }
   ],
   "source": [
    "w1.las.data.shape"
   ]
  },
  {
   "cell_type": "code",
   "execution_count": 40,
   "metadata": {
    "collapsed": false
   },
   "outputs": [
    {
     "name": "stdout",
     "output_type": "stream",
     "text": [
      "Help on method add_curve in module lasio.las:\n",
      "\n",
      "add_curve(mnemonic, data, unit='', descr='', value='') method of lasio.las.LASFile instance\n",
      "\n"
     ]
    }
   ],
   "source": [
    "help(w1.las.add_curve)  # There is no __repr__() function yet."
   ]
  },
  {
   "cell_type": "code",
   "execution_count": null,
   "metadata": {
    "collapsed": true
   },
   "outputs": [],
   "source": [
    "help(w.las.)"
   ]
  },
  {
   "cell_type": "markdown",
   "metadata": {},
   "source": [
    "## Header\n",
    "\n",
    "Maybe should be called 'meta' as it's not really a header... "
   ]
  },
  {
   "cell_type": "code",
   "execution_count": 8,
   "metadata": {
    "collapsed": false
   },
   "outputs": [
    {
     "data": {
      "text/plain": [
       "{'name': 'SHELL ONONDAGA E-84'}"
      ]
     },
     "execution_count": 8,
     "metadata": {},
     "output_type": "execute_result"
    }
   ],
   "source": [
    "w.header"
   ]
  },
  {
   "cell_type": "code",
   "execution_count": 9,
   "metadata": {
    "collapsed": false
   },
   "outputs": [
    {
     "data": {
      "text/plain": [
       "'SHELL ONONDAGA E-84'"
      ]
     },
     "execution_count": 9,
     "metadata": {},
     "output_type": "execute_result"
    }
   ],
   "source": [
    "w.header.name"
   ]
  },
  {
   "cell_type": "markdown",
   "metadata": {},
   "source": [
    "## Curves\n",
    "\n",
    "Just a list of objects."
   ]
  },
  {
   "cell_type": "code",
   "execution_count": 10,
   "metadata": {
    "collapsed": false
   },
   "outputs": [
    {
     "data": {
      "text/plain": [
       "{'DEPT': Curve([  269.7,   269.8,   269.9, ...,  3988.1,  3988.2,  3988.3]),\n",
       " 'RTACC_BENT': Curve([ nan,  nan,  nan, ...,  nan,  nan,  nan]),\n",
       " 'RTACC_CHERT': Curve([ nan,  nan,  nan, ...,  nan,  nan,  nan]),\n",
       " 'RTACC_COAL': Curve([ nan,  nan,  nan, ...,  nan,  nan,  nan]),\n",
       " 'RTACC_CONGL': Curve([ nan,  nan,  nan, ...,  nan,  nan,  nan]),\n",
       " 'RTACC_DOL': Curve([ nan,  nan,  nan, ...,  nan,  nan,  nan]),\n",
       " 'RTACC_EVAP': Curve([ nan,  nan,  nan, ...,  nan,  nan,  nan]),\n",
       " 'RTACC_IGVOL': Curve([ nan,  nan,  nan, ...,  nan,  nan,  nan]),\n",
       " 'RTACC_LST': Curve([ 40.,  40.,  40., ...,  nan,  nan,  nan]),\n",
       " 'RTACC_SAND': Curve([ 50.,  50.,  50., ...,  nan,  nan,  nan]),\n",
       " 'RTACC_SHALE': Curve([ 10.,  10.,  10., ...,  nan,  nan,  nan]),\n",
       " 'RTACC_SID': Curve([ nan,  nan,  nan, ...,  nan,  nan,  nan]),\n",
       " 'RTACC_SILT': Curve([ nan,  nan,  nan, ...,  nan,  nan,  nan]),\n",
       " 'RTC_BENT': Curve([ nan,  nan,  nan, ...,  nan,  nan,  nan]),\n",
       " 'RTC_CHERT': Curve([ nan,  nan,  nan, ...,  nan,  nan,  nan]),\n",
       " 'RTC_COAL': Curve([ nan,  nan,  nan, ...,  nan,  nan,  nan]),\n",
       " 'RTC_CONGL': Curve([ nan,  nan,  nan, ...,  nan,  nan,  nan]),\n",
       " 'RTC_DOL': Curve([ nan,  nan,  nan, ...,  nan,  nan,  nan]),\n",
       " 'RTC_LST': Curve([ nan,  nan,  nan, ...,  nan,  nan,  nan]),\n",
       " 'RTC_SAND': Curve([ 50.,  50.,  50., ...,  nan,  nan,  nan]),\n",
       " 'RTC_SHALE': Curve([ nan,  nan,  nan, ...,  nan,  nan,  nan]),\n",
       " 'RTC_SID': Curve([ nan,  nan,  nan, ...,  nan,  nan,  nan]),\n",
       " 'RTC_SILT': Curve([ nan,  nan,  nan, ...,  nan,  nan,  nan])}"
      ]
     },
     "execution_count": 10,
     "metadata": {},
     "output_type": "execute_result"
    }
   ],
   "source": [
    "w.curves"
   ]
  },
  {
   "cell_type": "code",
   "execution_count": 12,
   "metadata": {
    "collapsed": false
   },
   "outputs": [
    {
     "data": {
      "image/png": "[encoded data removed]",
      "text/plain": [
       "<matplotlib.figure.Figure at 0x10de78be0>"
      ]
     },
     "metadata": {},
     "output_type": "display_data"
    }
   ],
   "source": [
    "w.curves['RTACC_SAND'].plot()"
   ]
  },
  {
   "cell_type": "code",
   "execution_count": 24,
   "metadata": {
    "collapsed": true
   },
   "outputs": [],
   "source": [
    "depth = w.las.curves['DEPT']"
   ]
  },
  {
   "cell_type": "code",
   "execution_count": 36,
   "metadata": {
    "collapsed": false
   },
   "outputs": [
    {
     "data": {
      "text/plain": [
       "<lasio.las.LASFile at 0x107552748>"
      ]
     },
     "execution_count": 36,
     "metadata": {},
     "output_type": "execute_result"
    }
   ],
   "source": [
    "w.las."
   ]
  },
  {
   "cell_type": "code",
   "execution_count": 26,
   "metadata": {
    "collapsed": true
   },
   "outputs": [],
   "source": [
    "import matplotlib.pyplot as plt"
   ]
  },
  {
   "cell_type": "code",
   "execution_count": 28,
   "metadata": {
    "collapsed": false
   },
   "outputs": [
    {
     "data": {
      "text/plain": [
       "[<matplotlib.lines.Line2D at 0x10dd27f60>]"
      ]
     },
     "execution_count": 28,
     "metadata": {},
     "output_type": "execute_result"
    },
    {
     "data": {
      "image/png": "[encoded data removed]",
      "text/plain": [
       "<matplotlib.figure.Figure at 0x10deb2ef0>"
      ]
     },
     "metadata": {},
     "output_type": "display_data"
    }
   ],
   "source": [
    "plt.plot(shale.data, depth.data)"
   ]
  },
  {
   "cell_type": "code",
   "execution_count": null,
   "metadata": {
    "collapsed": true
   },
   "outputs": [],
   "source": [
    "import numpy as np"
   ]
  },
  {
   "cell_type": "code",
   "execution_count": 43,
   "metadata": {
    "collapsed": false
   },
   "outputs": [
    {
     "data": {
      "image/png": "[encoded data removed]",
      "text/plain": [
       "<matplotlib.figure.Figure at 0x109ed4550>"
      ]
     },
     "metadata": {},
     "output_type": "display_data"
    }
   ],
   "source": [
    "segment = w.curves['GR'].segment((600,650))\n",
    "\n",
    "segment.plot()"
   ]
  },
  {
   "cell_type": "markdown",
   "metadata": {},
   "source": [
    "# Make a blocky log"
   ]
  },
  {
   "cell_type": "code",
   "execution_count": 49,
   "metadata": {
    "collapsed": false
   },
   "outputs": [],
   "source": [
    "import matplotlib.pyplot as plt"
   ]
  },
  {
   "cell_type": "code",
   "execution_count": 63,
   "metadata": {
    "collapsed": false
   },
   "outputs": [
    {
     "data": {
      "image/png": "[encoded data removed]",
      "text/plain": [
       "<matplotlib.figure.Figure at 0x10ad57d68>"
      ]
     },
     "metadata": {},
     "output_type": "display_data"
    }
   ],
   "source": [
    "bins=[20,50,90,120,150]\n",
    "block = segment.block(bins=bins, function=np.mean)\n",
    "\n",
    "f = plt.figure(figsize=(3,10))\n",
    "plt.plot(segment.data, segment.basis, 'k', lw=0.5)\n",
    "plt.plot(block.data, block.basis, 'b', lw=1)\n",
    "for i in bins:\n",
    "    plt.axvline(x=i, ymin=0, ymax = 150, linewidth=2, color='r', alpha=0.25)\n",
    "plt.gca().invert_yaxis()\n",
    "plt.grid('off')"
   ]
  },
  {
   "cell_type": "code",
   "execution_count": 73,
   "metadata": {
    "collapsed": false
   },
   "outputs": [],
   "source": [
    "GR = w.curves['GR']\n",
    "GR.step"
   ]
  },
  {
   "cell_type": "code",
   "execution_count": 40,
   "metadata": {
    "collapsed": false
   },
   "outputs": [
    {
     "data": {
      "text/plain": [
       "<matplotlib.text.Text at 0x109c99f98>"
      ]
     },
     "execution_count": 40,
     "metadata": {},
     "output_type": "execute_result"
    },
    {
     "data": {
      "image/png": "[encoded data removed]",
      "text/plain": [
       "<matplotlib.figure.Figure at 0x109c2dfd0>"
      ]
     },
     "metadata": {},
     "output_type": "display_data"
    }
   ],
   "source": [
    "\n",
    "plt.scatter(block.data, segment.data, alpha=0.1)\n",
    "for i in bins:\n",
    "    plt.axvline(x=i, ymin=0, ymax = 150, linewidth=2, color='k')\n",
    "plt.xlabel('blocked value')\n",
    "plt.ylabel('data values')"
   ]
  },
  {
   "cell_type": "code",
   "execution_count": 172,
   "metadata": {
    "collapsed": false
   },
   "outputs": [],
   "source": [
    "t1, b1 = 600, 650\n",
    "t2, b2 = 700, 750\n",
    "\n",
    "# grabs some segments of the log\n",
    "segment1 = w.curves['GR'].segment((t1,b1))\n",
    "segment2 = w.curves['GR'].segment((t2,b2))\n",
    "segment12 = w.curves['GR'].segment((t1,b2)) # segment with no gaps\n",
    "\n",
    "# make some gaps\n",
    "gapspan = 82\n",
    "dgap = gapspan*0.1524\n",
    "missing_top = np.full(gapspan, np.nan)  # this is approximately 12.5 m worth of samples\n",
    "missing_bottom = np.full(gapspan, np.nan)  # this is approximately 12.5 m worth of samples\n",
    "gap = np.full(4*gapspan, np.nan)  # this is approximately 12.5 m worth of samples\n",
    "\n",
    "# concate it all together\n",
    "gapdata = np.hstack([missing_top, \n",
    "                     segment1.data, \n",
    "                     gap, \n",
    "                     segment2.data, \n",
    "                     missing_bottom])"
   ]
  },
  {
   "cell_type": "code",
   "execution_count": 173,
   "metadata": {
    "collapsed": false
   },
   "outputs": [
    {
     "data": {
      "text/plain": [
       "[<matplotlib.lines.Line2D at 0x10c60e908>]"
      ]
     },
     "execution_count": 173,
     "metadata": {},
     "output_type": "execute_result"
    },
    {
     "data": {
      "image/png": "[encoded data removed]",
      "text/plain": [
       "<matplotlib.figure.Figure at 0x10b1df7f0>"
      ]
     },
     "metadata": {},
     "output_type": "display_data"
    }
   ],
   "source": [
    "plt.plot(gapdata)"
   ]
  },
  {
   "cell_type": "code",
   "execution_count": 174,
   "metadata": {
    "collapsed": false
   },
   "outputs": [
    {
     "name": "stdout",
     "output_type": "stream",
     "text": [
      "1148\n"
     ]
    }
   ],
   "source": [
    "print(len(gapdata))"
   ]
  },
  {
   "cell_type": "code",
   "execution_count": 175,
   "metadata": {
    "collapsed": false
   },
   "outputs": [
    {
     "name": "stdout",
     "output_type": "stream",
     "text": [
      "1148\n"
     ]
    }
   ],
   "source": [
    "md = np.linspace(t1-dgap,b2+dgap,len(gapdata))\n",
    "\n",
    "print (len(md))\n"
   ]
  },
  {
   "cell_type": "code",
   "execution_count": 179,
   "metadata": {
    "collapsed": false
   },
   "outputs": [
    {
     "data": {
      "text/plain": [
       "[<matplotlib.lines.Line2D at 0x10aa79550>]"
      ]
     },
     "execution_count": 179,
     "metadata": {},
     "output_type": "execute_result"
    },
    {
     "data": {
      "image/png": "[encoded data removed]",
      "text/plain": [
       "<matplotlib.figure.Figure at 0x10a412f60>"
      ]
     },
     "metadata": {},
     "output_type": "display_data"
    }
   ],
   "source": [
    "plt.plot(segment12.data, segment12.basis,'g',alpha=0.25) # segment w.o. gaps"
   ]
  },
  {
   "cell_type": "code",
   "execution_count": 182,
   "metadata": {
    "collapsed": false
   },
   "outputs": [
    {
     "data": {
      "image/png": "[encoded data removed]",
      "text/plain": [
       "<matplotlib.figure.Figure at 0x10a31bc88>"
      ]
     },
     "metadata": {},
     "output_type": "display_data"
    }
   ],
   "source": [
    "import matplotlib.patches as patches\n",
    "\n",
    "fig = plt.figure(figsize=(2,10))\n",
    "ax = fig.add_subplot(111)\n",
    "ax.plot(segment12.data, segment12.basis,'g--',alpha=0.25) # segment w.o. gaps\n",
    "ax.plot(gapdata, md)\n",
    "\n",
    "for i,j in zip([t1-dgap,b1,b2],[t1,t2,b2+dgap]):\n",
    "    ax.add_patch(patches.Rectangle(\n",
    "                (0, i),   # (x,y)\n",
    "                140, j-i,    # height\n",
    "                hatch='\\\\',\n",
    "                facecolor='white', alpha=0.15) )\n",
    "\n",
    "ax.set_ylim(t1-dgap, b2+dgap)\n",
    "\n",
    "ax.invert_yaxis()\n"
   ]
  },
  {
   "cell_type": "code",
   "execution_count": 171,
   "metadata": {
    "collapsed": true
   },
   "outputs": [],
   "source": [
    "data_w_gaps = np.vstack([md, gapdata])\n",
    "np.save('data_w_null_gaps', data_w_gaps)"
   ]
  },
  {
   "cell_type": "markdown",
   "metadata": {},
   "source": [
    "### Keep start and stop but resample"
   ]
  },
  {
   "cell_type": "code",
   "execution_count": null,
   "metadata": {
    "collapsed": true
   },
   "outputs": [],
   "source": []
  },
  {
   "cell_type": "code",
   "execution_count": null,
   "metadata": {
    "collapsed": true
   },
   "outputs": [],
   "source": [
    "Change start and "
   ]
  },
  {
   "cell_type": "code",
   "execution_count": null,
   "metadata": {
    "collapsed": true
   },
   "outputs": [],
   "source": []
  },
  {
   "cell_type": "markdown",
   "metadata": {},
   "source": []
  }
 ],
 "metadata": {
  "kernelspec": {
   "display_name": "Python 3",
   "language": "python",
   "name": "python3"
  },
  "language_info": {
   "codemirror_mode": {
    "name": "ipython",
    "version": 3
   },
   "file_extension": ".py",
   "mimetype": "text/x-python",
   "name": "python",
   "nbconvert_exporter": "python",
   "pygments_lexer": "ipython3",
   "version": "3.5.1"
  }
 },
 "nbformat": 4,
 "nbformat_minor": 0
}
