{
 "cells": [
  {
   "cell_type": "markdown",
   "metadata": {},
   "source": [
    "## Well basics\n",
    "\n",
    "Some preliminaries..."
   ]
  },
  {
   "cell_type": "code",
   "execution_count": 1,
   "metadata": {
    "collapsed": false
   },
   "outputs": [
    {
     "data": {
      "text/plain": [
       "'0.1.0'"
      ]
     },
     "execution_count": 1,
     "metadata": {},
     "output_type": "execute_result"
    }
   ],
   "source": [
    "%matplotlib inline\n",
    "import welly\n",
    "welly.__version__"
   ]
  },
  {
   "cell_type": "markdown",
   "metadata": {},
   "source": [
    "## Load a well\n",
    "\n",
    "Use the `from_las()` method to load a well by passing a filename as a `str`. \n",
    "\n",
    "This is really just a wrapper for `lasio` but instantiates a `Header`, `Curve`s, etc."
   ]
  },
  {
   "cell_type": "code",
   "execution_count": 2,
   "metadata": {
    "collapsed": false
   },
   "outputs": [],
   "source": [
    "from welly import Well\n",
    "w = Well.from_las('P-129_out.LAS')"
   ]
  },
  {
   "cell_type": "code",
   "execution_count": 3,
   "metadata": {
    "collapsed": false
   },
   "outputs": [
    {
     "data": {
      "text/plain": [
       "<welly.well.Well at 0x10b9d64a8>"
      ]
     },
     "execution_count": 3,
     "metadata": {},
     "output_type": "execute_result"
    }
   ],
   "source": [
    "w  # There is no __repr__() function yet."
   ]
  },
  {
   "cell_type": "markdown",
   "metadata": {},
   "source": [
    "## Header\n",
    "\n",
    "Maybe should be called 'meta' as it's not really a header... "
   ]
  },
  {
   "cell_type": "code",
   "execution_count": 4,
   "metadata": {
    "collapsed": false
   },
   "outputs": [
    {
     "data": {
      "text/plain": [
       "{'license': 'P-129', 'name': 'Kennetcook #2', 'field': 'Windsor Block'}"
      ]
     },
     "execution_count": 4,
     "metadata": {},
     "output_type": "execute_result"
    }
   ],
   "source": [
    "w.header"
   ]
  },
  {
   "cell_type": "code",
   "execution_count": 5,
   "metadata": {
    "collapsed": false
   },
   "outputs": [
    {
     "data": {
      "text/plain": [
       "'Kennetcook #2'"
      ]
     },
     "execution_count": 5,
     "metadata": {},
     "output_type": "execute_result"
    }
   ],
   "source": [
    "w.header.name"
   ]
  },
  {
   "cell_type": "markdown",
   "metadata": {},
   "source": [
    "## Curves\n",
    "\n",
    "Just a list of objects."
   ]
  },
  {
   "cell_type": "code",
   "execution_count": 6,
   "metadata": {
    "collapsed": false
   },
   "outputs": [
    {
     "data": {
      "text/plain": [
       "{'CALI': <welly.curve.Curve at 0x107f07eb8>,\n",
       " 'DEPT': <welly.curve.Curve at 0x107f07f28>,\n",
       " 'DPHI_DOL': <welly.curve.Curve at 0x10b9d6048>,\n",
       " 'DPHI_LIM': <welly.curve.Curve at 0x10b9d7ac8>,\n",
       " 'DPHI_SAN': <welly.curve.Curve at 0x10a34cdd8>,\n",
       " 'DRHO': <welly.curve.Curve at 0x10b9d6390>,\n",
       " 'DT': <welly.curve.Curve at 0x10a34cb70>,\n",
       " 'DTS': <welly.curve.Curve at 0x10a34cef0>,\n",
       " 'GR': <welly.curve.Curve at 0x10b9d6400>,\n",
       " 'HCAL': <welly.curve.Curve at 0x10a341ef0>,\n",
       " 'NPHI_DOL': <welly.curve.Curve at 0x10b9d6160>,\n",
       " 'NPHI_LIM': <welly.curve.Curve at 0x10b9d6128>,\n",
       " 'NPHI_SAN': <welly.curve.Curve at 0x10b9d60f0>,\n",
       " 'PEF': <welly.curve.Curve at 0x10a34cb38>,\n",
       " 'RHOB': <welly.curve.Curve at 0x10b9d63c8>,\n",
       " 'RLA1': <welly.curve.Curve at 0x10b9d6240>,\n",
       " 'RLA2': <welly.curve.Curve at 0x10b9d6278>,\n",
       " 'RLA3': <welly.curve.Curve at 0x10b9d61d0>,\n",
       " 'RLA4': <welly.curve.Curve at 0x10b9d6208>,\n",
       " 'RLA5': <welly.curve.Curve at 0x10b9d6198>,\n",
       " 'RM_HRLT': <welly.curve.Curve at 0x10b9d6358>,\n",
       " 'RT_HRLT': <welly.curve.Curve at 0x10b9d6320>,\n",
       " 'RXOZ': <welly.curve.Curve at 0x10b9d62b0>,\n",
       " 'RXO_HRLT': <welly.curve.Curve at 0x10b9d62e8>,\n",
       " 'SP': <welly.curve.Curve at 0x10b9d6438>}"
      ]
     },
     "execution_count": 6,
     "metadata": {},
     "output_type": "execute_result"
    }
   ],
   "source": [
    "w.curves  # Just a list of curves objects."
   ]
  },
  {
   "cell_type": "code",
   "execution_count": 7,
   "metadata": {
    "collapsed": false
   },
   "outputs": [
    {
     "data": {
      "text/plain": [
       "array([ 1.0668,  1.2192,  1.3716,  1.524 ,  1.6764,  1.8288,  1.9812,\n",
       "        2.1336,  2.286 ,  2.4384,  2.5908,  2.7432,  2.8956,  3.048 ,\n",
       "        3.2004])"
      ]
     },
     "execution_count": 7,
     "metadata": {},
     "output_type": "execute_result"
    }
   ],
   "source": [
    "w.curves['GR'].basis[:15]"
   ]
  },
  {
   "cell_type": "code",
   "execution_count": 8,
   "metadata": {
    "collapsed": false
   },
   "outputs": [
    {
     "data": {
      "image/png": "[encoded data removed]",
      "text/plain": [
       "<matplotlib.figure.Figure at 0x10b9d67b8>"
      ]
     },
     "metadata": {},
     "output_type": "display_data"
    }
   ],
   "source": [
    "w.curves['GR'].plot()"
   ]
  },
  {
   "cell_type": "code",
   "execution_count": 9,
   "metadata": {
    "collapsed": false
   },
   "outputs": [
    {
     "data": {
      "text/plain": [
       "97.99112340886289"
      ]
     },
     "execution_count": 9,
     "metadata": {},
     "output_type": "execute_result"
    }
   ],
   "source": [
    "w.curves['GR'].read_at(1001)  # read_at([100, 200, 300])  # array-like"
   ]
  },
  {
   "cell_type": "code",
   "execution_count": 10,
   "metadata": {
    "collapsed": false
   },
   "outputs": [
    {
     "ename": "NotImplementedError",
     "evalue": "We haven't written this functoin yet!",
     "output_type": "error",
     "traceback": [
      "\u001b[0;31m---------------------------------------------------------------------------\u001b[0m",
      "\u001b[0;31mNotImplementedError\u001b[0m                       Traceback (most recent call last)",
      "\u001b[0;32m<ipython-input-10-3a32ce967fc1>\u001b[0m in \u001b[0;36m<module>\u001b[0;34m()\u001b[0m\n\u001b[0;32m----> 1\u001b[0;31m \u001b[0mw\u001b[0m\u001b[0;34m.\u001b[0m\u001b[0mcurves\u001b[0m\u001b[0;34m[\u001b[0m\u001b[0;34m'GR'\u001b[0m\u001b[0;34m]\u001b[0m\u001b[0;34m.\u001b[0m\u001b[0msegment\u001b[0m\u001b[0;34m(\u001b[0m\u001b[0;34m(\u001b[0m\u001b[0;36m1000\u001b[0m\u001b[0;34m,\u001b[0m \u001b[0;36m1200\u001b[0m\u001b[0;34m)\u001b[0m\u001b[0;34m,\u001b[0m \u001b[0mreturn_basis\u001b[0m\u001b[0;34m=\u001b[0m\u001b[0;32mTrue\u001b[0m\u001b[0;34m)\u001b[0m   \u001b[0;31m# optional: new step  # optional pass back basis\u001b[0m\u001b[0;34m\u001b[0m\u001b[0m\n\u001b[0m",
      "\u001b[0;32m/Users/matt/anaconda/envs/python3/lib/python3.4/site-packages/welly/curve.py\u001b[0m in \u001b[0;36msegment\u001b[0;34m(self, depths, return_basis)\u001b[0m\n\u001b[1;32m     89\u001b[0m         \u001b[0mReturns\u001b[0m \u001b[0ma\u001b[0m \u001b[0;34m'segment'\u001b[0m \u001b[0;34m(\u001b[0m\u001b[0mchunk\u001b[0m \u001b[0;32mor\u001b[0m \u001b[0mslice\u001b[0m\u001b[0;34m)\u001b[0m \u001b[0mof\u001b[0m \u001b[0ma\u001b[0m \u001b[0mcurve\u001b[0m\u001b[0;34m.\u001b[0m\u001b[0;34m\u001b[0m\u001b[0m\n\u001b[1;32m     90\u001b[0m         \"\"\"\n\u001b[0;32m---> 91\u001b[0;31m         \u001b[0;32mraise\u001b[0m \u001b[0mNotImplementedError\u001b[0m\u001b[0;34m(\u001b[0m\u001b[0;34m\"We haven't written this functoin yet!\"\u001b[0m\u001b[0;34m)\u001b[0m\u001b[0;34m\u001b[0m\u001b[0m\n\u001b[0m\u001b[1;32m     92\u001b[0m \u001b[0;34m\u001b[0m\u001b[0m\n\u001b[1;32m     93\u001b[0m     \u001b[0;32mdef\u001b[0m \u001b[0mread_at\u001b[0m\u001b[0;34m(\u001b[0m\u001b[0mself\u001b[0m\u001b[0;34m,\u001b[0m \u001b[0md\u001b[0m\u001b[0;34m,\u001b[0m \u001b[0minterpolation\u001b[0m\u001b[0;34m=\u001b[0m\u001b[0;34m'linear'\u001b[0m\u001b[0;34m,\u001b[0m \u001b[0mindex\u001b[0m\u001b[0;34m=\u001b[0m\u001b[0;32mFalse\u001b[0m\u001b[0;34m,\u001b[0m \u001b[0mreturn_basis\u001b[0m\u001b[0;34m=\u001b[0m\u001b[0;32mFalse\u001b[0m\u001b[0;34m)\u001b[0m\u001b[0;34m:\u001b[0m\u001b[0;34m\u001b[0m\u001b[0m\n",
      "\u001b[0;31mNotImplementedError\u001b[0m: We haven't written this functoin yet!"
     ]
    }
   ],
   "source": [
    "w.curves['GR'].segment((1000, 1200), return_basis=True)   # optional: new step  # optional pass back basis"
   ]
  },
  {
   "cell_type": "code",
   "execution_count": null,
   "metadata": {
    "collapsed": true
   },
   "outputs": [],
   "source": []
  }
 ],
 "metadata": {
  "kernelspec": {
   "display_name": "Python 3",
   "language": "python",
   "name": "python3"
  },
  "language_info": {
   "codemirror_mode": {
    "name": "ipython",
    "version": 3
   },
   "file_extension": ".py",
   "mimetype": "text/x-python",
   "name": "python",
   "nbconvert_exporter": "python",
   "pygments_lexer": "ipython3",
   "version": "3.4.3"
  }
 },
 "nbformat": 4,
 "nbformat_minor": 0
}
