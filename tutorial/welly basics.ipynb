{
 "cells": [
  {
   "cell_type": "markdown",
   "metadata": {},
   "source": [
    "## Well basics\n",
    "\n",
    "Some preliminaries..."
   ]
  },
  {
   "cell_type": "code",
   "execution_count": 1,
   "metadata": {
    "collapsed": false
   },
   "outputs": [
    {
     "data": {
      "text/plain": [
       "'0.1.0'"
      ]
     },
     "execution_count": 1,
     "metadata": {},
     "output_type": "execute_result"
    }
   ],
   "source": [
    "%matplotlib inline\n",
    "import welly\n",
    "welly.__version__"
   ]
  },
  {
   "cell_type": "markdown",
   "metadata": {},
   "source": [
    "## Load a well\n",
    "\n",
    "Use the `from_las()` method to load a well by passing a filename as a `str`. \n",
    "\n",
    "This is really just a wrapper for `lasio` but instantiates a `Header`, `Curve`s, etc."
   ]
  },
  {
   "cell_type": "code",
   "execution_count": 2,
   "metadata": {
    "collapsed": false
   },
   "outputs": [],
   "source": [
    "from welly import Well\n",
    "w = Well.from_las('P-129_out.LAS')"
   ]
  },
  {
   "cell_type": "code",
   "execution_count": 3,
   "metadata": {
    "collapsed": false
   },
   "outputs": [
    {
     "data": {
      "text/plain": [
       "<welly.well.Well at 0x10aa73f98>"
      ]
     },
     "execution_count": 3,
     "metadata": {},
     "output_type": "execute_result"
    }
   ],
   "source": [
    "w  # There is no __repr__() function yet."
   ]
  },
  {
   "cell_type": "markdown",
   "metadata": {},
   "source": [
    "## Header\n",
    "\n",
    "Maybe should be called 'meta' as it's not really a header... "
   ]
  },
  {
   "cell_type": "code",
   "execution_count": 4,
   "metadata": {
    "collapsed": false
   },
   "outputs": [
    {
     "data": {
      "text/plain": [
       "{'license': 'P-129', 'name': 'Kennetcook #2', 'field': 'Windsor Block'}"
      ]
     },
     "execution_count": 4,
     "metadata": {},
     "output_type": "execute_result"
    }
   ],
   "source": [
    "w.header"
   ]
  },
  {
   "cell_type": "code",
   "execution_count": 5,
   "metadata": {
    "collapsed": false
   },
   "outputs": [
    {
     "data": {
      "text/plain": [
       "'Kennetcook #2'"
      ]
     },
     "execution_count": 5,
     "metadata": {},
     "output_type": "execute_result"
    }
   ],
   "source": [
    "w.header.name"
   ]
  },
  {
   "cell_type": "markdown",
   "metadata": {},
   "source": [
    "## Curves\n",
    "\n",
    "Just a list of objects."
   ]
  },
  {
   "cell_type": "code",
   "execution_count": 6,
   "metadata": {
    "collapsed": false
   },
   "outputs": [
    {
     "data": {
      "text/plain": [
       "{'CALI': <welly.curve.Curve at 0x105ff75c0>,\n",
       " 'DEPT': <welly.curve.Curve at 0x105ff7cc0>,\n",
       " 'DPHI_DOL': <welly.curve.Curve at 0x10aa73be0>,\n",
       " 'DPHI_LIM': <welly.curve.Curve at 0x10aa73ac8>,\n",
       " 'DPHI_SAN': <welly.curve.Curve at 0x10aa73a90>,\n",
       " 'DRHO': <welly.curve.Curve at 0x10aa73e80>,\n",
       " 'DT': <welly.curve.Curve at 0x10aa73b38>,\n",
       " 'DTS': <welly.curve.Curve at 0x10aa73b00>,\n",
       " 'GR': <welly.curve.Curve at 0x10aa73ef0>,\n",
       " 'HCAL': <welly.curve.Curve at 0x10aa68e10>,\n",
       " 'NPHI_DOL': <welly.curve.Curve at 0x10aa73c50>,\n",
       " 'NPHI_LIM': <welly.curve.Curve at 0x10aa73c18>,\n",
       " 'NPHI_SAN': <welly.curve.Curve at 0x10aa73ba8>,\n",
       " 'PEF': <welly.curve.Curve at 0x10aa73b70>,\n",
       " 'RHOB': <welly.curve.Curve at 0x10aa73eb8>,\n",
       " 'RLA1': <welly.curve.Curve at 0x10aa73d30>,\n",
       " 'RLA2': <welly.curve.Curve at 0x10aa73d68>,\n",
       " 'RLA3': <welly.curve.Curve at 0x10aa73cc0>,\n",
       " 'RLA4': <welly.curve.Curve at 0x10aa73cf8>,\n",
       " 'RLA5': <welly.curve.Curve at 0x10aa73c88>,\n",
       " 'RM_HRLT': <welly.curve.Curve at 0x10aa73e48>,\n",
       " 'RT_HRLT': <welly.curve.Curve at 0x10aa73e10>,\n",
       " 'RXOZ': <welly.curve.Curve at 0x10aa73da0>,\n",
       " 'RXO_HRLT': <welly.curve.Curve at 0x10aa73dd8>,\n",
       " 'SP': <welly.curve.Curve at 0x10aa73f28>}"
      ]
     },
     "execution_count": 6,
     "metadata": {},
     "output_type": "execute_result"
    }
   ],
   "source": [
    "w.curves  # Just a list of curves objects."
   ]
  },
  {
   "cell_type": "code",
   "execution_count": 7,
   "metadata": {
    "collapsed": false
   },
   "outputs": [
    {
     "data": {
      "text/plain": [
       "array([ 1.0668,  1.2192,  1.3716,  1.524 ,  1.6764,  1.8288,  1.9812,\n",
       "        2.1336,  2.286 ,  2.4384,  2.5908,  2.7432,  2.8956,  3.048 ,\n",
       "        3.2004])"
      ]
     },
     "execution_count": 7,
     "metadata": {},
     "output_type": "execute_result"
    }
   ],
   "source": [
    "w.curves['GR'].basis[:15]"
   ]
  },
  {
   "cell_type": "code",
   "execution_count": 8,
   "metadata": {
    "collapsed": false
   },
   "outputs": [
    {
     "data": {
      "image/png": "[encoded data removed]",
      "text/plain": [
       "<matplotlib.figure.Figure at 0x10864b240>"
      ]
     },
     "metadata": {},
     "output_type": "display_data"
    }
   ],
   "source": [
    "w.curves['GR'].plot()"
   ]
  },
  {
   "cell_type": "code",
   "execution_count": 9,
   "metadata": {
    "collapsed": false
   },
   "outputs": [
    {
     "data": {
      "text/plain": [
       "121.88298959622053"
      ]
     },
     "execution_count": 9,
     "metadata": {},
     "output_type": "execute_result"
    }
   ],
   "source": [
    "w.curves['GR'].read_at(1002)  # read_at([100, 200, 300])  # array-like"
   ]
  },
  {
   "cell_type": "code",
   "execution_count": 12,
   "metadata": {
    "collapsed": false
   },
   "outputs": [],
   "source": [
    "sgmt = w.curves['GR'].segment((1000, 1200))   # optional: new step  # optional pass back basis"
   ]
  },
  {
   "cell_type": "code",
   "execution_count": 15,
   "metadata": {
    "collapsed": false
   },
   "outputs": [
    {
     "data": {
      "text/plain": [
       "[<matplotlib.lines.Line2D at 0x10a38ba90>]"
      ]
     },
     "execution_count": 15,
     "metadata": {},
     "output_type": "execute_result"
    },
    {
     "data": {
      "image/png": "[encoded data removed]",
      "text/plain": [
       "<matplotlib.figure.Figure at 0x10eec6470>"
      ]
     },
     "metadata": {},
     "output_type": "display_data"
    }
   ],
   "source": [
    "import matplotlib.pyplot as plt\n",
    "plt.plot(sgmt)"
   ]
  },
  {
   "cell_type": "code",
   "execution_count": null,
   "metadata": {
    "collapsed": true
   },
   "outputs": [],
   "source": []
  }
 ],
 "metadata": {
  "kernelspec": {
   "display_name": "Python 3",
   "language": "python",
   "name": "python3"
  },
  "language_info": {
   "codemirror_mode": {
    "name": "ipython",
    "version": 3
   },
   "file_extension": ".py",
   "mimetype": "text/x-python",
   "name": "python",
   "nbconvert_exporter": "python",
   "pygments_lexer": "ipython3",
   "version": "3.5.1"
  }
 },
 "nbformat": 4,
 "nbformat_minor": 0
}
