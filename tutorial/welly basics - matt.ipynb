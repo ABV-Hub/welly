{
 "cells": [
  {
   "cell_type": "markdown",
   "metadata": {},
   "source": [
    "## Well basics\n",
    "\n",
    "Some preliminaries..."
   ]
  },
  {
   "cell_type": "code",
   "execution_count": 1,
   "metadata": {
    "collapsed": false
   },
   "outputs": [
    {
     "data": {
      "text/plain": [
       "'0.1.0'"
      ]
     },
     "execution_count": 1,
     "metadata": {},
     "output_type": "execute_result"
    }
   ],
   "source": [
    "%matplotlib inline\n",
    "import welly\n",
    "welly.__version__"
   ]
  },
  {
   "cell_type": "markdown",
   "metadata": {},
   "source": [
    "## Load a well\n",
    "\n",
    "Use the `from_las()` method to load a well by passing a filename as a `str`. \n",
    "\n",
    "This is really just a wrapper for `lasio` but instantiates a `Header`, `Curve`s, etc."
   ]
  },
  {
   "cell_type": "code",
   "execution_count": 2,
   "metadata": {
    "collapsed": false
   },
   "outputs": [],
   "source": [
    "from welly import Well\n",
    "w = Well.from_las('P-129_out.LAS')"
   ]
  },
  {
   "cell_type": "code",
   "execution_count": 3,
   "metadata": {
    "collapsed": false
   },
   "outputs": [
    {
     "data": {
      "text/plain": [
       "<welly.well.Well at 0x10b89e5c0>"
      ]
     },
     "execution_count": 3,
     "metadata": {},
     "output_type": "execute_result"
    }
   ],
   "source": [
    "w  # There is no __repr__() function yet."
   ]
  },
  {
   "cell_type": "markdown",
   "metadata": {},
   "source": [
    "## Header\n",
    "\n",
    "Maybe should be called 'meta' as it's not really a header... "
   ]
  },
  {
   "cell_type": "code",
   "execution_count": 4,
   "metadata": {
    "collapsed": false
   },
   "outputs": [
    {
     "data": {
      "text/plain": [
       "{'name': 'Kennetcook #2', 'field': 'Windsor Block', 'license': 'P-129'}"
      ]
     },
     "execution_count": 4,
     "metadata": {},
     "output_type": "execute_result"
    }
   ],
   "source": [
    "w.header"
   ]
  },
  {
   "cell_type": "code",
   "execution_count": 5,
   "metadata": {
    "collapsed": false
   },
   "outputs": [
    {
     "data": {
      "text/plain": [
       "'Kennetcook #2'"
      ]
     },
     "execution_count": 5,
     "metadata": {},
     "output_type": "execute_result"
    }
   ],
   "source": [
    "w.header.name"
   ]
  },
  {
   "cell_type": "markdown",
   "metadata": {},
   "source": [
    "## Curves\n",
    "\n",
    "Just a list of objects."
   ]
  },
  {
   "cell_type": "code",
   "execution_count": 6,
   "metadata": {
    "collapsed": false
   },
   "outputs": [
    {
     "data": {
      "text/plain": [
       "{'CALI': <welly.curve.Curve at 0x10659a0f0>,\n",
       " 'DEPT': <welly.curve.Curve at 0x107dfbfd0>,\n",
       " 'DPHI_DOL': <welly.curve.Curve at 0x10b89e160>,\n",
       " 'DPHI_LIM': <welly.curve.Curve at 0x10b890be0>,\n",
       " 'DPHI_SAN': <welly.curve.Curve at 0x10a243f98>,\n",
       " 'DRHO': <welly.curve.Curve at 0x10b89e4a8>,\n",
       " 'DT': <welly.curve.Curve at 0x10a243c88>,\n",
       " 'DTS': <welly.curve.Curve at 0x10a243ef0>,\n",
       " 'GR': <welly.curve.Curve at 0x10b89e518>,\n",
       " 'HCAL': <welly.curve.Curve at 0x10a233f98>,\n",
       " 'NPHI_DOL': <welly.curve.Curve at 0x10b89e278>,\n",
       " 'NPHI_LIM': <welly.curve.Curve at 0x10b89e240>,\n",
       " 'NPHI_SAN': <welly.curve.Curve at 0x10b89e208>,\n",
       " 'PEF': <welly.curve.Curve at 0x10a243c50>,\n",
       " 'RHOB': <welly.curve.Curve at 0x10b89e4e0>,\n",
       " 'RLA1': <welly.curve.Curve at 0x10b89e358>,\n",
       " 'RLA2': <welly.curve.Curve at 0x10b89e390>,\n",
       " 'RLA3': <welly.curve.Curve at 0x10b89e2e8>,\n",
       " 'RLA4': <welly.curve.Curve at 0x10b89e320>,\n",
       " 'RLA5': <welly.curve.Curve at 0x10b89e2b0>,\n",
       " 'RM_HRLT': <welly.curve.Curve at 0x10b89e470>,\n",
       " 'RT_HRLT': <welly.curve.Curve at 0x10b89e438>,\n",
       " 'RXOZ': <welly.curve.Curve at 0x10b89e3c8>,\n",
       " 'RXO_HRLT': <welly.curve.Curve at 0x10b89e400>,\n",
       " 'SP': <welly.curve.Curve at 0x10b89e550>}"
      ]
     },
     "execution_count": 6,
     "metadata": {},
     "output_type": "execute_result"
    }
   ],
   "source": [
    "w.curves  # Just a dict of curves objects."
   ]
  },
  {
   "cell_type": "code",
   "execution_count": 7,
   "metadata": {
    "collapsed": false
   },
   "outputs": [
    {
     "data": {
      "text/plain": [
       "array([ 1.0668,  1.2192,  1.3716,  1.524 ,  1.6764,  1.8288,  1.9812,\n",
       "        2.1336,  2.286 ,  2.4384,  2.5908,  2.7432,  2.8956,  3.048 ,\n",
       "        3.2004])"
      ]
     },
     "execution_count": 7,
     "metadata": {},
     "output_type": "execute_result"
    }
   ],
   "source": [
    "w.curves['GR'].basis[:15]"
   ]
  },
  {
   "cell_type": "code",
   "execution_count": 8,
   "metadata": {
    "collapsed": false
   },
   "outputs": [
    {
     "data": {
      "image/png": "[encoded data removed]",
      "text/plain": [
       "<matplotlib.figure.Figure at 0x10b89e828>"
      ]
     },
     "metadata": {},
     "output_type": "display_data"
    }
   ],
   "source": [
    "w.curves['GR'].plot()"
   ]
  },
  {
   "cell_type": "code",
   "execution_count": 9,
   "metadata": {
    "collapsed": false
   },
   "outputs": [
    {
     "data": {
      "text/plain": [
       "97.99112340886289"
      ]
     },
     "execution_count": 9,
     "metadata": {},
     "output_type": "execute_result"
    }
   ],
   "source": [
    "gr = w.curves['GR']\n",
    "gr.read_at(1001)"
   ]
  },
  {
   "cell_type": "code",
   "execution_count": 10,
   "metadata": {
    "collapsed": false
   },
   "outputs": [
    {
     "data": {
      "text/plain": [
       "array([  97.99112341,  116.8162655 ,  104.1488654 ])"
      ]
     },
     "execution_count": 10,
     "metadata": {},
     "output_type": "execute_result"
    }
   ],
   "source": [
    "gr.read_at([1001, 1003, 1004])"
   ]
  },
  {
   "cell_type": "code",
   "execution_count": 11,
   "metadata": {
    "collapsed": false
   },
   "outputs": [
    {
     "name": "stdout",
     "output_type": "stream",
     "text": [
      "mean\n"
     ]
    },
    {
     "data": {
      "image/png": "[encoded data removed]",
      "text/plain": [
       "<matplotlib.figure.Figure at 0x107e30438>"
      ]
     },
     "metadata": {},
     "output_type": "display_data"
    }
   ],
   "source": [
    "import numpy as np\n",
    "gr.block(function=np.mean).plot()"
   ]
  },
  {
   "cell_type": "code",
   "execution_count": null,
   "metadata": {
    "collapsed": true
   },
   "outputs": [],
   "source": []
  },
  {
   "cell_type": "markdown",
   "metadata": {},
   "source": [
    "## Not implemented yet\n",
    "\n",
    "PUT WISHED-FOR APIS HERE."
   ]
  },
  {
   "cell_type": "markdown",
   "metadata": {},
   "source": [
    "A method to get a subset of the curve, from arbitrary depth to arbitrary depth, possibly resampling."
   ]
  },
  {
   "cell_type": "code",
   "execution_count": 10,
   "metadata": {
    "collapsed": false
   },
   "outputs": [
    {
     "ename": "NotImplementedError",
     "evalue": "We haven't written this functoin yet!",
     "output_type": "error",
     "traceback": [
      "\u001b[0;31m---------------------------------------------------------------------------\u001b[0m",
      "\u001b[0;31mNotImplementedError\u001b[0m                       Traceback (most recent call last)",
      "\u001b[0;32m<ipython-input-10-3a32ce967fc1>\u001b[0m in \u001b[0;36m<module>\u001b[0;34m()\u001b[0m\n\u001b[0;32m----> 1\u001b[0;31m \u001b[0mw\u001b[0m\u001b[0;34m.\u001b[0m\u001b[0mcurves\u001b[0m\u001b[0;34m[\u001b[0m\u001b[0;34m'GR'\u001b[0m\u001b[0;34m]\u001b[0m\u001b[0;34m.\u001b[0m\u001b[0msegment\u001b[0m\u001b[0;34m(\u001b[0m\u001b[0;34m(\u001b[0m\u001b[0;36m1000\u001b[0m\u001b[0;34m,\u001b[0m \u001b[0;36m1200\u001b[0m\u001b[0;34m)\u001b[0m\u001b[0;34m,\u001b[0m \u001b[0mreturn_basis\u001b[0m\u001b[0;34m=\u001b[0m\u001b[0;32mTrue\u001b[0m\u001b[0;34m)\u001b[0m   \u001b[0;31m# optional: new step  # optional pass back basis\u001b[0m\u001b[0;34m\u001b[0m\u001b[0m\n\u001b[0m",
      "\u001b[0;32m/Users/matt/anaconda/envs/python3/lib/python3.4/site-packages/welly/curve.py\u001b[0m in \u001b[0;36msegment\u001b[0;34m(self, depths, return_basis)\u001b[0m\n\u001b[1;32m     89\u001b[0m         \u001b[0mReturns\u001b[0m \u001b[0ma\u001b[0m \u001b[0;34m'segment'\u001b[0m \u001b[0;34m(\u001b[0m\u001b[0mchunk\u001b[0m \u001b[0;32mor\u001b[0m \u001b[0mslice\u001b[0m\u001b[0;34m)\u001b[0m \u001b[0mof\u001b[0m \u001b[0ma\u001b[0m \u001b[0mcurve\u001b[0m\u001b[0;34m.\u001b[0m\u001b[0;34m\u001b[0m\u001b[0m\n\u001b[1;32m     90\u001b[0m         \"\"\"\n\u001b[0;32m---> 91\u001b[0;31m         \u001b[0;32mraise\u001b[0m \u001b[0mNotImplementedError\u001b[0m\u001b[0;34m(\u001b[0m\u001b[0;34m\"We haven't written this functoin yet!\"\u001b[0m\u001b[0;34m)\u001b[0m\u001b[0;34m\u001b[0m\u001b[0m\n\u001b[0m\u001b[1;32m     92\u001b[0m \u001b[0;34m\u001b[0m\u001b[0m\n\u001b[1;32m     93\u001b[0m     \u001b[0;32mdef\u001b[0m \u001b[0mread_at\u001b[0m\u001b[0;34m(\u001b[0m\u001b[0mself\u001b[0m\u001b[0;34m,\u001b[0m \u001b[0md\u001b[0m\u001b[0;34m,\u001b[0m \u001b[0minterpolation\u001b[0m\u001b[0;34m=\u001b[0m\u001b[0;34m'linear'\u001b[0m\u001b[0;34m,\u001b[0m \u001b[0mindex\u001b[0m\u001b[0;34m=\u001b[0m\u001b[0;32mFalse\u001b[0m\u001b[0;34m,\u001b[0m \u001b[0mreturn_basis\u001b[0m\u001b[0;34m=\u001b[0m\u001b[0;32mFalse\u001b[0m\u001b[0;34m)\u001b[0m\u001b[0;34m:\u001b[0m\u001b[0;34m\u001b[0m\u001b[0m\n",
      "\u001b[0;31mNotImplementedError\u001b[0m: We haven't written this functoin yet!"
     ]
    }
   ],
   "source": [
    "w.curves['GR'].segment((1000, 1200), return_basis=True)   # optional: new step  # optional pass back basis"
   ]
  },
  {
   "cell_type": "code",
   "execution_count": null,
   "metadata": {
    "collapsed": true
   },
   "outputs": [],
   "source": []
  },
  {
   "cell_type": "code",
   "execution_count": 23,
   "metadata": {
    "collapsed": false
   },
   "outputs": [
    {
     "data": {
      "text/plain": [
       "array([2, 1, 1, 1, 0, 0, 1, 1, 3, 3, 3, 1, 0])"
      ]
     },
     "execution_count": 23,
     "metadata": {},
     "output_type": "execute_result"
    }
   ],
   "source": [
    "import numpy as np\n",
    "a = np.array([5,4,4,3.5, 3, 2.9, 3.5, 4, 6, 7, 6.5, 4, 2])\n",
    "bins = np.linspace(np.amin(a), np.amax(a), 4+1)\n",
    "np.digitize(a, bins=bins[:-1])"
   ]
  },
  {
   "cell_type": "code",
   "execution_count": 25,
   "metadata": {
    "collapsed": false
   },
   "outputs": [
    {
     "data": {
      "text/plain": [
       "array([ 2.  ,  3.25,  4.5 ,  5.75])"
      ]
     },
     "execution_count": 25,
     "metadata": {},
     "output_type": "execute_result"
    }
   ],
   "source": [
    "bins[:-1]"
   ]
  },
  {
   "cell_type": "code",
   "execution_count": null,
   "metadata": {
    "collapsed": true
   },
   "outputs": [],
   "source": []
  },
  {
   "cell_type": "code",
   "execution_count": 47,
   "metadata": {
    "collapsed": true
   },
   "outputs": [],
   "source": [
    "def find_edges(a):\n",
    "    \"\"\"\n",
    "    Return two arrays: one of the changes, and one of the values.\n",
    "\n",
    "    Returns:\n",
    "        tuple: Two ndarrays, tops and values.\n",
    "    \"\"\"\n",
    "    print(a)\n",
    "    \n",
    "    edges = a[1:] == a[:-1]\n",
    "    print(edges)\n",
    "    \n",
    "    tops = np.where(~edges)[0] + 1\n",
    "    tops = np.append(0, tops)\n",
    "    print(tops)\n",
    "\n",
    "    values = a[tops]\n",
    "\n",
    "    return tops, values\n"
   ]
  },
  {
   "cell_type": "code",
   "execution_count": 63,
   "metadata": {
    "collapsed": false
   },
   "outputs": [
    {
     "name": "stdout",
     "output_type": "stream",
     "text": [
      "[3 3 4 4 4 4 6 6 4 4 2 2 1]\n",
      "[ True False  True  True  True False  True False  True False  True False]\n",
      "[ 0  2  6  8 10 12]\n"
     ]
    },
    {
     "data": {
      "text/plain": [
       "array([ 0,  2,  6,  8, 10, 12])"
      ]
     },
     "execution_count": 63,
     "metadata": {},
     "output_type": "execute_result"
    }
   ],
   "source": [
    "a = np.array([3,3,4,4,4,4,6,6,4,4,2,2,1])\n",
    "t, _ = find_edges(a)\n",
    "t"
   ]
  },
  {
   "cell_type": "code",
   "execution_count": 64,
   "metadata": {
    "collapsed": true
   },
   "outputs": [],
   "source": [
    "def f(x):\n",
    "    return x + 10"
   ]
  },
  {
   "cell_type": "code",
   "execution_count": 65,
   "metadata": {
    "collapsed": false
   },
   "outputs": [],
   "source": [
    "for top, base in zip(t[:-1], t[1:]):\n",
    "    a[top:base] = f(a[top:base])\n",
    "a[base:] = f(a[base:])"
   ]
  },
  {
   "cell_type": "code",
   "execution_count": 66,
   "metadata": {
    "collapsed": false
   },
   "outputs": [
    {
     "data": {
      "text/plain": [
       "array([13, 13, 14, 14, 14, 14, 16, 16, 14, 14, 12, 12, 11])"
      ]
     },
     "execution_count": 66,
     "metadata": {},
     "output_type": "execute_result"
    }
   ],
   "source": [
    "a"
   ]
  },
  {
   "cell_type": "code",
   "execution_count": 67,
   "metadata": {
    "collapsed": false
   },
   "outputs": [
    {
     "data": {
      "text/plain": [
       "[(0, 2), (2, 6), (6, 8), (8, 10), (10, 12)]"
      ]
     },
     "execution_count": 67,
     "metadata": {},
     "output_type": "execute_result"
    }
   ],
   "source": [
    "list(zip(t[:-1], t[1:]))"
   ]
  },
  {
   "cell_type": "code",
   "execution_count": null,
   "metadata": {
    "collapsed": true
   },
   "outputs": [],
   "source": []
  }
 ],
 "metadata": {
  "kernelspec": {
   "display_name": "Python 3",
   "language": "python",
   "name": "python3"
  },
  "language_info": {
   "codemirror_mode": {
    "name": "ipython",
    "version": 3
   },
   "file_extension": ".py",
   "mimetype": "text/x-python",
   "name": "python",
   "nbconvert_exporter": "python",
   "pygments_lexer": "ipython3",
   "version": "3.4.3"
  }
 },
 "nbformat": 4,
 "nbformat_minor": 0
}
